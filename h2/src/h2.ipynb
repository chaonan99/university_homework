{
 "cells": [
  {
   "cell_type": "markdown",
   "metadata": {},
   "source": [
    "# Pattern Recognition, Homework 2"
   ]
  },
  {
   "cell_type": "markdown",
   "metadata": {},
   "source": [
    "* **Author** Haonan Chen\n",
    "* **Class** 32\n",
    "* **Student No.** 2013011449\n",
    "* **Date** 2016/10/22\n",
    "* **Language** [Julia](http://julialang.org/)"
   ]
  },
  {
   "cell_type": "markdown",
   "metadata": {},
   "source": [
    "## Read training and testing data"
   ]
  },
  {
   "cell_type": "markdown",
   "metadata": {},
   "source": [
    "Using `Pkg.add(package)` to install packages."
   ]
  },
  {
   "cell_type": "code",
   "execution_count": 1,
   "metadata": {
    "collapsed": false
   },
   "outputs": [],
   "source": [
    "using DataFrames\n",
    "using Distributions\n",
    "using Distances\n",
    "using MultivariateStats\n",
    "using LIBSVM"
   ]
  },
  {
   "cell_type": "code",
   "execution_count": 2,
   "metadata": {
    "collapsed": false
   },
   "outputs": [
    {
     "data": {
      "text/html": [
       "<table class=\"data-frame\"><tr><th></th><th>Sex</th><th>number</th></tr><tr><th>1</th><td>F</td><td>468</td></tr><tr><th>2</th><td>M</td><td>485</td></tr></table>"
      ],
      "text/plain": [
       "2×2 DataFrames.DataFrame\n",
       "│ Row │ Sex │ number │\n",
       "├─────┼─────┼────────┤\n",
       "│ 1   │ \"F\" │ 468    │\n",
       "│ 2   │ \"M\" │ 485    │"
      ]
     },
     "execution_count": 2,
     "metadata": {},
     "output_type": "execute_result"
    }
   ],
   "source": [
    "df_train = readtable(\"dataset3.txt\", separator = '\\t')\n",
    "df_test = readtable(\"dataset4.txt\", separator = '\\t')\n",
    "names!(df_train, cat(1, [Symbol(\"F$i\") for i in 1:10],[Symbol(\"Sex\")]))  # assign a name to each column\n",
    "names!(df_test,  cat(1, [Symbol(\"F$i\") for i in 1:10],[Symbol(\"Sex\")]))\n",
    "df_test[df_test[:,:Sex].==\"f\",:Sex]=\"F\"\n",
    "by(df_train, :Sex) do df\n",
    "  DataFrame(\n",
    "    number = length(df[:Sex]),\n",
    "  )\n",
    "end"
   ]
  },
  {
   "cell_type": "code",
   "execution_count": 3,
   "metadata": {
    "collapsed": false
   },
   "outputs": [
    {
     "data": {
      "text/html": [
       "<table class=\"data-frame\"><tr><th></th><th>Sex</th><th>number</th></tr><tr><th>1</th><td>F</td><td>77</td></tr><tr><th>2</th><td>M</td><td>250</td></tr></table>"
      ],
      "text/plain": [
       "2×2 DataFrames.DataFrame\n",
       "│ Row │ Sex │ number │\n",
       "├─────┼─────┼────────┤\n",
       "│ 1   │ \"F\" │ 77     │\n",
       "│ 2   │ \"M\" │ 250    │"
      ]
     },
     "execution_count": 3,
     "metadata": {},
     "output_type": "execute_result"
    }
   ],
   "source": [
    "by(df_test, :Sex) do df\n",
    "  DataFrame(\n",
    "    number = length(df[:Sex]),\n",
    "  )\n",
    "end"
   ]
  },
  {
   "cell_type": "code",
   "execution_count": 4,
   "metadata": {
    "collapsed": false
   },
   "outputs": [
    {
     "data": {
      "text/html": [
       "<table class=\"data-frame\"><tr><th></th><th>F3</th><th>F5</th></tr><tr><th>1</th><td>54.0</td><td>165.0</td></tr><tr><th>2</th><td>50.0</td><td>157.0</td></tr><tr><th>3</th><td>49.0</td><td>172.0</td></tr><tr><th>4</th><td>53.0</td><td>165.0</td></tr><tr><th>5</th><td>51.0</td><td>172.0</td></tr><tr><th>6</th><td>48.0</td><td>150.0</td></tr><tr><th>7</th><td>42.5</td><td>160.0</td></tr><tr><th>8</th><td>58.0</td><td>165.0</td></tr><tr><th>9</th><td>50.0</td><td>160.0</td></tr><tr><th>10</th><td>67.0</td><td>160.0</td></tr></table>"
      ],
      "text/plain": [
       "10×2 DataFrames.DataFrame\n",
       "│ Row │ F3   │ F5    │\n",
       "├─────┼──────┼───────┤\n",
       "│ 1   │ 54.0 │ 165.0 │\n",
       "│ 2   │ 50.0 │ 157.0 │\n",
       "│ 3   │ 49.0 │ 172.0 │\n",
       "│ 4   │ 53.0 │ 165.0 │\n",
       "│ 5   │ 51.0 │ 172.0 │\n",
       "│ 6   │ 48.0 │ 150.0 │\n",
       "│ 7   │ 42.5 │ 160.0 │\n",
       "│ 8   │ 58.0 │ 165.0 │\n",
       "│ 9   │ 50.0 │ 160.0 │\n",
       "│ 10  │ 67.0 │ 160.0 │"
      ]
     },
     "execution_count": 4,
     "metadata": {},
     "output_type": "execute_result"
    }
   ],
   "source": [
    "df_train_two_F = df_train[df_train[:,:Sex].==\"F\",[:F3,:F5]]\n",
    "df_train_two_M = df_train[df_train[:,:Sex].==\"M\",[:F3,:F5]]\n",
    "df_train_two_F_s = df_train_two_F[sample(1:size(df_train_two_F, 1), 10, replace = false), :]"
   ]
  },
  {
   "cell_type": "code",
   "execution_count": 5,
   "metadata": {
    "collapsed": false
   },
   "outputs": [
    {
     "data": {
      "text/html": [
       "<table class=\"data-frame\"><tr><th></th><th>F3</th><th>F5</th></tr><tr><th>1</th><td>80.0</td><td>176.0</td></tr><tr><th>2</th><td>73.0</td><td>176.0</td></tr><tr><th>3</th><td>64.0</td><td>179.0</td></tr><tr><th>4</th><td>85.0</td><td>171.0</td></tr><tr><th>5</th><td>70.0</td><td>173.0</td></tr><tr><th>6</th><td>70.0</td><td>172.0</td></tr><tr><th>7</th><td>72.0</td><td>169.0</td></tr><tr><th>8</th><td>68.0</td><td>180.0</td></tr><tr><th>9</th><td>77.0</td><td>175.0</td></tr><tr><th>10</th><td>72.0</td><td>170.0</td></tr></table>"
      ],
      "text/plain": [
       "10×2 DataFrames.DataFrame\n",
       "│ Row │ F3   │ F5    │\n",
       "├─────┼──────┼───────┤\n",
       "│ 1   │ 80.0 │ 176.0 │\n",
       "│ 2   │ 73.0 │ 176.0 │\n",
       "│ 3   │ 64.0 │ 179.0 │\n",
       "│ 4   │ 85.0 │ 171.0 │\n",
       "│ 5   │ 70.0 │ 173.0 │\n",
       "│ 6   │ 70.0 │ 172.0 │\n",
       "│ 7   │ 72.0 │ 169.0 │\n",
       "│ 8   │ 68.0 │ 180.0 │\n",
       "│ 9   │ 77.0 │ 175.0 │\n",
       "│ 10  │ 72.0 │ 170.0 │"
      ]
     },
     "execution_count": 5,
     "metadata": {},
     "output_type": "execute_result"
    }
   ],
   "source": [
    "df_train_two_M_s = df_train_two_M[sample(1:size(df_train_two_M, 1), 10, replace = false), :]"
   ]
  },
  {
   "cell_type": "code",
   "execution_count": 6,
   "metadata": {
    "collapsed": false
   },
   "outputs": [
    {
     "data": {
      "text/html": [
       "<table class=\"data-frame\"><tr><th></th><th>F1</th><th>F2</th><th>F3</th><th>F4</th><th>F5</th><th>F6</th><th>F7</th><th>F8</th><th>F9</th><th>F10</th></tr><tr><th>1</th><td>282.24</td><td>33.64</td><td>58.0</td><td>20.55</td><td>168.0</td><td>162.0</td><td>62.0</td><td>166.82</td><td>163.64</td><td>172.1</td></tr><tr><th>2</th><td>299.29</td><td>40.96</td><td>64.0</td><td>21.38</td><td>173.0</td><td>165.0</td><td>55.0</td><td>173.37</td><td>167.93</td><td>193.36</td></tr><tr><th>3</th><td>256.0</td><td>26.01</td><td>51.0</td><td>19.92</td><td>160.0</td><td>179.0</td><td>63.0</td><td>154.33</td><td>175.41</td><td>186.56</td></tr><tr><th>4</th><td>265.69</td><td>28.09</td><td>53.0</td><td>19.95</td><td>163.0</td><td>175.0</td><td>56.0</td><td>185.55</td><td>173.46</td><td>169.35</td></tr><tr><th>5</th><td>256.0</td><td>24.01</td><td>49.0</td><td>19.14</td><td>160.0</td><td>182.0</td><td>67.0</td><td>173.25</td><td>171.56</td><td>172.51</td></tr><tr><th>6</th><td>256.0</td><td>21.16</td><td>46.0</td><td>17.97</td><td>160.0</td><td>179.0</td><td>75.0</td><td>168.29</td><td>166.21</td><td>194.84</td></tr><tr><th>7</th><td>256.0</td><td>25.0</td><td>50.0</td><td>19.53</td><td>160.0</td><td>160.0</td><td>50.0</td><td>178.74</td><td>167.99</td><td>182.98</td></tr><tr><th>8</th><td>265.69</td><td>30.25</td><td>55.0</td><td>20.7</td><td>163.0</td><td>172.0</td><td>64.0</td><td>184.24</td><td>169.06</td><td>173.31</td></tr><tr><th>9</th><td>256.0</td><td>30.25</td><td>55.0</td><td>21.48</td><td>160.0</td><td>156.0</td><td>40.0</td><td>168.4</td><td>173.58</td><td>189.7</td></tr><tr><th>10</th><td>259.21</td><td>29.16</td><td>54.0</td><td>20.83</td><td>161.0</td><td>175.0</td><td>60.0</td><td>162.09</td><td>176.58</td><td>174.42</td></tr><tr><th>11</th><td>268.96</td><td>47.61</td><td>69.0</td><td>25.65</td><td>164.0</td><td>168.0</td><td>42.0</td><td>186.35</td><td>175.96</td><td>190.16</td></tr></table>"
      ],
      "text/plain": [
       "11×10 DataFrames.DataFrame\n",
       "│ Row │ F1     │ F2    │ F3   │ F4    │ F5    │ F6    │ F7   │ F8     │ F9     │\n",
       "├─────┼────────┼───────┼──────┼───────┼───────┼───────┼──────┼────────┼────────┤\n",
       "│ 1   │ 282.24 │ 33.64 │ 58.0 │ 20.55 │ 168.0 │ 162.0 │ 62.0 │ 166.82 │ 163.64 │\n",
       "│ 2   │ 299.29 │ 40.96 │ 64.0 │ 21.38 │ 173.0 │ 165.0 │ 55.0 │ 173.37 │ 167.93 │\n",
       "│ 3   │ 256.0  │ 26.01 │ 51.0 │ 19.92 │ 160.0 │ 179.0 │ 63.0 │ 154.33 │ 175.41 │\n",
       "│ 4   │ 265.69 │ 28.09 │ 53.0 │ 19.95 │ 163.0 │ 175.0 │ 56.0 │ 185.55 │ 173.46 │\n",
       "│ 5   │ 256.0  │ 24.01 │ 49.0 │ 19.14 │ 160.0 │ 182.0 │ 67.0 │ 173.25 │ 171.56 │\n",
       "│ 6   │ 256.0  │ 21.16 │ 46.0 │ 17.97 │ 160.0 │ 179.0 │ 75.0 │ 168.29 │ 166.21 │\n",
       "│ 7   │ 256.0  │ 25.0  │ 50.0 │ 19.53 │ 160.0 │ 160.0 │ 50.0 │ 178.74 │ 167.99 │\n",
       "│ 8   │ 265.69 │ 30.25 │ 55.0 │ 20.7  │ 163.0 │ 172.0 │ 64.0 │ 184.24 │ 169.06 │\n",
       "│ 9   │ 256.0  │ 30.25 │ 55.0 │ 21.48 │ 160.0 │ 156.0 │ 40.0 │ 168.4  │ 173.58 │\n",
       "│ 10  │ 259.21 │ 29.16 │ 54.0 │ 20.83 │ 161.0 │ 175.0 │ 60.0 │ 162.09 │ 176.58 │\n",
       "│ 11  │ 268.96 │ 47.61 │ 69.0 │ 25.65 │ 164.0 │ 168.0 │ 42.0 │ 186.35 │ 175.96 │\n",
       "\n",
       "│ Row │ F10    │\n",
       "├─────┼────────┤\n",
       "│ 1   │ 172.1  │\n",
       "│ 2   │ 193.36 │\n",
       "│ 3   │ 186.56 │\n",
       "│ 4   │ 169.35 │\n",
       "│ 5   │ 172.51 │\n",
       "│ 6   │ 194.84 │\n",
       "│ 7   │ 182.98 │\n",
       "│ 8   │ 173.31 │\n",
       "│ 9   │ 189.7  │\n",
       "│ 10  │ 174.42 │\n",
       "│ 11  │ 190.16 │"
      ]
     },
     "execution_count": 6,
     "metadata": {},
     "output_type": "execute_result"
    }
   ],
   "source": [
    "df_train_ten_F = df_train[df_train[:,:Sex].==\"F\", 1:10]\n",
    "df_train_ten_M = df_train[df_train[:,:Sex].==\"M\", 1:10]\n",
    "df_train_ten_F_s = df_train_ten_F[sample(1:size(df_train_ten_F, 1), 11, replace = false), :]"
   ]
  },
  {
   "cell_type": "code",
   "execution_count": 7,
   "metadata": {
    "collapsed": false
   },
   "outputs": [
    {
     "data": {
      "text/html": [
       "<table class=\"data-frame\"><tr><th></th><th>F1</th><th>F2</th><th>F3</th><th>F4</th><th>F5</th><th>F6</th><th>F7</th><th>F8</th><th>F9</th><th>F10</th></tr><tr><th>1</th><td>299.29</td><td>36.0</td><td>60.0</td><td>20.05</td><td>173.0</td><td>178.0</td><td>70.0</td><td>162.95</td><td>171.17</td><td>149.87</td></tr><tr><th>2</th><td>338.56</td><td>60.84</td><td>78.0</td><td>23.04</td><td>184.0</td><td>170.0</td><td>72.0</td><td>175.43</td><td>166.52</td><td>196.14</td></tr><tr><th>3</th><td>316.84</td><td>42.25</td><td>65.0</td><td>20.52</td><td>178.0</td><td>163.0</td><td>65.0</td><td>164.61</td><td>178.37</td><td>155.38</td></tr><tr><th>4</th><td>309.76</td><td>43.56</td><td>66.0</td><td>21.31</td><td>176.0</td><td>166.0</td><td>52.0</td><td>153.7</td><td>170.49</td><td>156.21</td></tr><tr><th>5</th><td>316.84</td><td>49.0</td><td>70.0</td><td>22.09</td><td>178.0</td><td>180.0</td><td>49.0</td><td>166.78</td><td>178.23</td><td>190.02</td></tr><tr><th>6</th><td>299.29</td><td>56.25</td><td>75.0</td><td>25.06</td><td>173.0</td><td>160.0</td><td>62.0</td><td>181.74</td><td>179.88</td><td>186.35</td></tr><tr><th>7</th><td>327.61</td><td>39.69</td><td>63.0</td><td>19.23</td><td>181.0</td><td>180.0</td><td>59.0</td><td>162.84</td><td>168.47</td><td>197.27</td></tr><tr><th>8</th><td>316.84</td><td>51.84</td><td>72.0</td><td>22.72</td><td>178.0</td><td>182.0</td><td>47.0</td><td>183.09</td><td>166.97</td><td>150.21</td></tr><tr><th>9</th><td>327.61</td><td>42.25</td><td>65.0</td><td>19.84</td><td>181.0</td><td>172.0</td><td>70.0</td><td>175.91</td><td>165.59</td><td>155.46</td></tr><tr><th>10</th><td>309.76</td><td>39.69</td><td>63.0</td><td>20.34</td><td>176.0</td><td>180.0</td><td>80.0</td><td>171.34</td><td>164.25</td><td>174.61</td></tr><tr><th>11</th><td>289.0</td><td>42.25</td><td>65.0</td><td>22.49</td><td>170.0</td><td>164.0</td><td>67.0</td><td>166.88</td><td>168.55</td><td>186.09</td></tr></table>"
      ],
      "text/plain": [
       "11×10 DataFrames.DataFrame\n",
       "│ Row │ F1     │ F2    │ F3   │ F4    │ F5    │ F6    │ F7   │ F8     │ F9     │\n",
       "├─────┼────────┼───────┼──────┼───────┼───────┼───────┼──────┼────────┼────────┤\n",
       "│ 1   │ 299.29 │ 36.0  │ 60.0 │ 20.05 │ 173.0 │ 178.0 │ 70.0 │ 162.95 │ 171.17 │\n",
       "│ 2   │ 338.56 │ 60.84 │ 78.0 │ 23.04 │ 184.0 │ 170.0 │ 72.0 │ 175.43 │ 166.52 │\n",
       "│ 3   │ 316.84 │ 42.25 │ 65.0 │ 20.52 │ 178.0 │ 163.0 │ 65.0 │ 164.61 │ 178.37 │\n",
       "│ 4   │ 309.76 │ 43.56 │ 66.0 │ 21.31 │ 176.0 │ 166.0 │ 52.0 │ 153.7  │ 170.49 │\n",
       "│ 5   │ 316.84 │ 49.0  │ 70.0 │ 22.09 │ 178.0 │ 180.0 │ 49.0 │ 166.78 │ 178.23 │\n",
       "│ 6   │ 299.29 │ 56.25 │ 75.0 │ 25.06 │ 173.0 │ 160.0 │ 62.0 │ 181.74 │ 179.88 │\n",
       "│ 7   │ 327.61 │ 39.69 │ 63.0 │ 19.23 │ 181.0 │ 180.0 │ 59.0 │ 162.84 │ 168.47 │\n",
       "│ 8   │ 316.84 │ 51.84 │ 72.0 │ 22.72 │ 178.0 │ 182.0 │ 47.0 │ 183.09 │ 166.97 │\n",
       "│ 9   │ 327.61 │ 42.25 │ 65.0 │ 19.84 │ 181.0 │ 172.0 │ 70.0 │ 175.91 │ 165.59 │\n",
       "│ 10  │ 309.76 │ 39.69 │ 63.0 │ 20.34 │ 176.0 │ 180.0 │ 80.0 │ 171.34 │ 164.25 │\n",
       "│ 11  │ 289.0  │ 42.25 │ 65.0 │ 22.49 │ 170.0 │ 164.0 │ 67.0 │ 166.88 │ 168.55 │\n",
       "\n",
       "│ Row │ F10    │\n",
       "├─────┼────────┤\n",
       "│ 1   │ 149.87 │\n",
       "│ 2   │ 196.14 │\n",
       "│ 3   │ 155.38 │\n",
       "│ 4   │ 156.21 │\n",
       "│ 5   │ 190.02 │\n",
       "│ 6   │ 186.35 │\n",
       "│ 7   │ 197.27 │\n",
       "│ 8   │ 150.21 │\n",
       "│ 9   │ 155.46 │\n",
       "│ 10  │ 174.61 │\n",
       "│ 11  │ 186.09 │"
      ]
     },
     "execution_count": 7,
     "metadata": {},
     "output_type": "execute_result"
    }
   ],
   "source": [
    "df_train_ten_M_s = df_train_ten_M[sample(1:size(df_train_two_M, 1), 11, replace = false), :]"
   ]
  },
  {
   "cell_type": "markdown",
   "metadata": {},
   "source": [
    "## Sex Classification with Bayes Classifier"
   ]
  },
  {
   "cell_type": "markdown",
   "metadata": {},
   "source": [
    "Follow this procedure:\n",
    "\n",
    "* Fit Normal Distribution in each class in the training dataa to get parameters $\\mu_i$ and $\\Sigma_i$.\n",
    "* Decision boundary can be determined by\n",
    "$$\n",
    "    -\\frac12[(x-\\mu_i)^\\mathbf{T}\\Sigma_i^{-1}(x-\\mu_i)-(x-\\mu_j)^\\mathbf{T}\\Sigma_j^{-1}(x-\\mu_j)]-\\frac12\\ln \\frac{|\\Sigma_i|}{|\\Sigma_j|}+\\ln\\frac{P(\\omega_i)}{P(\\omega_j)}=0\n",
    "$$\n",
    "* Then we can make prediction on test set.\n",
    "\n",
    "Note that we are assuming the priori probability $P(\\omega_i)=P(\\omega_j)=0.5$, so the last item in the formular above can be ignored."
   ]
  },
  {
   "cell_type": "markdown",
   "metadata": {},
   "source": [
    "### Using all samples"
   ]
  },
  {
   "cell_type": "code",
   "execution_count": 8,
   "metadata": {
    "collapsed": false
   },
   "outputs": [
    {
     "data": {
      "text/plain": [
       "FullNormal(\n",
       "dim: 2\n",
       "μ: [51.7457,163.632]\n",
       "Σ: [39.2591 16.5807; 16.5807 30.053]\n",
       ")\n"
      ]
     },
     "execution_count": 8,
     "metadata": {},
     "output_type": "execute_result"
    }
   ],
   "source": [
    "# Distribution for female (female first)\n",
    "norm_two_F = fit(MvNormal, Array(df_train_two_F)')"
   ]
  },
  {
   "cell_type": "code",
   "execution_count": 9,
   "metadata": {
    "collapsed": false
   },
   "outputs": [
    {
     "data": {
      "text/plain": [
       "FullNormal(\n",
       "dim: 2\n",
       "μ: [68.0334,176.41]\n",
       "Σ: [85.2565 23.3637; 23.3637 32.5048]\n",
       ")\n"
      ]
     },
     "execution_count": 9,
     "metadata": {},
     "output_type": "execute_result"
    }
   ],
   "source": [
    "# Distribution for male\n",
    "norm_two_M = fit(MvNormal, Array(df_train_two_M)')"
   ]
  },
  {
   "cell_type": "code",
   "execution_count": 10,
   "metadata": {
    "collapsed": false
   },
   "outputs": [
    {
     "data": {
      "text/plain": [
       "0.14067278287461774"
      ]
     },
     "execution_count": 10,
     "metadata": {},
     "output_type": "execute_result"
    }
   ],
   "source": [
    "maha_two_M = pairwise(SqMahalanobis(norm_two_M.Σ.mat), Array(df_test[:,[:F3, :F5]])', norm_two_M.μ'')\n",
    "maha_two_F = pairwise(SqMahalanobis(norm_two_F.Σ.mat), Array(df_test[:,[:F3, :F5]])', norm_two_F.μ'')\n",
    "predict_two = (maha_two_M - maha_two_F + log(det(norm_two_M.Σ.mat)/det(norm_two_F.Σ.mat))) .< 0  # true denotes \"M\"\n",
    "error_two = sum(Array(df_test[:, :Sex] .== \"M\").!=predict_two)/length(predict_two)  # error rate"
   ]
  },
  {
   "cell_type": "code",
   "execution_count": 11,
   "metadata": {
    "collapsed": false
   },
   "outputs": [
    {
     "data": {
      "text/plain": [
       "0.16819571865443425"
      ]
     },
     "execution_count": 11,
     "metadata": {},
     "output_type": "execute_result"
    }
   ],
   "source": [
    "norm_ten_F = fit(MvNormal, Array(df_train_ten_F)')  # Distribution for female\n",
    "norm_ten_M = fit(MvNormal, Array(df_train_ten_M)')  # Distribution for male\n",
    "maha_ten_M = pairwise(SqMahalanobis(norm_ten_M.Σ.mat), Array(df_test[:,1:10])', norm_ten_M.μ'')\n",
    "maha_ten_F = pairwise(SqMahalanobis(norm_ten_F.Σ.mat), Array(df_test[:,1:10])', norm_ten_F.μ'')\n",
    "predict_ten = (maha_ten_M - maha_ten_F + log(det(norm_ten_M.Σ.mat)/det(norm_ten_F.Σ.mat))) .< 0  # true denotes \"M\"\n",
    "error_ten = sum(Array(df_test[:, :Sex] .== \"M\").!=predict_ten)/length(predict_ten)  # error rate"
   ]
  },
  {
   "cell_type": "markdown",
   "metadata": {
    "collapsed": true
   },
   "source": [
    "### Randomly pick 10 samples"
   ]
  },
  {
   "cell_type": "code",
   "execution_count": 12,
   "metadata": {
    "collapsed": false
   },
   "outputs": [
    {
     "data": {
      "text/plain": [
       "0.13149847094801223"
      ]
     },
     "execution_count": 12,
     "metadata": {},
     "output_type": "execute_result"
    }
   ],
   "source": [
    "norm_two_F_s = fit(MvNormal, Array(df_train_two_F_s)')  # Distribution for female\n",
    "norm_two_M_s = fit(MvNormal, Array(df_train_two_M_s)')  # Distribution for male\n",
    "maha_two_M_s = pairwise(SqMahalanobis(norm_two_M_s.Σ.mat), Array(df_test[:,[:F3, :F5]])', norm_two_M_s.μ'')\n",
    "maha_two_F_s = pairwise(SqMahalanobis(norm_two_F_s.Σ.mat), Array(df_test[:,[:F3, :F5]])', norm_two_F_s.μ'')\n",
    "predict_two_s = (maha_two_M_s - maha_two_F_s + log(det(norm_two_M_s.Σ.mat)/det(norm_two_F_s.Σ.mat))) .< 0  # true denotes \"M\"\n",
    "error_two_s = sum(Array(df_test[:, :Sex] .== \"M\").!=predict_two_s)/length(predict_two_s)  # error rate"
   ]
  },
  {
   "cell_type": "code",
   "execution_count": 13,
   "metadata": {
    "collapsed": false
   },
   "outputs": [
    {
     "data": {
      "text/plain": [
       "0.14984709480122324"
      ]
     },
     "execution_count": 13,
     "metadata": {},
     "output_type": "execute_result"
    }
   ],
   "source": [
    "norm_ten_F_s = fit(MvNormal, Array(df_train_ten_F_s)')  # Distribution for female\n",
    "norm_ten_M_s = fit(MvNormal, Array(df_train_ten_M_s)')  # Distribution for male\n",
    "maha_ten_M_s = pairwise(SqMahalanobis(norm_ten_M_s.Σ.mat), Array(df_test[:,1:10])', norm_ten_M_s.μ'')\n",
    "maha_ten_F_s = pairwise(SqMahalanobis(norm_ten_F_s.Σ.mat), Array(df_test[:,1:10])', norm_ten_F_s.μ'')\n",
    "predict_ten_s = (maha_ten_M_s - maha_ten_F_s + log(det(norm_ten_M_s.Σ.mat)/det(norm_ten_F_s.Σ.mat))) .< 0  # true denotes \"M\"\n",
    "error_ten_s = sum(Array(df_test[:, :Sex] .== \"M\").!=predict_ten_s)/length(predict_ten_s)  # error rate"
   ]
  },
  {
   "cell_type": "markdown",
   "metadata": {},
   "source": [
    "## Sex Classification with LDA"
   ]
  },
  {
   "cell_type": "markdown",
   "metadata": {},
   "source": [
    "For LDA, I use [MultivariateStats](https://github.com/JuliaStats/MultivariateStats.jl). See the document for more details.\n",
    "\n",
    "A linear discriminant functional can be written as:\n",
    "$$\n",
    "f(\\mathbf{x}) = \\mathbf{w}^T \\mathbf{x} + b\n",
    "$$\n",
    "Suppose the samples in the positive and negative classes respectively with means:  $\\boldsymbol{\\mu}_p$ and $\\boldsymbol{\\mu}_n$ , and within-class scatter matrixes  $\\mathbf{S}_p$ and  $\\mathbf{S}_n$. Then based on *Fisher's Linear Discriminant Criteria*, the optimal projection direction can be expressed as:\n",
    "$$\n",
    "\\mathbf{w} = \\alpha \\cdot (\\mathbf{S}_p + \\mathbf{S}_n)^{-1} (\\boldsymbol{\\mu}_p - \\boldsymbol{\\mu}_n)\n",
    "$$\n",
    "Here $\\alpha$ is an arbitrary non-negative coefficient.\n",
    "The threshold $b$ can be obtained by:\n",
    "$$\n",
    "b = -\\frac12(\\boldsymbol{\\mu}_p + \\boldsymbol{\\mu}_n)(\\mathbf{S}_p + \\mathbf{S}_n)^{-1} (\\boldsymbol{\\mu}_p - \\boldsymbol{\\mu}_n)-\\ln\\frac{P(\\omega_p)}{P(\\omega_n)}\n",
    "$$\n",
    "Again we assume $P(\\omega_p)=P(\\omega_n)=0.5$, then the last item can be ignored."
   ]
  },
  {
   "cell_type": "markdown",
   "metadata": {},
   "source": [
    "### Using all samples"
   ]
  },
  {
   "cell_type": "code",
   "execution_count": 14,
   "metadata": {
    "collapsed": false
   },
   "outputs": [
    {
     "data": {
      "text/plain": [
       "MultivariateStats.LinearDiscriminant{Float64}([0.0497863,0.0930593],-18.803757960270772)"
      ]
     },
     "execution_count": 14,
     "metadata": {},
     "output_type": "execute_result"
    }
   ],
   "source": [
    "lda_model_two = fit(LinearDiscriminant, Array(df_train_two_M)', Array(df_train_two_F)')"
   ]
  },
  {
   "cell_type": "code",
   "execution_count": 20,
   "metadata": {
    "collapsed": false
   },
   "outputs": [
    {
     "data": {
      "text/plain": [
       "0.1162079510703364"
      ]
     },
     "execution_count": 20,
     "metadata": {},
     "output_type": "execute_result"
    }
   ],
   "source": [
    "error_lda_two = sum(Array(df_test[:, :Sex] .== \"M\") .!= predict(lda_model_two, Matrix(df_test[:, [:F3, :F5]])'))/size(df_test, 1)  # error rate"
   ]
  },
  {
   "cell_type": "code",
   "execution_count": 21,
   "metadata": {
    "collapsed": false
   },
   "outputs": [
    {
     "data": {
      "text/plain": [
       "0.10091743119266056"
      ]
     },
     "execution_count": 21,
     "metadata": {},
     "output_type": "execute_result"
    }
   ],
   "source": [
    "lda_model_ten = fit(LinearDiscriminant, Array(df_train_ten_M)', Array(df_train_ten_F)')\n",
    "error_lda_ten = sum(Array(df_test[:, :Sex] .== \"M\") .!= predict(lda_model_ten, Matrix(df_test[:, 1:10])'))/size(df_test, 1)  # error rate"
   ]
  },
  {
   "cell_type": "markdown",
   "metadata": {
    "collapsed": false
   },
   "source": [
    "### Randomly pick 10 samples"
   ]
  },
  {
   "cell_type": "code",
   "execution_count": 22,
   "metadata": {
    "collapsed": false
   },
   "outputs": [
    {
     "data": {
      "text/plain": [
       "0.13761467889908258"
      ]
     },
     "execution_count": 22,
     "metadata": {},
     "output_type": "execute_result"
    }
   ],
   "source": [
    "lda_model_two_s = fit(LinearDiscriminant, Array(df_train_two_M_s)', Array(df_train_two_F_s)')\n",
    "error_lda_two_s = sum(Array(df_test[:, :Sex] .== \"M\") .!= predict(lda_model_two_s, Matrix(df_test[:, [:F3, :F5]])'))/size(df_test, 1)"
   ]
  },
  {
   "cell_type": "code",
   "execution_count": 24,
   "metadata": {
    "collapsed": false
   },
   "outputs": [
    {
     "data": {
      "text/plain": [
       "0.12232415902140673"
      ]
     },
     "execution_count": 24,
     "metadata": {},
     "output_type": "execute_result"
    }
   ],
   "source": [
    "lda_model_ten_s = fit(LinearDiscriminant, Array(df_train_ten_M_s)', Array(df_train_ten_F_s)')\n",
    "error_lda_ten_s = sum(Array(df_test[:, :Sex] .== \"M\") .!= predict(lda_model_ten_s, Matrix(df_test[:, 1:10])'))/size(df_test, 1)"
   ]
  },
  {
   "cell_type": "markdown",
   "metadata": {},
   "source": [
    "## Sex Classification with Linear SVM"
   ]
  },
  {
   "cell_type": "markdown",
   "metadata": {},
   "source": [
    "### Using all samples"
   ]
  },
  {
   "cell_type": "markdown",
   "metadata": {},
   "source": [
    "### Randomly pick 10 samples"
   ]
  },
  {
   "cell_type": "code",
   "execution_count": null,
   "metadata": {
    "collapsed": true
   },
   "outputs": [],
   "source": []
  },
  {
   "cell_type": "markdown",
   "metadata": {},
   "source": [
    "## Sex Classification with MLP"
   ]
  },
  {
   "cell_type": "markdown",
   "metadata": {},
   "source": [
    "### Using all samples"
   ]
  },
  {
   "cell_type": "markdown",
   "metadata": {},
   "source": [
    "### Randomly pick 10 samples"
   ]
  },
  {
   "cell_type": "code",
   "execution_count": null,
   "metadata": {
    "collapsed": true
   },
   "outputs": [],
   "source": []
  }
 ],
 "metadata": {
  "kernelspec": {
   "display_name": "Julia 0.5.0",
   "language": "julia",
   "name": "julia-0.5"
  },
  "language_info": {
   "file_extension": ".jl",
   "mimetype": "application/julia",
   "name": "julia",
   "version": "0.5.0"
  }
 },
 "nbformat": 4,
 "nbformat_minor": 1
}
