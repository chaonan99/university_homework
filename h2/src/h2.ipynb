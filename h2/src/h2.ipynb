{
 "cells": [
  {
   "cell_type": "markdown",
   "metadata": {},
   "source": [
    "# Pattern Recognition, Homework 2"
   ]
  },
  {
   "cell_type": "markdown",
   "metadata": {},
   "source": [
    "* **Author** [Haonan Chen](https://chaonan99.github.io/about/)\n",
    "* **Class** 32\n",
    "* **Student No.** 2013011449\n",
    "* **Date** 2016/10/25\n",
    "* **Language**\n",
    "[![logo](https://raw.githubusercontent.com/docker-library/docs/520519ad7db3ea9fd5d3590e836c839a0ffd6f19/julia/logo.png)](http://julialang.org/)\n",
    "* [Source code](https://github.com/chaonan99/PR_hw/blob/master/h2/src/h2.ipynb) on GitHub."
   ]
  },
  {
   "cell_type": "markdown",
   "metadata": {},
   "source": [
    "## Result highlight\n",
    "* Error rate\n",
    "\n",
    "|           Sampling           | Features |    Bayes   |     FLD    | Linear SVM |      MLP(hidden_nodes=12)     |\n",
    "|:----------------------------:|:--------:|:----------:|:----------:|:----------:|:-----------------------------:|\n",
    "| 10+10 (different every time) |    10    | 12.538226% | 26.299694% | 24.464832% | 72.47706422018348%(epoch=100) |\n",
    "|  10+10(different every time) |     2    | 22.324159% | 15.596330% | 17.125382% | 82.87461773700305%(epoch=100) |\n",
    "|            469+485           |    10    | 16.819572% | 10.091743% | 11.926606% | 11.62079510703364%(epoch=500) |\n",
    "|            469+485           |     2    | 14.067278% | 11.620795% | 12.232416% | 7.339449541284404%(epoch=500) |"
   ]
  },
  {
   "cell_type": "markdown",
   "metadata": {},
   "source": [
    "## Read training and testing data"
   ]
  },
  {
   "cell_type": "markdown",
   "metadata": {},
   "source": [
    "Using `Pkg.add(package)` to install packages. Packages unregistered on METADATA should should be installed using `Pkg.clone(\"...\")`. Refer to related section in this demo for more information."
   ]
  },
  {
   "cell_type": "code",
   "execution_count": 1,
   "metadata": {
    "collapsed": false
   },
   "outputs": [],
   "source": [
    "using DataFrames\n",
    "using Distributions\n",
    "using Distances\n",
    "using MultivariateStats\n",
    "using LIBSVM  # unregistered: refer to SVM section to learn how to install\n",
    "using ANN  # unregistered: refer to MLP section to learn how to install"
   ]
  },
  {
   "cell_type": "code",
   "execution_count": 2,
   "metadata": {
    "collapsed": false
   },
   "outputs": [
    {
     "data": {
      "text/html": [
       "<table class=\"data-frame\"><tr><th></th><th>Sex</th><th>number</th></tr><tr><th>1</th><td>F</td><td>468</td></tr><tr><th>2</th><td>M</td><td>485</td></tr></table>"
      ],
      "text/plain": [
       "2×2 DataFrames.DataFrame\n",
       "│ Row │ Sex │ number │\n",
       "├─────┼─────┼────────┤\n",
       "│ 1   │ \"F\" │ 468    │\n",
       "│ 2   │ \"M\" │ 485    │"
      ]
     },
     "execution_count": 2,
     "metadata": {},
     "output_type": "execute_result"
    }
   ],
   "source": [
    "df_train = readtable(\"dataset3.txt\", separator = '\\t')\n",
    "df_test = readtable(\"dataset4.txt\", separator = '\\t')\n",
    "names!(df_train, cat(1, [Symbol(\"F$i\") for i in 1:10],[Symbol(\"Sex\")]))  # assign a name to each column\n",
    "names!(df_test,  cat(1, [Symbol(\"F$i\") for i in 1:10],[Symbol(\"Sex\")]))\n",
    "df_test[df_test[:,:Sex].==\"f\",:Sex]=\"F\"\n",
    "by(df_train, :Sex) do df\n",
    "  DataFrame(\n",
    "    number = length(df[:Sex]),\n",
    "  )\n",
    "end"
   ]
  },
  {
   "cell_type": "code",
   "execution_count": 3,
   "metadata": {
    "collapsed": false
   },
   "outputs": [
    {
     "data": {
      "text/html": [
       "<table class=\"data-frame\"><tr><th></th><th>Sex</th><th>number</th></tr><tr><th>1</th><td>F</td><td>77</td></tr><tr><th>2</th><td>M</td><td>250</td></tr></table>"
      ],
      "text/plain": [
       "2×2 DataFrames.DataFrame\n",
       "│ Row │ Sex │ number │\n",
       "├─────┼─────┼────────┤\n",
       "│ 1   │ \"F\" │ 77     │\n",
       "│ 2   │ \"M\" │ 250    │"
      ]
     },
     "execution_count": 3,
     "metadata": {},
     "output_type": "execute_result"
    }
   ],
   "source": [
    "by(df_test, :Sex) do df\n",
    "  DataFrame(\n",
    "    number = length(df[:Sex]),\n",
    "  )\n",
    "end"
   ]
  },
  {
   "cell_type": "code",
   "execution_count": 4,
   "metadata": {
    "collapsed": false
   },
   "outputs": [
    {
     "name": "stdout",
     "output_type": "stream",
     "text": [
      "Randomly picked samples with two features for female\n"
     ]
    },
    {
     "data": {
      "text/html": [
       "<table class=\"data-frame\"><tr><th></th><th>F3</th><th>F5</th></tr><tr><th>1</th><td>51.0</td><td>163.0</td></tr><tr><th>2</th><td>54.0</td><td>160.0</td></tr><tr><th>3</th><td>53.0</td><td>170.0</td></tr><tr><th>4</th><td>52.0</td><td>169.0</td></tr><tr><th>5</th><td>49.0</td><td>163.0</td></tr><tr><th>6</th><td>63.0</td><td>171.0</td></tr><tr><th>7</th><td>50.0</td><td>160.0</td></tr><tr><th>8</th><td>50.0</td><td>157.0</td></tr><tr><th>9</th><td>50.0</td><td>160.0</td></tr><tr><th>10</th><td>58.0</td><td>166.0</td></tr></table>"
      ],
      "text/plain": [
       "10×2 DataFrames.DataFrame\n",
       "│ Row │ F3   │ F5    │\n",
       "├─────┼──────┼───────┤\n",
       "│ 1   │ 51.0 │ 163.0 │\n",
       "│ 2   │ 54.0 │ 160.0 │\n",
       "│ 3   │ 53.0 │ 170.0 │\n",
       "│ 4   │ 52.0 │ 169.0 │\n",
       "│ 5   │ 49.0 │ 163.0 │\n",
       "│ 6   │ 63.0 │ 171.0 │\n",
       "│ 7   │ 50.0 │ 160.0 │\n",
       "│ 8   │ 50.0 │ 157.0 │\n",
       "│ 9   │ 50.0 │ 160.0 │\n",
       "│ 10  │ 58.0 │ 166.0 │"
      ]
     },
     "execution_count": 4,
     "metadata": {},
     "output_type": "execute_result"
    }
   ],
   "source": [
    "df_train_two_F = df_train[df_train[:,:Sex].==\"F\",[:F3,:F5]]\n",
    "df_train_two_M = df_train[df_train[:,:Sex].==\"M\",[:F3,:F5]]\n",
    "println(\"Randomly picked samples with two features for female\")\n",
    "df_train_two_F_s = df_train_two_F[sample(1:size(df_train_two_F, 1), 10, replace = false), :]"
   ]
  },
  {
   "cell_type": "code",
   "execution_count": 5,
   "metadata": {
    "collapsed": false
   },
   "outputs": [
    {
     "name": "stdout",
     "output_type": "stream",
     "text": [
      "Randomly picked samples with two features for male\n"
     ]
    },
    {
     "data": {
      "text/html": [
       "<table class=\"data-frame\"><tr><th></th><th>F3</th><th>F5</th></tr><tr><th>1</th><td>75.0</td><td>173.0</td></tr><tr><th>2</th><td>63.0</td><td>176.0</td></tr><tr><th>3</th><td>67.0</td><td>173.0</td></tr><tr><th>4</th><td>78.0</td><td>178.0</td></tr><tr><th>5</th><td>69.0</td><td>180.0</td></tr><tr><th>6</th><td>70.0</td><td>175.0</td></tr><tr><th>7</th><td>58.0</td><td>171.0</td></tr><tr><th>8</th><td>66.0</td><td>179.0</td></tr><tr><th>9</th><td>67.0</td><td>170.0</td></tr><tr><th>10</th><td>55.0</td><td>170.0</td></tr></table>"
      ],
      "text/plain": [
       "10×2 DataFrames.DataFrame\n",
       "│ Row │ F3   │ F5    │\n",
       "├─────┼──────┼───────┤\n",
       "│ 1   │ 75.0 │ 173.0 │\n",
       "│ 2   │ 63.0 │ 176.0 │\n",
       "│ 3   │ 67.0 │ 173.0 │\n",
       "│ 4   │ 78.0 │ 178.0 │\n",
       "│ 5   │ 69.0 │ 180.0 │\n",
       "│ 6   │ 70.0 │ 175.0 │\n",
       "│ 7   │ 58.0 │ 171.0 │\n",
       "│ 8   │ 66.0 │ 179.0 │\n",
       "│ 9   │ 67.0 │ 170.0 │\n",
       "│ 10  │ 55.0 │ 170.0 │"
      ]
     },
     "execution_count": 5,
     "metadata": {},
     "output_type": "execute_result"
    }
   ],
   "source": [
    "println(\"Randomly picked samples with two features for male\")\n",
    "df_train_two_M_s = df_train_two_M[sample(1:size(df_train_two_M, 1), 10, replace = false), :]"
   ]
  },
  {
   "cell_type": "code",
   "execution_count": 6,
   "metadata": {
    "collapsed": false
   },
   "outputs": [
    {
     "name": "stdout",
     "output_type": "stream",
     "text": [
      "Randomly picked samples with ten features for female\n"
     ]
    },
    {
     "data": {
      "text/html": [
       "<table class=\"data-frame\"><tr><th></th><th>F1</th><th>F2</th><th>F3</th><th>F4</th><th>F5</th><th>F6</th><th>F7</th><th>F8</th><th>F9</th><th>F10</th></tr><tr><th>1</th><td>282.24</td><td>30.25</td><td>55.0</td><td>19.49</td><td>168.0</td><td>168.0</td><td>62.5</td><td>155.82</td><td>171.42</td><td>163.03</td></tr><tr><th>2</th><td>282.24</td><td>31.36</td><td>56.0</td><td>19.84</td><td>168.0</td><td>172.0</td><td>55.0</td><td>171.43</td><td>168.0</td><td>194.01</td></tr><tr><th>3</th><td>295.84</td><td>28.09</td><td>53.0</td><td>17.92</td><td>172.0</td><td>155.0</td><td>65.0</td><td>165.65</td><td>165.07</td><td>189.04</td></tr><tr><th>4</th><td>249.64</td><td>20.25</td><td>45.0</td><td>18.03</td><td>158.0</td><td>179.0</td><td>43.0</td><td>186.37</td><td>162.48</td><td>184.45</td></tr><tr><th>5</th><td>246.49</td><td>26.01</td><td>51.0</td><td>20.69</td><td>157.0</td><td>169.0</td><td>57.0</td><td>181.57</td><td>168.54</td><td>171.3</td></tr><tr><th>6</th><td>272.25</td><td>30.25</td><td>55.0</td><td>20.2</td><td>165.0</td><td>173.0</td><td>43.0</td><td>179.26</td><td>171.47</td><td>166.1</td></tr><tr><th>7</th><td>265.69</td><td>24.01</td><td>49.0</td><td>18.44</td><td>163.0</td><td>173.0</td><td>53.0</td><td>157.85</td><td>176.9</td><td>177.84</td></tr><tr><th>8</th><td>240.25</td><td>25.0</td><td>50.0</td><td>20.81</td><td>155.0</td><td>174.0</td><td>59.0</td><td>174.78</td><td>171.49</td><td>192.39</td></tr><tr><th>9</th><td>256.0</td><td>24.01</td><td>49.0</td><td>19.14</td><td>160.0</td><td>175.0</td><td>70.0</td><td>177.18</td><td>178.64</td><td>176.33</td></tr><tr><th>10</th><td>240.25</td><td>30.25</td><td>55.0</td><td>22.89</td><td>155.0</td><td>155.0</td><td>40.0</td><td>169.15</td><td>163.57</td><td>203.67</td></tr></table>"
      ],
      "text/plain": [
       "10×10 DataFrames.DataFrame\n",
       "│ Row │ F1     │ F2    │ F3   │ F4    │ F5    │ F6    │ F7   │ F8     │ F9     │\n",
       "├─────┼────────┼───────┼──────┼───────┼───────┼───────┼──────┼────────┼────────┤\n",
       "│ 1   │ 282.24 │ 30.25 │ 55.0 │ 19.49 │ 168.0 │ 168.0 │ 62.5 │ 155.82 │ 171.42 │\n",
       "│ 2   │ 282.24 │ 31.36 │ 56.0 │ 19.84 │ 168.0 │ 172.0 │ 55.0 │ 171.43 │ 168.0  │\n",
       "│ 3   │ 295.84 │ 28.09 │ 53.0 │ 17.92 │ 172.0 │ 155.0 │ 65.0 │ 165.65 │ 165.07 │\n",
       "│ 4   │ 249.64 │ 20.25 │ 45.0 │ 18.03 │ 158.0 │ 179.0 │ 43.0 │ 186.37 │ 162.48 │\n",
       "│ 5   │ 246.49 │ 26.01 │ 51.0 │ 20.69 │ 157.0 │ 169.0 │ 57.0 │ 181.57 │ 168.54 │\n",
       "│ 6   │ 272.25 │ 30.25 │ 55.0 │ 20.2  │ 165.0 │ 173.0 │ 43.0 │ 179.26 │ 171.47 │\n",
       "│ 7   │ 265.69 │ 24.01 │ 49.0 │ 18.44 │ 163.0 │ 173.0 │ 53.0 │ 157.85 │ 176.9  │\n",
       "│ 8   │ 240.25 │ 25.0  │ 50.0 │ 20.81 │ 155.0 │ 174.0 │ 59.0 │ 174.78 │ 171.49 │\n",
       "│ 9   │ 256.0  │ 24.01 │ 49.0 │ 19.14 │ 160.0 │ 175.0 │ 70.0 │ 177.18 │ 178.64 │\n",
       "│ 10  │ 240.25 │ 30.25 │ 55.0 │ 22.89 │ 155.0 │ 155.0 │ 40.0 │ 169.15 │ 163.57 │\n",
       "\n",
       "│ Row │ F10    │\n",
       "├─────┼────────┤\n",
       "│ 1   │ 163.03 │\n",
       "│ 2   │ 194.01 │\n",
       "│ 3   │ 189.04 │\n",
       "│ 4   │ 184.45 │\n",
       "│ 5   │ 171.3  │\n",
       "│ 6   │ 166.1  │\n",
       "│ 7   │ 177.84 │\n",
       "│ 8   │ 192.39 │\n",
       "│ 9   │ 176.33 │\n",
       "│ 10  │ 203.67 │"
      ]
     },
     "execution_count": 6,
     "metadata": {},
     "output_type": "execute_result"
    }
   ],
   "source": [
    "df_train_ten_F = df_train[df_train[:,:Sex].==\"F\", 1:10]\n",
    "df_train_ten_M = df_train[df_train[:,:Sex].==\"M\", 1:10]\n",
    "println(\"Randomly picked samples with ten features for female\")\n",
    "df_train_ten_F_s = df_train_ten_F[sample(1:size(df_train_ten_F, 1), 10, replace = false), :]"
   ]
  },
  {
   "cell_type": "code",
   "execution_count": 7,
   "metadata": {
    "collapsed": false
   },
   "outputs": [
    {
     "name": "stdout",
     "output_type": "stream",
     "text": [
      "Randomly picked samples with ten features for male\n"
     ]
    },
    {
     "data": {
      "text/html": [
       "<table class=\"data-frame\"><tr><th></th><th>F1</th><th>F2</th><th>F3</th><th>F4</th><th>F5</th><th>F6</th><th>F7</th><th>F8</th><th>F9</th><th>F10</th></tr><tr><th>1</th><td>313.29</td><td>39.69</td><td>63.0</td><td>20.11</td><td>177.0</td><td>166.0</td><td>62.0</td><td>174.65</td><td>175.19</td><td>168.18</td></tr><tr><th>2</th><td>295.84</td><td>44.89</td><td>67.0</td><td>22.65</td><td>172.0</td><td>166.0</td><td>45.0</td><td>166.1</td><td>169.57</td><td>158.1</td></tr><tr><th>3</th><td>388.09</td><td>96.04</td><td>98.0</td><td>25.25</td><td>197.0</td><td>162.0</td><td>71.0</td><td>161.17</td><td>169.76</td><td>199.09</td></tr><tr><th>4</th><td>295.84</td><td>42.25</td><td>65.0</td><td>21.97</td><td>172.0</td><td>170.0</td><td>51.0</td><td>144.78</td><td>168.24</td><td>151.15</td></tr><tr><th>5</th><td>324.0</td><td>56.25</td><td>75.0</td><td>23.15</td><td>180.0</td><td>168.0</td><td>47.0</td><td>165.67</td><td>167.95</td><td>184.2</td></tr><tr><th>6</th><td>299.29</td><td>49.0</td><td>70.0</td><td>23.39</td><td>173.0</td><td>178.0</td><td>58.0</td><td>163.55</td><td>170.14</td><td>164.38</td></tr><tr><th>7</th><td>320.41</td><td>33.64</td><td>58.0</td><td>18.1</td><td>179.0</td><td>176.0</td><td>66.0</td><td>178.25</td><td>171.97</td><td>183.65</td></tr><tr><th>8</th><td>357.21</td><td>25.0</td><td>50.0</td><td>14.0</td><td>189.0</td><td>160.0</td><td>75.0</td><td>164.66</td><td>172.37</td><td>180.16</td></tr><tr><th>9</th><td>299.29</td><td>39.69</td><td>63.0</td><td>21.05</td><td>173.0</td><td>161.0</td><td>85.0</td><td>169.9</td><td>179.08</td><td>167.89</td></tr><tr><th>10</th><td>278.89</td><td>39.69</td><td>63.0</td><td>22.59</td><td>167.0</td><td>174.0</td><td>50.0</td><td>162.14</td><td>169.34</td><td>186.13</td></tr></table>"
      ],
      "text/plain": [
       "10×10 DataFrames.DataFrame\n",
       "│ Row │ F1     │ F2    │ F3   │ F4    │ F5    │ F6    │ F7   │ F8     │ F9     │\n",
       "├─────┼────────┼───────┼──────┼───────┼───────┼───────┼──────┼────────┼────────┤\n",
       "│ 1   │ 313.29 │ 39.69 │ 63.0 │ 20.11 │ 177.0 │ 166.0 │ 62.0 │ 174.65 │ 175.19 │\n",
       "│ 2   │ 295.84 │ 44.89 │ 67.0 │ 22.65 │ 172.0 │ 166.0 │ 45.0 │ 166.1  │ 169.57 │\n",
       "│ 3   │ 388.09 │ 96.04 │ 98.0 │ 25.25 │ 197.0 │ 162.0 │ 71.0 │ 161.17 │ 169.76 │\n",
       "│ 4   │ 295.84 │ 42.25 │ 65.0 │ 21.97 │ 172.0 │ 170.0 │ 51.0 │ 144.78 │ 168.24 │\n",
       "│ 5   │ 324.0  │ 56.25 │ 75.0 │ 23.15 │ 180.0 │ 168.0 │ 47.0 │ 165.67 │ 167.95 │\n",
       "│ 6   │ 299.29 │ 49.0  │ 70.0 │ 23.39 │ 173.0 │ 178.0 │ 58.0 │ 163.55 │ 170.14 │\n",
       "│ 7   │ 320.41 │ 33.64 │ 58.0 │ 18.1  │ 179.0 │ 176.0 │ 66.0 │ 178.25 │ 171.97 │\n",
       "│ 8   │ 357.21 │ 25.0  │ 50.0 │ 14.0  │ 189.0 │ 160.0 │ 75.0 │ 164.66 │ 172.37 │\n",
       "│ 9   │ 299.29 │ 39.69 │ 63.0 │ 21.05 │ 173.0 │ 161.0 │ 85.0 │ 169.9  │ 179.08 │\n",
       "│ 10  │ 278.89 │ 39.69 │ 63.0 │ 22.59 │ 167.0 │ 174.0 │ 50.0 │ 162.14 │ 169.34 │\n",
       "\n",
       "│ Row │ F10    │\n",
       "├─────┼────────┤\n",
       "│ 1   │ 168.18 │\n",
       "│ 2   │ 158.1  │\n",
       "│ 3   │ 199.09 │\n",
       "│ 4   │ 151.15 │\n",
       "│ 5   │ 184.2  │\n",
       "│ 6   │ 164.38 │\n",
       "│ 7   │ 183.65 │\n",
       "│ 8   │ 180.16 │\n",
       "│ 9   │ 167.89 │\n",
       "│ 10  │ 186.13 │"
      ]
     },
     "execution_count": 7,
     "metadata": {},
     "output_type": "execute_result"
    }
   ],
   "source": [
    "println(\"Randomly picked samples with ten features for male\")\n",
    "df_train_ten_M_s = df_train_ten_M[sample(1:size(df_train_two_M, 1), 10, replace = false), :]"
   ]
  },
  {
   "cell_type": "markdown",
   "metadata": {},
   "source": [
    "## Sex Classification with Bayes Classifier"
   ]
  },
  {
   "cell_type": "markdown",
   "metadata": {},
   "source": [
    "Follow this procedure:\n",
    "\n",
    "* Fit Normal Distribution in each class in the training data to get parameters $\\mu_i$ and $\\Sigma_i$.\n",
    "* Decision boundary can be determined by\n",
    "$$\n",
    "    -\\frac12[(x-\\mu_i)^\\mathbf{T}\\Sigma_i^{-1}(x-\\mu_i)-(x-\\mu_j)^\\mathbf{T}\\Sigma_j^{-1}(x-\\mu_j)]-\\frac12\\ln \\frac{|\\Sigma_i|}{|\\Sigma_j|}+\\ln\\frac{P(\\omega_i)}{P(\\omega_j)}=0\n",
    "$$\n",
    "* Then we can make prediction on test set.\n",
    "\n",
    "Note that we are assuming the priori probability $P(\\omega_i)=P(\\omega_j)=0.5$, so the last item in the formular above can be ignored."
   ]
  },
  {
   "cell_type": "markdown",
   "metadata": {},
   "source": [
    "### Using all samples"
   ]
  },
  {
   "cell_type": "code",
   "execution_count": 8,
   "metadata": {
    "collapsed": false
   },
   "outputs": [
    {
     "data": {
      "text/plain": [
       "FullNormal(\n",
       "dim: 2\n",
       "μ: [51.7457,163.632]\n",
       "Σ: [39.2591 16.5807; 16.5807 30.053]\n",
       ")\n"
      ]
     },
     "execution_count": 8,
     "metadata": {},
     "output_type": "execute_result"
    }
   ],
   "source": [
    "# Distribution for female (female first)\n",
    "norm_two_F = fit(MvNormal, Array(df_train_two_F)')"
   ]
  },
  {
   "cell_type": "code",
   "execution_count": 9,
   "metadata": {
    "collapsed": false
   },
   "outputs": [
    {
     "data": {
      "text/plain": [
       "FullNormal(\n",
       "dim: 2\n",
       "μ: [68.0334,176.41]\n",
       "Σ: [85.2565 23.3637; 23.3637 32.5048]\n",
       ")\n"
      ]
     },
     "execution_count": 9,
     "metadata": {},
     "output_type": "execute_result"
    }
   ],
   "source": [
    "# Distribution for male\n",
    "norm_two_M = fit(MvNormal, Array(df_train_two_M)')"
   ]
  },
  {
   "cell_type": "code",
   "execution_count": 10,
   "metadata": {
    "collapsed": false
   },
   "outputs": [
    {
     "name": "stdout",
     "output_type": "stream",
     "text": [
      "Error rate on test set for using all training samples (two features): 14.067278%\n"
     ]
    }
   ],
   "source": [
    "maha_two_M = pairwise(SqMahalanobis(norm_two_M.Σ.mat), Array(df_test[:,[:F3, :F5]])', norm_two_M.μ'')\n",
    "maha_two_F = pairwise(SqMahalanobis(norm_two_F.Σ.mat), Array(df_test[:,[:F3, :F5]])', norm_two_F.μ'')\n",
    "predict_two = (maha_two_M - maha_two_F + log(det(norm_two_M.Σ.mat)/det(norm_two_F.Σ.mat))) .< 0  # true denotes \"M\"\n",
    "error_two = sum(Array(df_test[:, :Sex] .== \"M\").!=predict_two)/length(predict_two)  # error rate\n",
    "@printf \"Error rate on test set for using all training samples (two features): %.6f%%\\n\" error_two*100"
   ]
  },
  {
   "cell_type": "code",
   "execution_count": 11,
   "metadata": {
    "collapsed": false
   },
   "outputs": [
    {
     "name": "stdout",
     "output_type": "stream",
     "text": [
      "Error rate on test set for using all training samples (ten features): 16.819572%\n"
     ]
    }
   ],
   "source": [
    "norm_ten_F = fit(MvNormal, Array(df_train_ten_F)')  # Distribution for female\n",
    "norm_ten_M = fit(MvNormal, Array(df_train_ten_M)')  # Distribution for male\n",
    "maha_ten_M = pairwise(SqMahalanobis(norm_ten_M.Σ.mat), Array(df_test[:,1:10])', norm_ten_M.μ'')\n",
    "maha_ten_F = pairwise(SqMahalanobis(norm_ten_F.Σ.mat), Array(df_test[:,1:10])', norm_ten_F.μ'')\n",
    "predict_ten = (maha_ten_M - maha_ten_F + log(det(norm_ten_M.Σ.mat)/det(norm_ten_F.Σ.mat))) .< 0  # true denotes \"M\"\n",
    "error_ten = sum(Array(df_test[:, :Sex] .== \"M\").!=predict_ten)/length(predict_ten)  # error rate\n",
    "@printf \"Error rate on test set for using all training samples (ten features): %.6f%%\\n\" error_ten*100"
   ]
  },
  {
   "cell_type": "markdown",
   "metadata": {
    "collapsed": true
   },
   "source": [
    "### Randomly pick 10 samples"
   ]
  },
  {
   "cell_type": "code",
   "execution_count": 12,
   "metadata": {
    "collapsed": false
   },
   "outputs": [
    {
     "name": "stdout",
     "output_type": "stream",
     "text": [
      "Error rate on test set for randomly picking 20 training samples (two features): 13.455657%\n"
     ]
    }
   ],
   "source": [
    "norm_two_F_s = fit(MvNormal, Array(df_train_two_F_s)')  # Distribution for female\n",
    "norm_two_M_s = fit(MvNormal, Array(df_train_two_M_s)')  # Distribution for male\n",
    "maha_two_M_s = pairwise(SqMahalanobis(norm_two_M_s.Σ.mat), Array(df_test[:,[:F3, :F5]])', norm_two_M_s.μ'')\n",
    "maha_two_F_s = pairwise(SqMahalanobis(norm_two_F_s.Σ.mat), Array(df_test[:,[:F3, :F5]])', norm_two_F_s.μ'')\n",
    "predict_two_s = (maha_two_M_s - maha_two_F_s + log(det(norm_two_M_s.Σ.mat)/det(norm_two_F_s.Σ.mat))) .< 0  # true denotes \"M\"\n",
    "error_two_s = sum(Array(df_test[:, :Sex] .== \"M\").!=predict_two_s)/length(predict_two_s)\n",
    "@printf \"Error rate on test set for randomly picking 20 training samples (two features): %.6f%%\\n\" error_two_s*100"
   ]
  },
  {
   "cell_type": "code",
   "execution_count": 13,
   "metadata": {
    "collapsed": false
   },
   "outputs": [
    {
     "name": "stdout",
     "output_type": "stream",
     "text": [
      "Error rate on test set for randomly picking 20 training samples (ten features): 26.299694%\n"
     ]
    }
   ],
   "source": [
    "μ_F = mean(Array(df_train_ten_F_s), 1)\n",
    "Σ_F = cov(Array(df_train_ten_F_s),1 , false)\n",
    "μ_M = mean(Array(df_train_ten_M_s), 1)\n",
    "Σ_M = cov(Array(df_train_ten_M_s),1 , false)\n",
    "maha_ten_M_s = pairwise(SqMahalanobis(Σ_M), Array(df_test[:,1:10])', μ_M')\n",
    "maha_ten_F_s = pairwise(SqMahalanobis(Σ_F), Array(df_test[:,1:10])', μ_F')\n",
    "predict_ten_s = (maha_ten_M_s - maha_ten_F_s + log(abs(det(Σ_M)/det(Σ_F)))) .< 0  # true denotes \"M\"\n",
    "error_ten_s = sum(Array(df_test[:, :Sex] .== \"M\").!=predict_ten_s)/length(predict_ten_s)  # error rate\n",
    "@printf \"Error rate on test set for randomly picking 20 training samples (ten features): %.6f%%\\n\" error_ten_s*100"
   ]
  },
  {
   "cell_type": "markdown",
   "metadata": {},
   "source": [
    "## Sex Classification with LDA"
   ]
  },
  {
   "cell_type": "markdown",
   "metadata": {},
   "source": [
    "For LDA, the demo use [MultivariateStats](https://github.com/JuliaStats/MultivariateStats.jl). See the document for more details.\n",
    "\n",
    "A linear discriminant functional can be written as:\n",
    "$$\n",
    "f(\\mathbf{x}) = \\mathbf{w}^T \\mathbf{x} + b\n",
    "$$\n",
    "Suppose the samples in the positive and negative classes respectively with means:  $\\boldsymbol{\\mu}_p$ and $\\boldsymbol{\\mu}_n$ , and within-class scatter matrixes  $\\mathbf{S}_p$ and  $\\mathbf{S}_n$. Then based on *Fisher's Linear Discriminant Criteria*, the optimal projection direction can be expressed as:\n",
    "$$\n",
    "\\mathbf{w} = \\alpha \\cdot (\\mathbf{S}_p + \\mathbf{S}_n)^{-1} (\\boldsymbol{\\mu}_p - \\boldsymbol{\\mu}_n)\n",
    "$$\n",
    "Here $\\alpha$ is an arbitrary non-negative coefficient.\n",
    "The threshold $b$ can be obtained by:\n",
    "$$\n",
    "b = -\\frac12(\\boldsymbol{\\mu}_p + \\boldsymbol{\\mu}_n)(\\mathbf{S}_p + \\mathbf{S}_n)^{-1} (\\boldsymbol{\\mu}_p - \\boldsymbol{\\mu}_n)-\\ln\\frac{P(\\omega_p)}{P(\\omega_n)}\n",
    "$$\n",
    "Again we assume $P(\\omega_p)=P(\\omega_n)=0.5$, then the last item can be ignored."
   ]
  },
  {
   "cell_type": "markdown",
   "metadata": {},
   "source": [
    "### Using all samples"
   ]
  },
  {
   "cell_type": "code",
   "execution_count": 14,
   "metadata": {
    "collapsed": false
   },
   "outputs": [
    {
     "data": {
      "text/plain": [
       "MultivariateStats.LinearDiscriminant{Float64}([0.0497863,0.0930593],-18.803757960270772)"
      ]
     },
     "execution_count": 14,
     "metadata": {},
     "output_type": "execute_result"
    }
   ],
   "source": [
    "lda_model_two = fit(LinearDiscriminant, Array(df_train_two_M)', Array(df_train_two_F)')"
   ]
  },
  {
   "cell_type": "code",
   "execution_count": 15,
   "metadata": {
    "collapsed": false
   },
   "outputs": [
    {
     "name": "stdout",
     "output_type": "stream",
     "text": [
      "Error rate on test set for using all training samples (two features): 11.620795%\n"
     ]
    }
   ],
   "source": [
    "error_lda_two = mean(Array(df_test[:, :Sex] .== \"M\") .!= MultivariateStats.predict(lda_model_two, Matrix(df_test[:, [:F3, :F5]])'))\n",
    "@printf \"Error rate on test set for using all training samples (two features): %.6f%%\\n\" error_lda_two*100"
   ]
  },
  {
   "cell_type": "code",
   "execution_count": 16,
   "metadata": {
    "collapsed": false
   },
   "outputs": [
    {
     "name": "stdout",
     "output_type": "stream",
     "text": [
      "Error rate on test set for using all training samples (ten features): 10.091743%\n"
     ]
    }
   ],
   "source": [
    "lda_model_ten = fit(LinearDiscriminant, Array(df_train_ten_M)', Array(df_train_ten_F)')\n",
    "error_lda_ten = mean(Array(df_test[:, :Sex] .== \"M\") .!= MultivariateStats.predict(lda_model_ten, Matrix(df_test[:, 1:10])'))\n",
    "@printf \"Error rate on test set for using all training samples (ten features): %.6f%%\\n\" error_lda_ten*100"
   ]
  },
  {
   "cell_type": "markdown",
   "metadata": {
    "collapsed": false
   },
   "source": [
    "### Randomly pick 10 samples"
   ]
  },
  {
   "cell_type": "code",
   "execution_count": 17,
   "metadata": {
    "collapsed": false
   },
   "outputs": [
    {
     "name": "stdout",
     "output_type": "stream",
     "text": [
      "Error rate on test set for randomly picking 20 training samples (two features): 11.314985%\n"
     ]
    }
   ],
   "source": [
    "lda_model_two_s = fit(LinearDiscriminant, Array(df_train_two_M_s)', Array(df_train_two_F_s)')\n",
    "error_lda_two_s = mean(Array(df_test[:, :Sex] .== \"M\") .!= MultivariateStats.predict(lda_model_two_s, Matrix(df_test[:, [:F3, :F5]])'))\n",
    "@printf \"Error rate on test set for randomly picking 20 training samples (two features): %.6f%%\\n\" error_lda_two_s*100"
   ]
  },
  {
   "cell_type": "code",
   "execution_count": 18,
   "metadata": {
    "collapsed": false
   },
   "outputs": [
    {
     "name": "stdout",
     "output_type": "stream",
     "text": [
      "Error rate on test set for randomly picking 20 training samples (ten features): 13.761468%\n"
     ]
    }
   ],
   "source": [
    "lda_model_ten_s = fit(LinearDiscriminant, Array(df_train_ten_M_s)', Array(df_train_ten_F_s)')\n",
    "error_lda_ten_s = mean(Array(df_test[:, :Sex] .== \"M\") .!= MultivariateStats.predict(lda_model_ten_s, Matrix(df_test[:, 1:10])'))\n",
    "@printf \"Error rate on test set for randomly picking 20 training samples (ten features): %.6f%%\\n\" error_lda_ten_s*100"
   ]
  },
  {
   "cell_type": "markdown",
   "metadata": {},
   "source": [
    "## Sex Classification with Linear SVM"
   ]
  },
  {
   "cell_type": "markdown",
   "metadata": {},
   "source": [
    "The demo use [LIBSVM](https://github.com/simonster/LIBSVM.jl), a Julia bindings for [LIBSVM](http://www.csie.ntu.edu.tw/~cjlin/libsvm/) developed by Chih-Chung Chang and Chih-Jen Lin.\n",
    "\n",
    "For Linux user, run\n",
    "```\n",
    "Pkg.clone(\"https://github.com/simonster/LIBSVM.jl.git\")\n",
    "```\n",
    "For Windows user, a possible solution is:\n",
    "* Download LIBSVM to Julia package repo by\n",
    "    ```\n",
    "    Pkg.clone(\"https://github.com/simonster/LIBSVM.jl.git\")\n",
    "    ```\n",
    "* Install [MinGW32](http://www.mingw.org/wiki/HOWTO_Install_the_MinGW_GCC_Compiler_Suite)\n",
    "* Change [this line](https://github.com/simonster/LIBSVM.jl/blob/master/deps/build.jl#L2) to\n",
    "    ```\n",
    "    mingw32-make lib\n",
    "    ```\n",
    "* Run `Pkg.build(\"LIBSVM\")`\n",
    "\n",
    "Related issue: [this](https://github.com/simonster/LIBSVM.jl/issues/18#issuecomment-255679633) and [this](https://github.com/simonster/LIBSVM.jl/issues/9)."
   ]
  },
  {
   "cell_type": "markdown",
   "metadata": {},
   "source": [
    "In `LIBSVM` binding, the default kernel is `RBF` kernel. Here we provide the result on both `Linear` kernel and `RBF` kernel."
   ]
  },
  {
   "cell_type": "markdown",
   "metadata": {},
   "source": [
    "### Using all samples"
   ]
  },
  {
   "cell_type": "code",
   "execution_count": 19,
   "metadata": {
    "collapsed": false
   },
   "outputs": [
    {
     "name": "stdout",
     "output_type": "stream",
     "text": [
      "Error on test set with linear kernel (two features): 12.232416%\n",
      "Error on test set with RBF kernel (two features): 11.926606%\n"
     ]
    }
   ],
   "source": [
    "model_two = svmtrain(Array(df_train[:, :Sex]), Array(df_train[:, [:F3,:F5]])', kernel_type = LIBSVM.Linear)\n",
    "(predicted_labels, decision_values) = svmpredict(model_two, Array(df_test[:, [:F3,:F5]])');\n",
    "@printf \"Error on test set with linear kernel (two features): %.6f%%\\n\" mean((predicted_labels .!= df_test[:,:Sex]))*100\n",
    "model_two = svmtrain(Array(df_train[:, :Sex]), Array(df_train[:, [:F3, :F5]])', kernel_type = LIBSVM.RBF)\n",
    "(predicted_labels, decision_values) = svmpredict(model_two, Array(df_test[:, [:F3, :F5]])');\n",
    "@printf \"Error on test set with RBF kernel (two features): %.6f%%\\n\" mean((predicted_labels .!= df_test[:,:Sex]))*100"
   ]
  },
  {
   "cell_type": "code",
   "execution_count": 20,
   "metadata": {
    "collapsed": false
   },
   "outputs": [
    {
     "name": "stdout",
     "output_type": "stream",
     "text": [
      "Error on test set with linear kernel (ten features): 11.926606%\n",
      "Error on test set with RBF kernel (ten features): 23.241590%\n"
     ]
    }
   ],
   "source": [
    "model_two = svmtrain(Array(df_train[:, :Sex]), Array(df_train[:, 1:10])', kernel_type = LIBSVM.Linear)\n",
    "(predicted_labels, decision_values) = svmpredict(model_two, Array(df_test[:, 1:10])');\n",
    "@printf \"Error on test set with linear kernel (ten features): %.6f%%\\n\" mean((predicted_labels .!= df_test[:,:Sex]))*100\n",
    "model_ten = svmtrain(Array(df_train[:, :Sex]), Array(df_train[:, 1:10])', kernel_type = LIBSVM.RBF)\n",
    "(predicted_labels, decision_values) = svmpredict(model_ten, Array(df_test[:, 1:10])');\n",
    "@printf \"Error on test set with RBF kernel (ten features): %.6f%%\\n\" mean((predicted_labels .!= df_test[:,:Sex]))*100"
   ]
  },
  {
   "cell_type": "markdown",
   "metadata": {},
   "source": [
    "### Randomly pick 10 samples"
   ]
  },
  {
   "cell_type": "code",
   "execution_count": 21,
   "metadata": {
    "collapsed": false
   },
   "outputs": [
    {
     "name": "stdout",
     "output_type": "stream",
     "text": [
      "Error on test set with linear kernel (two features): 11.620795%\n",
      "Error on test set with RBF kernel (two features): 19.571865%\n"
     ]
    }
   ],
   "source": [
    "arr_train_two_s = [Array(df_train_two_M_s); Array(df_train_two_F_s)]\n",
    "arr_train_label_s = [fill(\"M\", 10);fill(\"F\", 10)]\n",
    "model_two = svmtrain(arr_train_label_s, arr_train_two_s', kernel_type = LIBSVM.Linear)\n",
    "(predicted_labels, decision_values) = svmpredict(model_two, Array(df_test[:, [:F3, :F5]])');\n",
    "@printf \"Error on test set with linear kernel (two features): %.6f%%\\n\" mean((predicted_labels .!= df_test[:,:Sex]))*100\n",
    "model_two = svmtrain(arr_train_label_s, arr_train_two_s', kernel_type = LIBSVM.RBF)\n",
    "(predicted_labels, decision_values) = svmpredict(model_two, Array(df_test[:, [:F3, :F5]])');\n",
    "@printf \"Error on test set with RBF kernel (two features): %.6f%%\\n\" mean((predicted_labels .!= df_test[:,:Sex]))*100"
   ]
  },
  {
   "cell_type": "code",
   "execution_count": 22,
   "metadata": {
    "collapsed": false
   },
   "outputs": [
    {
     "name": "stdout",
     "output_type": "stream",
     "text": [
      "Error on test set with linear kernel (ten features): 12.844037%\n",
      "Error on test set with RBF kernel (ten features): 55.351682%\n"
     ]
    }
   ],
   "source": [
    "arr_train_ten_s = [Array(df_train_ten_M_s); Array(df_train_ten_F_s)]\n",
    "model_ten = svmtrain(arr_train_label_s, arr_train_ten_s', kernel_type = LIBSVM.Linear)\n",
    "(predicted_labels, decision_values) = svmpredict(model_ten, Array(df_test[:, 1:10])');\n",
    "@printf \"Error on test set with linear kernel (ten features): %.6f%%\\n\" mean((predicted_labels .!= df_test[:,:Sex]))*100\n",
    "model_ten = svmtrain(arr_train_label_s, arr_train_ten_s', kernel_type = LIBSVM.RBF)\n",
    "(predicted_labels, decision_values) = svmpredict(model_ten, Array(df_test[:, 1:10])');\n",
    "@printf \"Error on test set with RBF kernel (ten features): %.6f%%\\n\" mean((predicted_labels .!= df_test[:,:Sex]))*100"
   ]
  },
  {
   "cell_type": "markdown",
   "metadata": {},
   "source": [
    "## Sex Classification with MLP"
   ]
  },
  {
   "cell_type": "markdown",
   "metadata": {},
   "source": [
    "The program use unregistered [ANN](https://github.com/ericchiang/ANN.jl) package to build MLP. Run\n",
    "```\n",
    "Pkg.clone(\"https://github.com/ericchiang/ANN.jl.git\")\n",
    "```\n",
    "to install."
   ]
  },
  {
   "cell_type": "markdown",
   "metadata": {},
   "source": [
    "### Function definations"
   ]
  },
  {
   "cell_type": "markdown",
   "metadata": {},
   "source": [
    "* Map Label to Int64 in order to feed into neural network"
   ]
  },
  {
   "cell_type": "code",
   "execution_count": 23,
   "metadata": {
    "collapsed": false
   },
   "outputs": [
    {
     "data": {
      "text/plain": [
       "mapLabelToInt (generic function with 1 method)"
      ]
     },
     "execution_count": 23,
     "metadata": {},
     "output_type": "execute_result"
    }
   ],
   "source": [
    "function mapLabelToInt(org::Array{String, 1})\n",
    "    dst = zeros(Int64, size(org))\n",
    "    classes = unique(org)\n",
    "    for (index, value) in enumerate(classes)\n",
    "        dst[org.==value] = index\n",
    "    end\n",
    "    dst\n",
    "end"
   ]
  },
  {
   "cell_type": "markdown",
   "metadata": {},
   "source": [
    "* Structure and method to do data pre-pocessing (normalization). [Reference](http://blog.yhat.com/posts/julia-neural-networks.html)."
   ]
  },
  {
   "cell_type": "code",
   "execution_count": 24,
   "metadata": {
    "collapsed": false
   },
   "outputs": [
    {
     "data": {
      "text/plain": [
       "fit_transform! (generic function with 1 method)"
      ]
     },
     "execution_count": 24,
     "metadata": {},
     "output_type": "execute_result"
    }
   ],
   "source": [
    "type StandardScalar\n",
    "    mean::Vector{Float64}\n",
    "    std::Vector{Float64}\n",
    "end\n",
    "\n",
    "# Helper function to initialize an empty scalar\n",
    "function StandardScalar()\n",
    "    StandardScalar(Array(Float64,0),Array(Float64,0))\n",
    "end\n",
    "\n",
    "# Compute mean and standard deviation of each column\n",
    "function fit_std_scalar!(std_scalar::StandardScalar,X::Matrix{Float64})\n",
    "    n_rows, n_cols = size(X)\n",
    "    std_scalar.std = zeros(n_cols)\n",
    "    std_scalar.mean = zeros(n_cols)\n",
    "    # for loops are fast again!\n",
    "    for i = 1:n_cols\n",
    "        std_scalar.mean[i] = mean(X[:,i])\n",
    "        std_scalar.std[i] = std(X[:,i])\n",
    "    end\n",
    "end\n",
    "\n",
    "function transform(std_scalar::StandardScalar,X::Matrix{Float64})\n",
    "    (X .- std_scalar.mean') ./ std_scalar.std' # broadcasting fu\n",
    "end\n",
    "\n",
    "# fit and transform in one function\n",
    "function fit_transform!(std_scalar::StandardScalar,X::Matrix{Float64})\n",
    "    fit_std_scalar!(std_scalar,X)\n",
    "    transform(std_scalar,X)\n",
    "end"
   ]
  },
  {
   "cell_type": "markdown",
   "metadata": {},
   "source": [
    "* Evaluation routing"
   ]
  },
  {
   "cell_type": "code",
   "execution_count": 25,
   "metadata": {
    "collapsed": false
   },
   "outputs": [
    {
     "data": {
      "text/plain": [
       "evaluate_routing (generic function with 1 method)"
      ]
     },
     "execution_count": 25,
     "metadata": {},
     "output_type": "execute_result"
    }
   ],
   "source": [
    "function evaluate_routing(ann::ArtificialNeuralNetwork,test_data::Matrix,test_label::Vector{String})\n",
    "    proba = ANN.predict(ann, test_data)\n",
    "    pred = Array(Int64, size(test_data, 1))\n",
    "    for i in 1:size(X_test, 1)\n",
    "        pred[i] = ann.classes[indmax(proba[i,:])]\n",
    "    end\n",
    "    error_rate = mean(pred .!= mapLabelToInt(Array(test_label)))\n",
    "    pred, error_rate\n",
    "end"
   ]
  },
  {
   "cell_type": "markdown",
   "metadata": {},
   "source": [
    "### Using all samples"
   ]
  },
  {
   "cell_type": "code",
   "execution_count": 26,
   "metadata": {
    "collapsed": false
   },
   "outputs": [],
   "source": [
    "ann_two = ArtificialNeuralNetwork(12)  # build the network, using 12 hidden nodes.\n",
    "std_scalar = StandardScalar()  # these consequtive 3 lines normalizing training and testing data\n",
    "X_train = fit_transform!(std_scalar, Matrix(df_train[[:F3,:F5]]))\n",
    "X_test = transform(std_scalar, Matrix(df_test[[:F3,:F5]]))\n",
    "ANN.fit!(ann_two, X_train, mapLabelToInt(Array(df_train[:,:Sex])), epochs=500, alpha=0.1, lambda=1e-5)  # training"
   ]
  },
  {
   "cell_type": "code",
   "execution_count": 27,
   "metadata": {
    "collapsed": false
   },
   "outputs": [
    {
     "name": "stdout",
     "output_type": "stream",
     "text": [
      "Error rate (two features): 7.339449541284404%\n"
     ]
    }
   ],
   "source": [
    "_, error_rate = evaluate_routing(ann_two, X_test, Array(df_test[:Sex]))\n",
    "println(\"Error rate (two features): \",error_rate*100,\"%\")"
   ]
  },
  {
   "cell_type": "code",
   "execution_count": 28,
   "metadata": {
    "collapsed": false
   },
   "outputs": [
    {
     "name": "stdout",
     "output_type": "stream",
     "text": [
      "Error rate (two features): 14.37308868501529%\n"
     ]
    }
   ],
   "source": [
    "ann_ten = ArtificialNeuralNetwork(12)  # build the network, using 12 hidden nodes.\n",
    "std_scalar = StandardScalar()  # these consequtive 3 lines normalizing training and testing data\n",
    "X_train = fit_transform!(std_scalar, Matrix(df_train[1:10]))\n",
    "X_test = transform(std_scalar, Matrix(df_test[1:10]))\n",
    "ANN.fit!(ann_ten, X_train, mapLabelToInt(Array(df_train[:,:Sex])), epochs=500, alpha=0.1, lambda=1e-5)  # training\n",
    "_, error_rate = evaluate_routing(ann_ten, X_test, Array(df_test[:Sex]))\n",
    "println(\"Error rate (two features): \",error_rate*100,\"%\")"
   ]
  },
  {
   "cell_type": "markdown",
   "metadata": {},
   "source": [
    "### Randomly pick 10 samples"
   ]
  },
  {
   "cell_type": "code",
   "execution_count": 29,
   "metadata": {
    "collapsed": false
   },
   "outputs": [
    {
     "name": "stdout",
     "output_type": "stream",
     "text": [
      "Error rate: 86.23853211009175%\n"
     ]
    }
   ],
   "source": [
    "ann_two_s = ArtificialNeuralNetwork(12)  # build the network, using 12 hidden nodes.\n",
    "std_scalar = StandardScalar()  # these consequtive 3 lines normalizing training and testing data\n",
    "X_train = fit_transform!(std_scalar, arr_train_two_s)\n",
    "X_test = transform(std_scalar, Matrix(df_test[[:F3,:F5]]))\n",
    "ANN.fit!(ann_two_s, X_train, mapLabelToInt(arr_train_label_s), epochs=100, alpha=0.1, lambda=1e-5)  # training\n",
    "pred_res, error_rate = evaluate_routing(ann_two_s, X_test, Array(df_test[:Sex]))\n",
    "println(\"Error rate: \",error_rate*100,\"%\")\n",
    "# _,count = hist(pred_res)\n",
    "# println(count)"
   ]
  },
  {
   "cell_type": "code",
   "execution_count": 30,
   "metadata": {
    "collapsed": false
   },
   "outputs": [
    {
     "name": "stdout",
     "output_type": "stream",
     "text": [
      "Error rate: 87.1559633027523%\n"
     ]
    }
   ],
   "source": [
    "ann_ten_s = ArtificialNeuralNetwork(12)  # build the network, using 12 hidden nodes.\n",
    "std_scalar = StandardScalar()  # these consequtive 3 lines normalizing training and testing data\n",
    "X_train = fit_transform!(std_scalar, arr_train_ten_s)\n",
    "X_test = transform(std_scalar, Matrix(df_test[1:10]))\n",
    "ANN.fit!(ann_ten_s, X_train, mapLabelToInt(arr_train_label_s), epochs=100, alpha=0.1, lambda=1e-5)  # training\n",
    "pred_res, error_rate = evaluate_routing(ann_ten_s, X_test, Array(df_test[:Sex]))\n",
    "println(\"Error rate: \",error_rate*100,\"%\")\n",
    "# _,count = hist(pred_res)\n",
    "# println(count)"
   ]
  },
  {
   "cell_type": "markdown",
   "metadata": {},
   "source": [
    "The ANN model predict equal number of male and female samples with limited training samples, thus performs bad on a biased test set."
   ]
  }
 ],
 "metadata": {
  "celltoolbar": "Raw Cell Format",
  "kernelspec": {
   "display_name": "Julia 0.5.0",
   "language": "julia",
   "name": "julia-0.5"
  },
  "language_info": {
   "file_extension": ".jl",
   "mimetype": "application/julia",
   "name": "julia",
   "version": "0.5.0"
  }
 },
 "nbformat": 4,
 "nbformat_minor": 1
}
