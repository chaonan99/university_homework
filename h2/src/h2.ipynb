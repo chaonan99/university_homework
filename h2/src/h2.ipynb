{
 "cells": [
  {
   "cell_type": "markdown",
   "metadata": {},
   "source": [
    "# Pattern Recognition, Homework 2"
   ]
  },
  {
   "cell_type": "markdown",
   "metadata": {},
   "source": [
    "* **Author** [Haonan Chen](https://chaonan99.github.io/about/)\n",
    "* **Class** 32\n",
    "* **Student No.** 2013011449\n",
    "* **Date** 2016/10/25\n",
    "* **Language**\n",
    "[![logo](https://raw.githubusercontent.com/docker-library/docs/520519ad7db3ea9fd5d3590e836c839a0ffd6f19/julia/logo.png)](http://julialang.org/)\n",
    "* [Source code](https://github.com/chaonan99/PR_hw/blob/master/h2/src/h2.ipynb) on GitHub."
   ]
  },
  {
   "cell_type": "markdown",
   "metadata": {},
   "source": [
    "## Result highlight\n",
    "* Error rate\n",
    "\n",
    "|           Sampling           | Features |    Bayes   |     FLD    | Linear SVM |      MLP(hidden_nodes=12)     |\n",
    "|:----------------------------:|:--------:|:----------:|:----------:|:----------:|:-----------------------------:|\n",
    "| 10+10 (different every time) |    10    | 12.538226% | 26.299694% | 24.464832% | 72.47706422018348%(epoch=100) |\n",
    "|  10+10(different every time) |     2    | 22.324159% | 15.596330% | 17.125382% | 82.87461773700305%(epoch=100) |\n",
    "|            469+485           |    10    | 16.819572% | 10.091743% | 11.926606% | 11.62079510703364%(epoch=500) |\n",
    "|            469+485           |     2    | 14.067278% | 11.620795% | 12.232416% | 7.339449541284404%(epoch=500) |"
   ]
  },
  {
   "cell_type": "markdown",
   "metadata": {},
   "source": [
    "## Read training and testing data"
   ]
  },
  {
   "cell_type": "markdown",
   "metadata": {},
   "source": [
    "Using `Pkg.add(package)` to install packages. Packages unregistered on METADATA should should be installed using `Pkg.clone(\"...\")`. Refer to related section in this demo for more information."
   ]
  },
  {
   "cell_type": "code",
   "execution_count": 1,
   "metadata": {
    "collapsed": false
   },
   "outputs": [],
   "source": [
    "using DataFrames\n",
    "using Distributions\n",
    "using Distances\n",
    "using MultivariateStats\n",
    "using LIBSVM  # unregistered: refer to SVM section to learn how to install\n",
    "using ANN  # unregistered: refer to MLP section to learn how to install"
   ]
  },
  {
   "cell_type": "code",
   "execution_count": 2,
   "metadata": {
    "collapsed": false
   },
   "outputs": [
    {
     "data": {
      "text/html": [
       "<table class=\"data-frame\"><tr><th></th><th>Sex</th><th>number</th></tr><tr><th>1</th><td>F</td><td>468</td></tr><tr><th>2</th><td>M</td><td>485</td></tr></table>"
      ],
      "text/plain": [
       "2×2 DataFrames.DataFrame\n",
       "│ Row │ Sex │ number │\n",
       "├─────┼─────┼────────┤\n",
       "│ 1   │ \"F\" │ 468    │\n",
       "│ 2   │ \"M\" │ 485    │"
      ]
     },
     "execution_count": 2,
     "metadata": {},
     "output_type": "execute_result"
    }
   ],
   "source": [
    "df_train = readtable(\"dataset3.txt\", separator = '\\t')\n",
    "df_test = readtable(\"dataset4.txt\", separator = '\\t')\n",
    "names!(df_train, cat(1, [Symbol(\"F$i\") for i in 1:10],[Symbol(\"Sex\")]))  # assign a name to each column\n",
    "names!(df_test,  cat(1, [Symbol(\"F$i\") for i in 1:10],[Symbol(\"Sex\")]))\n",
    "df_test[df_test[:,:Sex].==\"f\",:Sex]=\"F\"\n",
    "by(df_train, :Sex) do df\n",
    "  DataFrame(\n",
    "    number = length(df[:Sex]),\n",
    "  )\n",
    "end"
   ]
  },
  {
   "cell_type": "code",
   "execution_count": 3,
   "metadata": {
    "collapsed": false
   },
   "outputs": [
    {
     "data": {
      "text/html": [
       "<table class=\"data-frame\"><tr><th></th><th>Sex</th><th>number</th></tr><tr><th>1</th><td>F</td><td>77</td></tr><tr><th>2</th><td>M</td><td>250</td></tr></table>"
      ],
      "text/plain": [
       "2×2 DataFrames.DataFrame\n",
       "│ Row │ Sex │ number │\n",
       "├─────┼─────┼────────┤\n",
       "│ 1   │ \"F\" │ 77     │\n",
       "│ 2   │ \"M\" │ 250    │"
      ]
     },
     "execution_count": 3,
     "metadata": {},
     "output_type": "execute_result"
    }
   ],
   "source": [
    "by(df_test, :Sex) do df\n",
    "  DataFrame(\n",
    "    number = length(df[:Sex]),\n",
    "  )\n",
    "end"
   ]
  },
  {
   "cell_type": "code",
   "execution_count": 4,
   "metadata": {
    "collapsed": false
   },
   "outputs": [
    {
     "name": "stdout",
     "output_type": "stream",
     "text": [
      "Randomly picked samples with two features for female\n"
     ]
    },
    {
     "data": {
      "text/html": [
       "<table class=\"data-frame\"><tr><th></th><th>F3</th><th>F5</th></tr><tr><th>1</th><td>47.0</td><td>169.0</td></tr><tr><th>2</th><td>44.0</td><td>158.0</td></tr><tr><th>3</th><td>50.0</td><td>163.0</td></tr><tr><th>4</th><td>46.5</td><td>165.0</td></tr><tr><th>5</th><td>56.0</td><td>163.0</td></tr><tr><th>6</th><td>60.0</td><td>167.0</td></tr><tr><th>7</th><td>57.0</td><td>159.0</td></tr><tr><th>8</th><td>49.0</td><td>168.0</td></tr><tr><th>9</th><td>58.0</td><td>171.0</td></tr><tr><th>10</th><td>58.0</td><td>168.0</td></tr></table>"
      ],
      "text/plain": [
       "10×2 DataFrames.DataFrame\n",
       "│ Row │ F3   │ F5    │\n",
       "├─────┼──────┼───────┤\n",
       "│ 1   │ 47.0 │ 169.0 │\n",
       "│ 2   │ 44.0 │ 158.0 │\n",
       "│ 3   │ 50.0 │ 163.0 │\n",
       "│ 4   │ 46.5 │ 165.0 │\n",
       "│ 5   │ 56.0 │ 163.0 │\n",
       "│ 6   │ 60.0 │ 167.0 │\n",
       "│ 7   │ 57.0 │ 159.0 │\n",
       "│ 8   │ 49.0 │ 168.0 │\n",
       "│ 9   │ 58.0 │ 171.0 │\n",
       "│ 10  │ 58.0 │ 168.0 │"
      ]
     },
     "execution_count": 4,
     "metadata": {},
     "output_type": "execute_result"
    }
   ],
   "source": [
    "df_train_two_F = df_train[df_train[:,:Sex].==\"F\",[:F3,:F5]]\n",
    "df_train_two_M = df_train[df_train[:,:Sex].==\"M\",[:F3,:F5]]\n",
    "println(\"Randomly picked samples with two features for female\")\n",
    "df_train_two_F_s = df_train_two_F[sample(1:size(df_train_two_F, 1), 10, replace = false), :]"
   ]
  },
  {
   "cell_type": "code",
   "execution_count": 5,
   "metadata": {
    "collapsed": false
   },
   "outputs": [
    {
     "name": "stdout",
     "output_type": "stream",
     "text": [
      "Randomly picked samples with two features for male\n"
     ]
    },
    {
     "data": {
      "text/html": [
       "<table class=\"data-frame\"><tr><th></th><th>F3</th><th>F5</th></tr><tr><th>1</th><td>89.0</td><td>192.0</td></tr><tr><th>2</th><td>60.0</td><td>168.0</td></tr><tr><th>3</th><td>61.0</td><td>172.0</td></tr><tr><th>4</th><td>75.0</td><td>175.0</td></tr><tr><th>5</th><td>62.0</td><td>168.0</td></tr><tr><th>6</th><td>80.0</td><td>185.0</td></tr><tr><th>7</th><td>59.0</td><td>171.0</td></tr><tr><th>8</th><td>53.0</td><td>170.0</td></tr><tr><th>9</th><td>70.0</td><td>180.0</td></tr><tr><th>10</th><td>75.0</td><td>175.0</td></tr></table>"
      ],
      "text/plain": [
       "10×2 DataFrames.DataFrame\n",
       "│ Row │ F3   │ F5    │\n",
       "├─────┼──────┼───────┤\n",
       "│ 1   │ 89.0 │ 192.0 │\n",
       "│ 2   │ 60.0 │ 168.0 │\n",
       "│ 3   │ 61.0 │ 172.0 │\n",
       "│ 4   │ 75.0 │ 175.0 │\n",
       "│ 5   │ 62.0 │ 168.0 │\n",
       "│ 6   │ 80.0 │ 185.0 │\n",
       "│ 7   │ 59.0 │ 171.0 │\n",
       "│ 8   │ 53.0 │ 170.0 │\n",
       "│ 9   │ 70.0 │ 180.0 │\n",
       "│ 10  │ 75.0 │ 175.0 │"
      ]
     },
     "execution_count": 5,
     "metadata": {},
     "output_type": "execute_result"
    }
   ],
   "source": [
    "println(\"Randomly picked samples with two features for male\")\n",
    "df_train_two_M_s = df_train_two_M[sample(1:size(df_train_two_M, 1), 10, replace = false), :]"
   ]
  },
  {
   "cell_type": "code",
   "execution_count": 6,
   "metadata": {
    "collapsed": false
   },
   "outputs": [
    {
     "name": "stdout",
     "output_type": "stream",
     "text": [
      "Randomly picked samples with ten features for female\n"
     ]
    },
    {
     "data": {
      "text/html": [
       "<table class=\"data-frame\"><tr><th></th><th>F1</th><th>F2</th><th>F3</th><th>F4</th><th>F5</th><th>F6</th><th>F7</th><th>F8</th><th>F9</th><th>F10</th></tr><tr><th>1</th><td>272.25</td><td>27.04</td><td>52.0</td><td>19.1</td><td>165.0</td><td>165.0</td><td>68.0</td><td>168.57</td><td>163.05</td><td>179.38</td></tr><tr><th>2</th><td>265.69</td><td>24.01</td><td>49.0</td><td>18.44</td><td>163.0</td><td>160.0</td><td>50.0</td><td>170.05</td><td>166.39</td><td>159.4</td></tr><tr><th>3</th><td>256.0</td><td>33.64</td><td>58.0</td><td>22.66</td><td>160.0</td><td>179.0</td><td>55.0</td><td>191.82</td><td>164.53</td><td>183.52</td></tr><tr><th>4</th><td>262.44</td><td>23.04</td><td>48.0</td><td>18.29</td><td>162.0</td><td>170.0</td><td>55.0</td><td>170.63</td><td>167.49</td><td>191.94</td></tr><tr><th>5</th><td>295.84</td><td>26.01</td><td>51.0</td><td>17.24</td><td>172.0</td><td>175.0</td><td>67.0</td><td>162.75</td><td>179.17</td><td>165.52</td></tr><tr><th>6</th><td>278.89</td><td>38.44</td><td>62.0</td><td>22.23</td><td>167.0</td><td>167.0</td><td>68.0</td><td>187.03</td><td>163.09</td><td>165.28</td></tr><tr><th>7</th><td>282.24</td><td>26.01</td><td>51.0</td><td>18.07</td><td>168.0</td><td>166.0</td><td>50.0</td><td>158.66</td><td>168.01</td><td>159.04</td></tr><tr><th>8</th><td>265.69</td><td>17.64</td><td>42.0</td><td>15.81</td><td>163.0</td><td>173.0</td><td>62.0</td><td>169.48</td><td>164.31</td><td>160.24</td></tr><tr><th>9</th><td>268.96</td><td>47.61</td><td>69.0</td><td>25.65</td><td>164.0</td><td>168.0</td><td>42.0</td><td>186.35</td><td>175.96</td><td>190.16</td></tr><tr><th>10</th><td>272.25</td><td>33.64</td><td>58.0</td><td>21.3</td><td>165.0</td><td>158.0</td><td>68.0</td><td>166.02</td><td>167.08</td><td>196.25</td></tr></table>"
      ],
      "text/plain": [
       "10×10 DataFrames.DataFrame\n",
       "│ Row │ F1     │ F2    │ F3   │ F4    │ F5    │ F6    │ F7   │ F8     │ F9     │\n",
       "├─────┼────────┼───────┼──────┼───────┼───────┼───────┼──────┼────────┼────────┤\n",
       "│ 1   │ 272.25 │ 27.04 │ 52.0 │ 19.1  │ 165.0 │ 165.0 │ 68.0 │ 168.57 │ 163.05 │\n",
       "│ 2   │ 265.69 │ 24.01 │ 49.0 │ 18.44 │ 163.0 │ 160.0 │ 50.0 │ 170.05 │ 166.39 │\n",
       "│ 3   │ 256.0  │ 33.64 │ 58.0 │ 22.66 │ 160.0 │ 179.0 │ 55.0 │ 191.82 │ 164.53 │\n",
       "│ 4   │ 262.44 │ 23.04 │ 48.0 │ 18.29 │ 162.0 │ 170.0 │ 55.0 │ 170.63 │ 167.49 │\n",
       "│ 5   │ 295.84 │ 26.01 │ 51.0 │ 17.24 │ 172.0 │ 175.0 │ 67.0 │ 162.75 │ 179.17 │\n",
       "│ 6   │ 278.89 │ 38.44 │ 62.0 │ 22.23 │ 167.0 │ 167.0 │ 68.0 │ 187.03 │ 163.09 │\n",
       "│ 7   │ 282.24 │ 26.01 │ 51.0 │ 18.07 │ 168.0 │ 166.0 │ 50.0 │ 158.66 │ 168.01 │\n",
       "│ 8   │ 265.69 │ 17.64 │ 42.0 │ 15.81 │ 163.0 │ 173.0 │ 62.0 │ 169.48 │ 164.31 │\n",
       "│ 9   │ 268.96 │ 47.61 │ 69.0 │ 25.65 │ 164.0 │ 168.0 │ 42.0 │ 186.35 │ 175.96 │\n",
       "│ 10  │ 272.25 │ 33.64 │ 58.0 │ 21.3  │ 165.0 │ 158.0 │ 68.0 │ 166.02 │ 167.08 │\n",
       "\n",
       "│ Row │ F10    │\n",
       "├─────┼────────┤\n",
       "│ 1   │ 179.38 │\n",
       "│ 2   │ 159.4  │\n",
       "│ 3   │ 183.52 │\n",
       "│ 4   │ 191.94 │\n",
       "│ 5   │ 165.52 │\n",
       "│ 6   │ 165.28 │\n",
       "│ 7   │ 159.04 │\n",
       "│ 8   │ 160.24 │\n",
       "│ 9   │ 190.16 │\n",
       "│ 10  │ 196.25 │"
      ]
     },
     "execution_count": 6,
     "metadata": {},
     "output_type": "execute_result"
    }
   ],
   "source": [
    "df_train_ten_F = df_train[df_train[:,:Sex].==\"F\", 1:10]\n",
    "df_train_ten_M = df_train[df_train[:,:Sex].==\"M\", 1:10]\n",
    "println(\"Randomly picked samples with ten features for female\")\n",
    "df_train_ten_F_s = df_train_ten_F[sample(1:size(df_train_ten_F, 1), 10, replace = false), :]"
   ]
  },
  {
   "cell_type": "code",
   "execution_count": 7,
   "metadata": {
    "collapsed": false
   },
   "outputs": [
    {
     "name": "stdout",
     "output_type": "stream",
     "text": [
      "Randomly picked samples with ten features for male\n"
     ]
    },
    {
     "data": {
      "text/html": [
       "<table class=\"data-frame\"><tr><th></th><th>F1</th><th>F2</th><th>F3</th><th>F4</th><th>F5</th><th>F6</th><th>F7</th><th>F8</th><th>F9</th><th>F10</th></tr><tr><th>1</th><td>306.25</td><td>65.61</td><td>81.0</td><td>26.45</td><td>175.0</td><td>164.0</td><td>59.0</td><td>159.94</td><td>173.6</td><td>170.46</td></tr><tr><th>2</th><td>272.25</td><td>51.84</td><td>72.0</td><td>26.45</td><td>165.0</td><td>165.0</td><td>58.0</td><td>176.98</td><td>175.73</td><td>152.28</td></tr><tr><th>3</th><td>306.25</td><td>42.25</td><td>65.0</td><td>21.22</td><td>175.0</td><td>173.0</td><td>56.0</td><td>179.86</td><td>175.29</td><td>194.42</td></tr><tr><th>4</th><td>316.84</td><td>42.25</td><td>65.0</td><td>20.52</td><td>178.0</td><td>163.0</td><td>65.0</td><td>164.61</td><td>178.37</td><td>155.38</td></tr><tr><th>5</th><td>324.0</td><td>46.24</td><td>68.0</td><td>20.99</td><td>180.0</td><td>175.0</td><td>63.0</td><td>151.29</td><td>169.51</td><td>168.42</td></tr><tr><th>6</th><td>342.25</td><td>51.84</td><td>72.0</td><td>21.04</td><td>185.0</td><td>165.0</td><td>73.0</td><td>160.9</td><td>167.4</td><td>166.17</td></tr><tr><th>7</th><td>338.56</td><td>64.0</td><td>80.0</td><td>23.63</td><td>184.0</td><td>150.0</td><td>55.0</td><td>153.9</td><td>174.1</td><td>169.36</td></tr><tr><th>8</th><td>299.29</td><td>81.0</td><td>90.0</td><td>30.07</td><td>173.0</td><td>170.0</td><td>75.0</td><td>157.25</td><td>177.51</td><td>200.12</td></tr><tr><th>9</th><td>316.84</td><td>44.89</td><td>67.0</td><td>21.15</td><td>178.0</td><td>176.0</td><td>54.0</td><td>171.4</td><td>172.11</td><td>158.76</td></tr><tr><th>10</th><td>334.89</td><td>56.25</td><td>75.0</td><td>22.4</td><td>183.0</td><td>183.0</td><td>71.0</td><td>159.23</td><td>175.3</td><td>157.44</td></tr></table>"
      ],
      "text/plain": [
       "10×10 DataFrames.DataFrame\n",
       "│ Row │ F1     │ F2    │ F3   │ F4    │ F5    │ F6    │ F7   │ F8     │ F9     │\n",
       "├─────┼────────┼───────┼──────┼───────┼───────┼───────┼──────┼────────┼────────┤\n",
       "│ 1   │ 306.25 │ 65.61 │ 81.0 │ 26.45 │ 175.0 │ 164.0 │ 59.0 │ 159.94 │ 173.6  │\n",
       "│ 2   │ 272.25 │ 51.84 │ 72.0 │ 26.45 │ 165.0 │ 165.0 │ 58.0 │ 176.98 │ 175.73 │\n",
       "│ 3   │ 306.25 │ 42.25 │ 65.0 │ 21.22 │ 175.0 │ 173.0 │ 56.0 │ 179.86 │ 175.29 │\n",
       "│ 4   │ 316.84 │ 42.25 │ 65.0 │ 20.52 │ 178.0 │ 163.0 │ 65.0 │ 164.61 │ 178.37 │\n",
       "│ 5   │ 324.0  │ 46.24 │ 68.0 │ 20.99 │ 180.0 │ 175.0 │ 63.0 │ 151.29 │ 169.51 │\n",
       "│ 6   │ 342.25 │ 51.84 │ 72.0 │ 21.04 │ 185.0 │ 165.0 │ 73.0 │ 160.9  │ 167.4  │\n",
       "│ 7   │ 338.56 │ 64.0  │ 80.0 │ 23.63 │ 184.0 │ 150.0 │ 55.0 │ 153.9  │ 174.1  │\n",
       "│ 8   │ 299.29 │ 81.0  │ 90.0 │ 30.07 │ 173.0 │ 170.0 │ 75.0 │ 157.25 │ 177.51 │\n",
       "│ 9   │ 316.84 │ 44.89 │ 67.0 │ 21.15 │ 178.0 │ 176.0 │ 54.0 │ 171.4  │ 172.11 │\n",
       "│ 10  │ 334.89 │ 56.25 │ 75.0 │ 22.4  │ 183.0 │ 183.0 │ 71.0 │ 159.23 │ 175.3  │\n",
       "\n",
       "│ Row │ F10    │\n",
       "├─────┼────────┤\n",
       "│ 1   │ 170.46 │\n",
       "│ 2   │ 152.28 │\n",
       "│ 3   │ 194.42 │\n",
       "│ 4   │ 155.38 │\n",
       "│ 5   │ 168.42 │\n",
       "│ 6   │ 166.17 │\n",
       "│ 7   │ 169.36 │\n",
       "│ 8   │ 200.12 │\n",
       "│ 9   │ 158.76 │\n",
       "│ 10  │ 157.44 │"
      ]
     },
     "execution_count": 7,
     "metadata": {},
     "output_type": "execute_result"
    }
   ],
   "source": [
    "println(\"Randomly picked samples with ten features for male\")\n",
    "df_train_ten_M_s = df_train_ten_M[sample(1:size(df_train_two_M, 1), 10, replace = false), :]"
   ]
  },
  {
   "cell_type": "markdown",
   "metadata": {},
   "source": [
    "* Relation of features\n",
    "![relation](../doc/resource/feature_relation.png)"
   ]
  },
  {
   "cell_type": "markdown",
   "metadata": {},
   "source": [
    "## Sex Classification with Bayes Classifier"
   ]
  },
  {
   "cell_type": "markdown",
   "metadata": {},
   "source": [
    "Follow this procedure:\n",
    "\n",
    "* Fit Normal Distribution in each class in the training data to get parameters $\\mu_i$ and $\\Sigma_i$.\n",
    "* Decision boundary can be determined by\n",
    "$$\n",
    "    -\\frac12[(x-\\mu_i)^\\mathbf{T}\\Sigma_i^{-1}(x-\\mu_i)-(x-\\mu_j)^\\mathbf{T}\\Sigma_j^{-1}(x-\\mu_j)]-\\frac12\\ln \\frac{|\\Sigma_i|}{|\\Sigma_j|}+\\ln\\frac{P(\\omega_i)}{P(\\omega_j)}=0\n",
    "$$\n",
    "* Then we can make prediction on test set.\n",
    "\n",
    "Note that we are assuming the priori probability $P(\\omega_i)=P(\\omega_j)=0.5$, so the last item in the formular above can be ignored."
   ]
  },
  {
   "cell_type": "markdown",
   "metadata": {},
   "source": [
    "### Using all samples"
   ]
  },
  {
   "cell_type": "code",
   "execution_count": 8,
   "metadata": {
    "collapsed": false
   },
   "outputs": [
    {
     "data": {
      "text/plain": [
       "FullNormal(\n",
       "dim: 2\n",
       "μ: [51.7457,163.632]\n",
       "Σ: [39.2591 16.5807; 16.5807 30.053]\n",
       ")\n"
      ]
     },
     "execution_count": 8,
     "metadata": {},
     "output_type": "execute_result"
    }
   ],
   "source": [
    "# Distribution for female (female first)\n",
    "norm_two_F = fit(MvNormal, Array(df_train_two_F)')"
   ]
  },
  {
   "cell_type": "code",
   "execution_count": 9,
   "metadata": {
    "collapsed": false
   },
   "outputs": [
    {
     "data": {
      "text/plain": [
       "FullNormal(\n",
       "dim: 2\n",
       "μ: [68.0334,176.41]\n",
       "Σ: [85.2565 23.3637; 23.3637 32.5048]\n",
       ")\n"
      ]
     },
     "execution_count": 9,
     "metadata": {},
     "output_type": "execute_result"
    }
   ],
   "source": [
    "# Distribution for male\n",
    "norm_two_M = fit(MvNormal, Array(df_train_two_M)')"
   ]
  },
  {
   "cell_type": "code",
   "execution_count": 10,
   "metadata": {
    "collapsed": false
   },
   "outputs": [
    {
     "name": "stdout",
     "output_type": "stream",
     "text": [
      "Error rate on test set for using all training samples (two features): 14.067278%\n"
     ]
    }
   ],
   "source": [
    "maha_two_M = pairwise(SqMahalanobis(norm_two_M.Σ.mat), Array(df_test[:,[:F3, :F5]])', norm_two_M.μ'')\n",
    "maha_two_F = pairwise(SqMahalanobis(norm_two_F.Σ.mat), Array(df_test[:,[:F3, :F5]])', norm_two_F.μ'')\n",
    "predict_two = (maha_two_M - maha_two_F + log(det(norm_two_M.Σ.mat)/det(norm_two_F.Σ.mat))) .< 0  # true denotes \"M\"\n",
    "error_two = sum(Array(df_test[:, :Sex] .== \"M\").!=predict_two)/length(predict_two)  # error rate\n",
    "@printf \"Error rate on test set for using all training samples (two features): %.6f%%\\n\" error_two*100"
   ]
  },
  {
   "cell_type": "code",
   "execution_count": 11,
   "metadata": {
    "collapsed": false
   },
   "outputs": [
    {
     "name": "stdout",
     "output_type": "stream",
     "text": [
      "Error rate on test set for using all training samples (ten features): 16.819572%\n"
     ]
    }
   ],
   "source": [
    "norm_ten_F = fit(MvNormal, Array(df_train_ten_F)')  # Distribution for female\n",
    "norm_ten_M = fit(MvNormal, Array(df_train_ten_M)')  # Distribution for male\n",
    "maha_ten_M = pairwise(SqMahalanobis(norm_ten_M.Σ.mat), Array(df_test[:,1:10])', norm_ten_M.μ'')\n",
    "maha_ten_F = pairwise(SqMahalanobis(norm_ten_F.Σ.mat), Array(df_test[:,1:10])', norm_ten_F.μ'')\n",
    "predict_ten = (maha_ten_M - maha_ten_F + log(det(norm_ten_M.Σ.mat)/det(norm_ten_F.Σ.mat))) .< 0  # true denotes \"M\"\n",
    "error_ten = sum(Array(df_test[:, :Sex] .== \"M\").!=predict_ten)/length(predict_ten)  # error rate\n",
    "@printf \"Error rate on test set for using all training samples (ten features): %.6f%%\\n\" error_ten*100"
   ]
  },
  {
   "cell_type": "markdown",
   "metadata": {
    "collapsed": true
   },
   "source": [
    "### Randomly pick 10 samples"
   ]
  },
  {
   "cell_type": "code",
   "execution_count": 12,
   "metadata": {
    "collapsed": false
   },
   "outputs": [
    {
     "name": "stdout",
     "output_type": "stream",
     "text": [
      "Error rate on test set for randomly picking 20 training samples (two features): 27.217125%\n"
     ]
    }
   ],
   "source": [
    "norm_two_F_s = fit(MvNormal, Array(df_train_two_F_s)')  # Distribution for female\n",
    "norm_two_M_s = fit(MvNormal, Array(df_train_two_M_s)')  # Distribution for male\n",
    "maha_two_M_s = pairwise(SqMahalanobis(norm_two_M_s.Σ.mat), Array(df_test[:,[:F3, :F5]])', norm_two_M_s.μ'')\n",
    "maha_two_F_s = pairwise(SqMahalanobis(norm_two_F_s.Σ.mat), Array(df_test[:,[:F3, :F5]])', norm_two_F_s.μ'')\n",
    "predict_two_s = (maha_two_M_s - maha_two_F_s + log(det(norm_two_M_s.Σ.mat)/det(norm_two_F_s.Σ.mat))) .< 0  # true denotes \"M\"\n",
    "error_two_s = sum(Array(df_test[:, :Sex] .== \"M\").!=predict_two_s)/length(predict_two_s)\n",
    "@printf \"Error rate on test set for randomly picking 20 training samples (two features): %.6f%%\\n\" error_two_s*100"
   ]
  },
  {
   "cell_type": "code",
   "execution_count": 13,
   "metadata": {
    "collapsed": false
   },
   "outputs": [
    {
     "name": "stdout",
     "output_type": "stream",
     "text": [
      "Error rate on test set for randomly picking 20 training samples (ten features): 30.886850%\n"
     ]
    }
   ],
   "source": [
    "μ_F = mean(Array(df_train_ten_F_s), 1)\n",
    "Σ_F = cov(Array(df_train_ten_F_s),1 , false)\n",
    "μ_M = mean(Array(df_train_ten_M_s), 1)\n",
    "Σ_M = cov(Array(df_train_ten_M_s),1 , false)\n",
    "maha_ten_M_s = pairwise(SqMahalanobis(Σ_M), Array(df_test[:,1:10])', μ_M')\n",
    "maha_ten_F_s = pairwise(SqMahalanobis(Σ_F), Array(df_test[:,1:10])', μ_F')\n",
    "predict_ten_s = (maha_ten_M_s - maha_ten_F_s + log(abs(det(Σ_M)/det(Σ_F)))) .< 0  # true denotes \"M\"\n",
    "error_ten_s = sum(Array(df_test[:, :Sex] .== \"M\").!=predict_ten_s)/length(predict_ten_s)  # error rate\n",
    "@printf \"Error rate on test set for randomly picking 20 training samples (ten features): %.6f%%\\n\" error_ten_s*100"
   ]
  },
  {
   "cell_type": "markdown",
   "metadata": {},
   "source": [
    "## Sex Classification with LDA"
   ]
  },
  {
   "cell_type": "markdown",
   "metadata": {},
   "source": [
    "For LDA, the demo use [MultivariateStats](https://github.com/JuliaStats/MultivariateStats.jl). See the document for more details.\n",
    "\n",
    "A linear discriminant functional can be written as:\n",
    "$$\n",
    "f(\\mathbf{x}) = \\mathbf{w}^T \\mathbf{x} + b\n",
    "$$\n",
    "Suppose the samples in the positive and negative classes respectively with means:  $\\boldsymbol{\\mu}_p$ and $\\boldsymbol{\\mu}_n$ , and within-class scatter matrixes  $\\mathbf{S}_p$ and  $\\mathbf{S}_n$. Then based on *Fisher's Linear Discriminant Criteria*, the optimal projection direction can be expressed as:\n",
    "$$\n",
    "\\mathbf{w} = \\alpha \\cdot (\\mathbf{S}_p + \\mathbf{S}_n)^{-1} (\\boldsymbol{\\mu}_p - \\boldsymbol{\\mu}_n)\n",
    "$$\n",
    "Here $\\alpha$ is an arbitrary non-negative coefficient.\n",
    "The threshold $b$ can be obtained by:\n",
    "$$\n",
    "b = -\\frac12(\\boldsymbol{\\mu}_p + \\boldsymbol{\\mu}_n)(\\mathbf{S}_p + \\mathbf{S}_n)^{-1} (\\boldsymbol{\\mu}_p - \\boldsymbol{\\mu}_n)-\\ln\\frac{P(\\omega_p)}{P(\\omega_n)}\n",
    "$$\n",
    "Again we assume $P(\\omega_p)=P(\\omega_n)=0.5$, then the last item can be ignored."
   ]
  },
  {
   "cell_type": "markdown",
   "metadata": {},
   "source": [
    "### Using all samples"
   ]
  },
  {
   "cell_type": "code",
   "execution_count": 14,
   "metadata": {
    "collapsed": false
   },
   "outputs": [
    {
     "data": {
      "text/plain": [
       "MultivariateStats.LinearDiscriminant{Float64}([0.0497863,0.0930593],-18.803757960270772)"
      ]
     },
     "execution_count": 14,
     "metadata": {},
     "output_type": "execute_result"
    }
   ],
   "source": [
    "lda_model_two = fit(LinearDiscriminant, Array(df_train_two_M)', Array(df_train_two_F)')"
   ]
  },
  {
   "cell_type": "code",
   "execution_count": 15,
   "metadata": {
    "collapsed": false
   },
   "outputs": [
    {
     "name": "stdout",
     "output_type": "stream",
     "text": [
      "Error rate on test set for using all training samples (two features): 11.620795%\n"
     ]
    }
   ],
   "source": [
    "error_lda_two = mean(Array(df_test[:, :Sex] .== \"M\") .!= MultivariateStats.predict(lda_model_two, Matrix(df_test[:, [:F3, :F5]])'))\n",
    "@printf \"Error rate on test set for using all training samples (two features): %.6f%%\\n\" error_lda_two*100"
   ]
  },
  {
   "cell_type": "code",
   "execution_count": 16,
   "metadata": {
    "collapsed": false
   },
   "outputs": [
    {
     "name": "stdout",
     "output_type": "stream",
     "text": [
      "Error rate on test set for using all training samples (ten features): 10.091743%\n"
     ]
    }
   ],
   "source": [
    "lda_model_ten = fit(LinearDiscriminant, Array(df_train_ten_M)', Array(df_train_ten_F)')\n",
    "error_lda_ten = mean(Array(df_test[:, :Sex] .== \"M\") .!= MultivariateStats.predict(lda_model_ten, Matrix(df_test[:, 1:10])'))\n",
    "@printf \"Error rate on test set for using all training samples (ten features): %.6f%%\\n\" error_lda_ten*100"
   ]
  },
  {
   "cell_type": "markdown",
   "metadata": {
    "collapsed": false
   },
   "source": [
    "### Randomly pick 10 samples"
   ]
  },
  {
   "cell_type": "code",
   "execution_count": 17,
   "metadata": {
    "collapsed": false
   },
   "outputs": [
    {
     "name": "stdout",
     "output_type": "stream",
     "text": [
      "Error rate on test set for randomly picking 20 training samples (two features): 13.761468%\n"
     ]
    }
   ],
   "source": [
    "lda_model_two_s = fit(LinearDiscriminant, Array(df_train_two_M_s)', Array(df_train_two_F_s)')\n",
    "error_lda_two_s = mean(Array(df_test[:, :Sex] .== \"M\") .!= MultivariateStats.predict(lda_model_two_s, Matrix(df_test[:, [:F3, :F5]])'))\n",
    "@printf \"Error rate on test set for randomly picking 20 training samples (two features): %.6f%%\\n\" error_lda_two_s*100"
   ]
  },
  {
   "cell_type": "code",
   "execution_count": 18,
   "metadata": {
    "collapsed": false
   },
   "outputs": [
    {
     "name": "stdout",
     "output_type": "stream",
     "text": [
      "Error rate on test set for randomly picking 20 training samples (ten features): 18.042813%\n"
     ]
    }
   ],
   "source": [
    "lda_model_ten_s = fit(LinearDiscriminant, Array(df_train_ten_M_s)', Array(df_train_ten_F_s)')\n",
    "error_lda_ten_s = mean(Array(df_test[:, :Sex] .== \"M\") .!= MultivariateStats.predict(lda_model_ten_s, Matrix(df_test[:, 1:10])'))\n",
    "@printf \"Error rate on test set for randomly picking 20 training samples (ten features): %.6f%%\\n\" error_lda_ten_s*100"
   ]
  },
  {
   "cell_type": "markdown",
   "metadata": {},
   "source": [
    "## Sex Classification with Linear SVM"
   ]
  },
  {
   "cell_type": "markdown",
   "metadata": {},
   "source": [
    "The demo use [LIBSVM](https://github.com/simonster/LIBSVM.jl), a Julia bindings for [LIBSVM](http://www.csie.ntu.edu.tw/~cjlin/libsvm/) developed by Chih-Chung Chang and Chih-Jen Lin.\n",
    "\n",
    "For Linux user, run\n",
    "```\n",
    "Pkg.clone(\"https://github.com/simonster/LIBSVM.jl.git\")\n",
    "```\n",
    "For Windows user, a possible solution is:\n",
    "* Download LIBSVM to Julia package repo by\n",
    "    ```\n",
    "    Pkg.clone(\"https://github.com/simonster/LIBSVM.jl.git\")\n",
    "    ```\n",
    "* Install [MinGW32](http://www.mingw.org/wiki/HOWTO_Install_the_MinGW_GCC_Compiler_Suite)\n",
    "* Change [this line](https://github.com/simonster/LIBSVM.jl/blob/master/deps/build.jl#L2) to\n",
    "    ```\n",
    "    mingw32-make lib\n",
    "    ```\n",
    "* Run `Pkg.build(\"LIBSVM\")`\n",
    "\n",
    "Related issue: [this](https://github.com/simonster/LIBSVM.jl/issues/18#issuecomment-255679633) and [this](https://github.com/simonster/LIBSVM.jl/issues/9)."
   ]
  },
  {
   "cell_type": "markdown",
   "metadata": {},
   "source": [
    "In `LIBSVM` binding, the default kernel is `RBF` kernel. Here we provide the result on both `Linear` kernel and `RBF` kernel."
   ]
  },
  {
   "cell_type": "markdown",
   "metadata": {},
   "source": [
    "### Using all samples"
   ]
  },
  {
   "cell_type": "code",
   "execution_count": 19,
   "metadata": {
    "collapsed": false
   },
   "outputs": [
    {
     "name": "stdout",
     "output_type": "stream",
     "text": [
      "Error on test set with linear kernel (two features): 12.232416%\n",
      "Error on test set with RBF kernel (two features): 11.926606%\n"
     ]
    }
   ],
   "source": [
    "model_two = svmtrain(Array(df_train[:, :Sex]), Array(df_train[:, [:F3,:F5]])', kernel_type = LIBSVM.Linear)\n",
    "(predicted_labels, decision_values) = svmpredict(model_two, Array(df_test[:, [:F3,:F5]])');\n",
    "@printf \"Error on test set with linear kernel (two features): %.6f%%\\n\" mean((predicted_labels .!= df_test[:,:Sex]))*100\n",
    "model_two = svmtrain(Array(df_train[:, :Sex]), Array(df_train[:, [:F3, :F5]])', kernel_type = LIBSVM.RBF)\n",
    "(predicted_labels, decision_values) = svmpredict(model_two, Array(df_test[:, [:F3, :F5]])');\n",
    "@printf \"Error on test set with RBF kernel (two features): %.6f%%\\n\" mean((predicted_labels .!= df_test[:,:Sex]))*100"
   ]
  },
  {
   "cell_type": "code",
   "execution_count": 20,
   "metadata": {
    "collapsed": false
   },
   "outputs": [
    {
     "name": "stdout",
     "output_type": "stream",
     "text": [
      "Error on test set with linear kernel (ten features): 11.926606%\n",
      "Error on test set with RBF kernel (ten features): 23.241590%\n"
     ]
    }
   ],
   "source": [
    "model_two = svmtrain(Array(df_train[:, :Sex]), Array(df_train[:, 1:10])', kernel_type = LIBSVM.Linear)\n",
    "(predicted_labels, decision_values) = svmpredict(model_two, Array(df_test[:, 1:10])');\n",
    "@printf \"Error on test set with linear kernel (ten features): %.6f%%\\n\" mean((predicted_labels .!= df_test[:,:Sex]))*100\n",
    "model_ten = svmtrain(Array(df_train[:, :Sex]), Array(df_train[:, 1:10])', kernel_type = LIBSVM.RBF)\n",
    "(predicted_labels, decision_values) = svmpredict(model_ten, Array(df_test[:, 1:10])');\n",
    "@printf \"Error on test set with RBF kernel (ten features): %.6f%%\\n\" mean((predicted_labels .!= df_test[:,:Sex]))*100"
   ]
  },
  {
   "cell_type": "markdown",
   "metadata": {},
   "source": [
    "### Randomly pick 10 samples"
   ]
  },
  {
   "cell_type": "code",
   "execution_count": 21,
   "metadata": {
    "collapsed": false
   },
   "outputs": [
    {
     "name": "stdout",
     "output_type": "stream",
     "text": [
      "Error on test set with linear kernel (two features): 7.645260%\n",
      "Error on test set with RBF kernel (two features): 66.360856%\n"
     ]
    }
   ],
   "source": [
    "arr_train_two_s = [Array(df_train_two_M_s); Array(df_train_two_F_s)]\n",
    "arr_train_label_s = [fill(\"M\", 10);fill(\"F\", 10)]\n",
    "model_two = svmtrain(arr_train_label_s, arr_train_two_s', kernel_type = LIBSVM.Linear)\n",
    "(predicted_labels, decision_values) = svmpredict(model_two, Array(df_test[:, [:F3, :F5]])');\n",
    "@printf \"Error on test set with linear kernel (two features): %.6f%%\\n\" mean((predicted_labels .!= df_test[:,:Sex]))*100\n",
    "model_two = svmtrain(arr_train_label_s, arr_train_two_s', kernel_type = LIBSVM.RBF)\n",
    "(predicted_labels, decision_values) = svmpredict(model_two, Array(df_test[:, [:F3, :F5]])');\n",
    "@printf \"Error on test set with RBF kernel (two features): %.6f%%\\n\" mean((predicted_labels .!= df_test[:,:Sex]))*100"
   ]
  },
  {
   "cell_type": "code",
   "execution_count": 22,
   "metadata": {
    "collapsed": false
   },
   "outputs": [
    {
     "name": "stdout",
     "output_type": "stream",
     "text": [
      "Error on test set with linear kernel (ten features): 15.902141%\n",
      "Error on test set with RBF kernel (ten features): 63.608563%\n"
     ]
    }
   ],
   "source": [
    "arr_train_ten_s = [Array(df_train_ten_M_s); Array(df_train_ten_F_s)]\n",
    "model_ten = svmtrain(arr_train_label_s, arr_train_ten_s', kernel_type = LIBSVM.Linear)\n",
    "(predicted_labels, decision_values) = svmpredict(model_ten, Array(df_test[:, 1:10])');\n",
    "@printf \"Error on test set with linear kernel (ten features): %.6f%%\\n\" mean((predicted_labels .!= df_test[:,:Sex]))*100\n",
    "model_ten = svmtrain(arr_train_label_s, arr_train_ten_s', kernel_type = LIBSVM.RBF)\n",
    "(predicted_labels, decision_values) = svmpredict(model_ten, Array(df_test[:, 1:10])');\n",
    "@printf \"Error on test set with RBF kernel (ten features): %.6f%%\\n\" mean((predicted_labels .!= df_test[:,:Sex]))*100"
   ]
  },
  {
   "cell_type": "markdown",
   "metadata": {},
   "source": [
    "## Sex Classification with MLP"
   ]
  },
  {
   "cell_type": "markdown",
   "metadata": {},
   "source": [
    "The program use unregistered [ANN](https://github.com/ericchiang/ANN.jl) package to build MLP. Run\n",
    "```\n",
    "Pkg.clone(\"https://github.com/ericchiang/ANN.jl.git\")\n",
    "```\n",
    "to install."
   ]
  },
  {
   "cell_type": "markdown",
   "metadata": {},
   "source": [
    "### Function definations"
   ]
  },
  {
   "cell_type": "markdown",
   "metadata": {},
   "source": [
    "* Map Label to Int64 in order to feed into neural network"
   ]
  },
  {
   "cell_type": "code",
   "execution_count": 23,
   "metadata": {
    "collapsed": false
   },
   "outputs": [
    {
     "data": {
      "text/plain": [
       "mapLabelToInt (generic function with 1 method)"
      ]
     },
     "execution_count": 23,
     "metadata": {},
     "output_type": "execute_result"
    }
   ],
   "source": [
    "function mapLabelToInt(org::Array{String, 1})\n",
    "    dst = zeros(Int64, size(org))\n",
    "    classes = unique(org)\n",
    "    for (index, value) in enumerate(classes)\n",
    "        dst[org.==value] = index\n",
    "    end\n",
    "    dst\n",
    "end"
   ]
  },
  {
   "cell_type": "markdown",
   "metadata": {},
   "source": [
    "* Structure and method to do data pre-pocessing (normalization). [Reference](http://blog.yhat.com/posts/julia-neural-networks.html)."
   ]
  },
  {
   "cell_type": "code",
   "execution_count": 24,
   "metadata": {
    "collapsed": false
   },
   "outputs": [
    {
     "data": {
      "text/plain": [
       "fit_transform! (generic function with 1 method)"
      ]
     },
     "execution_count": 24,
     "metadata": {},
     "output_type": "execute_result"
    }
   ],
   "source": [
    "type StandardScalar\n",
    "    mean::Vector{Float64}\n",
    "    std::Vector{Float64}\n",
    "end\n",
    "\n",
    "# Helper function to initialize an empty scalar\n",
    "function StandardScalar()\n",
    "    StandardScalar(Array(Float64,0),Array(Float64,0))\n",
    "end\n",
    "\n",
    "# Compute mean and standard deviation of each column\n",
    "function fit_std_scalar!(std_scalar::StandardScalar,X::Matrix{Float64})\n",
    "    n_rows, n_cols = size(X)\n",
    "    std_scalar.std = zeros(n_cols)\n",
    "    std_scalar.mean = zeros(n_cols)\n",
    "    # for loops are fast again!\n",
    "    for i = 1:n_cols\n",
    "        std_scalar.mean[i] = mean(X[:,i])\n",
    "        std_scalar.std[i] = std(X[:,i])\n",
    "    end\n",
    "end\n",
    "\n",
    "function transform(std_scalar::StandardScalar,X::Matrix{Float64})\n",
    "    (X .- std_scalar.mean') ./ std_scalar.std' # broadcasting fu\n",
    "end\n",
    "\n",
    "# fit and transform in one function\n",
    "function fit_transform!(std_scalar::StandardScalar,X::Matrix{Float64})\n",
    "    fit_std_scalar!(std_scalar,X)\n",
    "    transform(std_scalar,X)\n",
    "end"
   ]
  },
  {
   "cell_type": "markdown",
   "metadata": {},
   "source": [
    "* Evaluation routing"
   ]
  },
  {
   "cell_type": "code",
   "execution_count": 25,
   "metadata": {
    "collapsed": false
   },
   "outputs": [
    {
     "data": {
      "text/plain": [
       "evaluate_routing (generic function with 1 method)"
      ]
     },
     "execution_count": 25,
     "metadata": {},
     "output_type": "execute_result"
    }
   ],
   "source": [
    "function evaluate_routing(ann::ArtificialNeuralNetwork,test_data::Matrix,test_label::Vector{String})\n",
    "    proba = ANN.predict(ann, test_data)\n",
    "    pred = Array(Int64, size(test_data, 1))\n",
    "    for i in 1:size(X_test, 1)\n",
    "        pred[i] = ann.classes[indmax(proba[i,:])]\n",
    "    end\n",
    "    error_rate = mean(pred .!= mapLabelToInt(Array(test_label)))\n",
    "    pred, error_rate\n",
    "end"
   ]
  },
  {
   "cell_type": "markdown",
   "metadata": {},
   "source": [
    "### Using all samples"
   ]
  },
  {
   "cell_type": "code",
   "execution_count": 44,
   "metadata": {
    "collapsed": false
   },
   "outputs": [],
   "source": [
    "ann_two = ArtificialNeuralNetwork(12)  # build the network, using 12 hidden nodes.\n",
    "std_scalar = StandardScalar()  # these consequtive 3 lines normalizing training and testing data\n",
    "X_train = fit_transform!(std_scalar, Matrix(df_train[[:F3,:F5]]))\n",
    "X_test = transform(std_scalar, Matrix(df_test[[:F3,:F5]]))\n",
    "ANN.fit!(ann_two, X_train, mapLabelToInt(Array(df_train[:,:Sex])), epochs=500, alpha=0.1, lambda=1e-5)  # training"
   ]
  },
  {
   "cell_type": "code",
   "execution_count": 45,
   "metadata": {
    "collapsed": false
   },
   "outputs": [
    {
     "name": "stdout",
     "output_type": "stream",
     "text": [
      "Error rate (two features): 7.339449541284404%\n"
     ]
    }
   ],
   "source": [
    "_, error_rate = evaluate_routing(ann_two, X_test, Array(df_test[:Sex]))\n",
    "println(\"Error rate (two features): \",error_rate*100,\"%\")"
   ]
  },
  {
   "cell_type": "code",
   "execution_count": 33,
   "metadata": {
    "collapsed": false
   },
   "outputs": [
    {
     "name": "stdout",
     "output_type": "stream",
     "text": [
      "Error rate (ten features): 10.397553516819572%\n"
     ]
    }
   ],
   "source": [
    "ann_ten = ArtificialNeuralNetwork(12)  # build the network, using 12 hidden nodes.\n",
    "std_scalar = StandardScalar()  # these consequtive 3 lines normalizing training and testing data\n",
    "X_train = fit_transform!(std_scalar, Matrix(df_train[1:10]))\n",
    "X_test = transform(std_scalar, Matrix(df_test[1:10]))\n",
    "ANN.fit!(ann_ten, X_train, mapLabelToInt(Array(df_train[:,:Sex])), epochs=500, alpha=0.1, lambda=1e-5)  # training\n",
    "_, error_rate = evaluate_routing(ann_ten, X_test, Array(df_test[:Sex]))\n",
    "println(\"Error rate (ten features): \",error_rate*100,\"%\")"
   ]
  },
  {
   "cell_type": "markdown",
   "metadata": {},
   "source": [
    "### Randomly pick 10 samples"
   ]
  },
  {
   "cell_type": "code",
   "execution_count": 29,
   "metadata": {
    "collapsed": false
   },
   "outputs": [
    {
     "name": "stdout",
     "output_type": "stream",
     "text": [
      "Error rate: 88.37920489296636%\n"
     ]
    }
   ],
   "source": [
    "ann_two_s = ArtificialNeuralNetwork(12)  # build the network, using 12 hidden nodes.\n",
    "std_scalar = StandardScalar()  # these consequtive 3 lines normalizing training and testing data\n",
    "X_train = fit_transform!(std_scalar, arr_train_two_s)\n",
    "X_test = transform(std_scalar, Matrix(df_test[[:F3,:F5]]))\n",
    "ANN.fit!(ann_two_s, X_train, mapLabelToInt(arr_train_label_s), epochs=100, alpha=0.1, lambda=1e-5)  # training\n",
    "pred_res, error_rate = evaluate_routing(ann_two_s, X_test, Array(df_test[:Sex]))\n",
    "println(\"Error rate: \",error_rate*100,\"%\")\n",
    "# _,count = hist(pred_res)\n",
    "# println(count)"
   ]
  },
  {
   "cell_type": "code",
   "execution_count": 30,
   "metadata": {
    "collapsed": false
   },
   "outputs": [
    {
     "name": "stdout",
     "output_type": "stream",
     "text": [
      "Error rate: 80.42813455657493%\n"
     ]
    }
   ],
   "source": [
    "ann_ten_s = ArtificialNeuralNetwork(12)  # build the network, using 12 hidden nodes.\n",
    "std_scalar = StandardScalar()  # these consequtive 3 lines normalizing training and testing data\n",
    "X_train = fit_transform!(std_scalar, arr_train_ten_s)\n",
    "X_test = transform(std_scalar, Matrix(df_test[1:10]))\n",
    "ANN.fit!(ann_ten_s, X_train, mapLabelToInt(arr_train_label_s), epochs=100, alpha=0.1, lambda=1e-5)  # training\n",
    "pred_res, error_rate = evaluate_routing(ann_ten_s, X_test, Array(df_test[:Sex]))\n",
    "println(\"Error rate: \",error_rate*100,\"%\")\n",
    "# _,count = hist(pred_res)\n",
    "# println(count)"
   ]
  },
  {
   "cell_type": "markdown",
   "metadata": {},
   "source": [
    "The ANN model predict equal number of male and female samples with limited training samples, thus performs bad on a biased test set."
   ]
  },
  {
   "cell_type": "markdown",
   "metadata": {},
   "source": [
    "## Other Experiments"
   ]
  },
  {
   "cell_type": "markdown",
   "metadata": {},
   "source": [
    "* Train neural network using feature 6-10 using all training samples. Other settings remain the same. The high error rate compared with 2 features (7.33% error rate) shows that feature 6-10 is less discriminative."
   ]
  },
  {
   "cell_type": "code",
   "execution_count": 48,
   "metadata": {
    "collapsed": false
   },
   "outputs": [
    {
     "name": "stdout",
     "output_type": "stream",
     "text": [
      "Error rate (five features 6-10): 23.853211009174313%\n"
     ]
    }
   ],
   "source": [
    "ann_five = ArtificialNeuralNetwork(12)  # build the network, using 12 hidden nodes.\n",
    "std_scalar = StandardScalar()  # these consequtive 3 lines normalizing training and testing data\n",
    "X_train = fit_transform!(std_scalar, Matrix(df_train[[:F6, :F7, :F8,:F9, :F10]]))\n",
    "X_test = transform(std_scalar, Matrix(df_test[[:F6, :F7, :F8,:F9, :F10]]))\n",
    "ANN.fit!(ann_five, X_train, mapLabelToInt(Array(df_train[:,:Sex])), epochs=500, alpha=0.1, lambda=1e-5)  # training\n",
    "_, error_rate = evaluate_routing(ann_five, X_test, Array(df_test[:Sex]))\n",
    "println(\"Error rate (five features 6-10): \",error_rate*100,\"%\")"
   ]
  }
 ],
 "metadata": {
  "celltoolbar": "Raw Cell Format",
  "kernelspec": {
   "display_name": "Julia 0.5.0",
   "language": "julia",
   "name": "julia-0.5"
  },
  "language_info": {
   "file_extension": ".jl",
   "mimetype": "application/julia",
   "name": "julia",
   "version": "0.5.0"
  }
 },
 "nbformat": 4,
 "nbformat_minor": 1
}
