{
 "cells": [
  {
   "cell_type": "markdown",
   "metadata": {},
   "source": [
    "# Pattern Recognition, Homework 2"
   ]
  },
  {
   "cell_type": "markdown",
   "metadata": {},
   "source": [
    "* **Author** Haonan Chen\n",
    "* **Class** 32\n",
    "* **Student No.** 2013011449\n",
    "* **Date** 2016/10/22\n",
    "* **Language** [Julia](http://julialang.org/)"
   ]
  },
  {
   "cell_type": "markdown",
   "metadata": {},
   "source": [
    "## Read training and testing data"
   ]
  },
  {
   "cell_type": "markdown",
   "metadata": {},
   "source": [
    "Using `Pkg.add(package)` to install packages."
   ]
  },
  {
   "cell_type": "code",
   "execution_count": 1,
   "metadata": {
    "collapsed": false
   },
   "outputs": [],
   "source": [
    "using DataFrames\n",
    "using Distributions\n",
    "using Distances"
   ]
  },
  {
   "cell_type": "code",
   "execution_count": 2,
   "metadata": {
    "collapsed": false
   },
   "outputs": [
    {
     "data": {
      "text/html": [
       "<table class=\"data-frame\"><tr><th></th><th>Sex</th><th>number</th></tr><tr><th>1</th><td>F</td><td>468</td></tr><tr><th>2</th><td>M</td><td>485</td></tr></table>"
      ],
      "text/plain": [
       "2×2 DataFrames.DataFrame\n",
       "│ Row │ Sex │ number │\n",
       "├─────┼─────┼────────┤\n",
       "│ 1   │ \"F\" │ 468    │\n",
       "│ 2   │ \"M\" │ 485    │"
      ]
     },
     "execution_count": 2,
     "metadata": {},
     "output_type": "execute_result"
    }
   ],
   "source": [
    "df_train = readtable(\"dataset3.txt\", separator = '\\t')\n",
    "df_test = readtable(\"dataset4.txt\", separator = '\\t')\n",
    "names!(df_train, cat(1, [Symbol(\"F$i\") for i in 1:10],[Symbol(\"Sex\")]))  # assign a name to each column\n",
    "names!(df_test,  cat(1, [Symbol(\"F$i\") for i in 1:10],[Symbol(\"Sex\")]))\n",
    "df_test[df_test[:,:Sex].==\"f\",:Sex]=\"F\"\n",
    "by(df_train, :Sex) do df\n",
    "  DataFrame(\n",
    "    number = length(df[:Sex]),\n",
    "  )\n",
    "end"
   ]
  },
  {
   "cell_type": "code",
   "execution_count": 9,
   "metadata": {
    "collapsed": false
   },
   "outputs": [
    {
     "data": {
      "text/html": [
       "<table class=\"data-frame\"><tr><th></th><th>Sex</th><th>number</th></tr><tr><th>1</th><td>F</td><td>77</td></tr><tr><th>2</th><td>M</td><td>250</td></tr></table>"
      ],
      "text/plain": [
       "2×2 DataFrames.DataFrame\n",
       "│ Row │ Sex │ number │\n",
       "├─────┼─────┼────────┤\n",
       "│ 1   │ \"F\" │ 77     │\n",
       "│ 2   │ \"M\" │ 250    │"
      ]
     },
     "execution_count": 9,
     "metadata": {},
     "output_type": "execute_result"
    }
   ],
   "source": [
    "by(df_test, :Sex) do df\n",
    "  DataFrame(\n",
    "    number = length(df[:Sex]),\n",
    "  )\n",
    "end"
   ]
  },
  {
   "cell_type": "code",
   "execution_count": 46,
   "metadata": {
    "collapsed": false
   },
   "outputs": [
    {
     "data": {
      "text/html": [
       "<table class=\"data-frame\"><tr><th></th><th>F3</th><th>F5</th></tr><tr><th>1</th><td>50.0</td><td>165.0</td></tr><tr><th>2</th><td>54.0</td><td>168.0</td></tr><tr><th>3</th><td>50.0</td><td>165.0</td></tr><tr><th>4</th><td>50.0</td><td>157.0</td></tr><tr><th>5</th><td>49.0</td><td>160.0</td></tr><tr><th>6</th><td>54.0</td><td>165.0</td></tr><tr><th>7</th><td>53.0</td><td>168.0</td></tr><tr><th>8</th><td>44.0</td><td>155.0</td></tr><tr><th>9</th><td>52.0</td><td>169.0</td></tr><tr><th>10</th><td>58.0</td><td>163.0</td></tr></table>"
      ],
      "text/plain": [
       "10×2 DataFrames.DataFrame\n",
       "│ Row │ F3   │ F5    │\n",
       "├─────┼──────┼───────┤\n",
       "│ 1   │ 50.0 │ 165.0 │\n",
       "│ 2   │ 54.0 │ 168.0 │\n",
       "│ 3   │ 50.0 │ 165.0 │\n",
       "│ 4   │ 50.0 │ 157.0 │\n",
       "│ 5   │ 49.0 │ 160.0 │\n",
       "│ 6   │ 54.0 │ 165.0 │\n",
       "│ 7   │ 53.0 │ 168.0 │\n",
       "│ 8   │ 44.0 │ 155.0 │\n",
       "│ 9   │ 52.0 │ 169.0 │\n",
       "│ 10  │ 58.0 │ 163.0 │"
      ]
     },
     "execution_count": 46,
     "metadata": {},
     "output_type": "execute_result"
    }
   ],
   "source": [
    "df_train_two_F = df_train[df_train[:,:Sex].==\"F\",[:F3,:F5]]\n",
    "df_train_two_M = df_train[df_train[:,:Sex].==\"M\",[:F3,:F5]]\n",
    "df_train_two_F_s = df_train_two_F[sample(1:size(df_train_two_F, 1), 10, replace = false), :]"
   ]
  },
  {
   "cell_type": "code",
   "execution_count": 47,
   "metadata": {
    "collapsed": false
   },
   "outputs": [
    {
     "data": {
      "text/html": [
       "<table class=\"data-frame\"><tr><th></th><th>F3</th><th>F5</th></tr><tr><th>1</th><td>55.0</td><td>155.0</td></tr><tr><th>2</th><td>42.0</td><td>155.0</td></tr><tr><th>3</th><td>49.0</td><td>163.0</td></tr><tr><th>4</th><td>55.0</td><td>175.0</td></tr><tr><th>5</th><td>58.0</td><td>168.0</td></tr><tr><th>6</th><td>53.0</td><td>163.0</td></tr><tr><th>7</th><td>50.0</td><td>165.0</td></tr><tr><th>8</th><td>47.0</td><td>162.0</td></tr><tr><th>9</th><td>43.0</td><td>158.0</td></tr><tr><th>10</th><td>62.0</td><td>163.0</td></tr></table>"
      ],
      "text/plain": [
       "10×2 DataFrames.DataFrame\n",
       "│ Row │ F3   │ F5    │\n",
       "├─────┼──────┼───────┤\n",
       "│ 1   │ 55.0 │ 155.0 │\n",
       "│ 2   │ 42.0 │ 155.0 │\n",
       "│ 3   │ 49.0 │ 163.0 │\n",
       "│ 4   │ 55.0 │ 175.0 │\n",
       "│ 5   │ 58.0 │ 168.0 │\n",
       "│ 6   │ 53.0 │ 163.0 │\n",
       "│ 7   │ 50.0 │ 165.0 │\n",
       "│ 8   │ 47.0 │ 162.0 │\n",
       "│ 9   │ 43.0 │ 158.0 │\n",
       "│ 10  │ 62.0 │ 163.0 │"
      ]
     },
     "execution_count": 47,
     "metadata": {},
     "output_type": "execute_result"
    }
   ],
   "source": [
    "df_train_two_F_s = df_train_two_F[sample(1:size(df_train_two_F, 1), 10, replace = false), :]"
   ]
  },
  {
   "cell_type": "code",
   "execution_count": 45,
   "metadata": {
    "collapsed": false
   },
   "outputs": [
    {
     "data": {
      "text/html": [
       "<table class=\"data-frame\"><tr><th></th><th>F1</th><th>F2</th><th>F3</th><th>F4</th><th>F5</th><th>F6</th><th>F7</th><th>F8</th><th>F9</th><th>F10</th></tr><tr><th>1</th><td>289.0</td><td>32.49</td><td>57.0</td><td>19.72</td><td>170.0</td><td>173.0</td><td>48.0</td><td>165.03</td><td>168.63</td><td>183.69</td></tr><tr><th>2</th><td>243.36</td><td>25.0</td><td>50.0</td><td>20.55</td><td>156.0</td><td>174.0</td><td>50.0</td><td>164.0</td><td>182.88</td><td>161.37</td></tr><tr><th>3</th><td>265.69</td><td>24.01</td><td>49.0</td><td>18.44</td><td>163.0</td><td>158.0</td><td>58.0</td><td>157.07</td><td>174.08</td><td>204.78</td></tr><tr><th>4</th><td>252.81</td><td>22.56</td><td>47.5</td><td>18.79</td><td>159.0</td><td>174.0</td><td>78.0</td><td>174.11</td><td>158.48</td><td>188.7</td></tr><tr><th>5</th><td>316.84</td><td>51.84</td><td>72.0</td><td>22.72</td><td>178.0</td><td>181.0</td><td>49.0</td><td>169.85</td><td>167.66</td><td>180.76</td></tr><tr><th>6</th><td>268.96</td><td>30.25</td><td>55.0</td><td>20.45</td><td>164.0</td><td>167.0</td><td>51.0</td><td>156.9</td><td>175.07</td><td>198.15</td></tr><tr><th>7</th><td>259.21</td><td>25.0</td><td>50.0</td><td>19.29</td><td>161.0</td><td>162.0</td><td>50.0</td><td>173.23</td><td>175.08</td><td>176.0</td></tr><tr><th>8</th><td>259.21</td><td>18.49</td><td>43.0</td><td>16.59</td><td>161.0</td><td>155.0</td><td>65.0</td><td>170.29</td><td>167.91</td><td>192.52</td></tr><tr><th>9</th><td>292.41</td><td>30.25</td><td>55.0</td><td>18.81</td><td>171.0</td><td>173.0</td><td>65.0</td><td>180.18</td><td>166.37</td><td>202.45</td></tr><tr><th>10</th><td>262.44</td><td>23.04</td><td>48.0</td><td>18.29</td><td>162.0</td><td>175.0</td><td>72.0</td><td>170.47</td><td>183.44</td><td>204.34</td></tr></table>"
      ],
      "text/plain": [
       "10×10 DataFrames.DataFrame\n",
       "│ Row │ F1     │ F2    │ F3   │ F4    │ F5    │ F6    │ F7   │ F8     │ F9     │\n",
       "├─────┼────────┼───────┼──────┼───────┼───────┼───────┼──────┼────────┼────────┤\n",
       "│ 1   │ 289.0  │ 32.49 │ 57.0 │ 19.72 │ 170.0 │ 173.0 │ 48.0 │ 165.03 │ 168.63 │\n",
       "│ 2   │ 243.36 │ 25.0  │ 50.0 │ 20.55 │ 156.0 │ 174.0 │ 50.0 │ 164.0  │ 182.88 │\n",
       "│ 3   │ 265.69 │ 24.01 │ 49.0 │ 18.44 │ 163.0 │ 158.0 │ 58.0 │ 157.07 │ 174.08 │\n",
       "│ 4   │ 252.81 │ 22.56 │ 47.5 │ 18.79 │ 159.0 │ 174.0 │ 78.0 │ 174.11 │ 158.48 │\n",
       "│ 5   │ 316.84 │ 51.84 │ 72.0 │ 22.72 │ 178.0 │ 181.0 │ 49.0 │ 169.85 │ 167.66 │\n",
       "│ 6   │ 268.96 │ 30.25 │ 55.0 │ 20.45 │ 164.0 │ 167.0 │ 51.0 │ 156.9  │ 175.07 │\n",
       "│ 7   │ 259.21 │ 25.0  │ 50.0 │ 19.29 │ 161.0 │ 162.0 │ 50.0 │ 173.23 │ 175.08 │\n",
       "│ 8   │ 259.21 │ 18.49 │ 43.0 │ 16.59 │ 161.0 │ 155.0 │ 65.0 │ 170.29 │ 167.91 │\n",
       "│ 9   │ 292.41 │ 30.25 │ 55.0 │ 18.81 │ 171.0 │ 173.0 │ 65.0 │ 180.18 │ 166.37 │\n",
       "│ 10  │ 262.44 │ 23.04 │ 48.0 │ 18.29 │ 162.0 │ 175.0 │ 72.0 │ 170.47 │ 183.44 │\n",
       "\n",
       "│ Row │ F10    │\n",
       "├─────┼────────┤\n",
       "│ 1   │ 183.69 │\n",
       "│ 2   │ 161.37 │\n",
       "│ 3   │ 204.78 │\n",
       "│ 4   │ 188.7  │\n",
       "│ 5   │ 180.76 │\n",
       "│ 6   │ 198.15 │\n",
       "│ 7   │ 176.0  │\n",
       "│ 8   │ 192.52 │\n",
       "│ 9   │ 202.45 │\n",
       "│ 10  │ 204.34 │"
      ]
     },
     "execution_count": 45,
     "metadata": {},
     "output_type": "execute_result"
    }
   ],
   "source": [
    "df_train_ten_F = df_train[df_train[:,:Sex].==\"F\", 1:10]\n",
    "df_train_ten_M = df_train[df_train[:,:Sex].==\"M\", 1:10]\n",
    "df_train_ten_F_s = df_train_ten_F[sample(1:size(df_train_ten_F, 1), 10, replace = false), :]"
   ]
  },
  {
   "cell_type": "code",
   "execution_count": 43,
   "metadata": {
    "collapsed": false
   },
   "outputs": [
    {
     "data": {
      "text/html": [
       "<table class=\"data-frame\"><tr><th></th><th>F1</th><th>F2</th><th>F3</th><th>F4</th><th>F5</th><th>F6</th><th>F7</th><th>F8</th><th>F9</th><th>F10</th></tr><tr><th>1</th><td>334.89</td><td>43.56</td><td>66.0</td><td>19.71</td><td>183.0</td><td>179.0</td><td>60.0</td><td>164.18</td><td>180.54</td><td>165.01</td></tr><tr><th>2</th><td>299.29</td><td>39.69</td><td>63.0</td><td>21.05</td><td>173.0</td><td>183.0</td><td>65.0</td><td>171.44</td><td>165.2</td><td>160.79</td></tr><tr><th>3</th><td>338.56</td><td>67.24</td><td>82.0</td><td>24.22</td><td>184.0</td><td>184.0</td><td>50.0</td><td>164.09</td><td>167.91</td><td>167.55</td></tr><tr><th>4</th><td>316.84</td><td>60.84</td><td>78.0</td><td>24.62</td><td>178.0</td><td>174.0</td><td>46.0</td><td>160.16</td><td>168.62</td><td>175.95</td></tr><tr><th>5</th><td>306.25</td><td>36.0</td><td>60.0</td><td>19.59</td><td>175.0</td><td>177.0</td><td>52.0</td><td>172.22</td><td>165.22</td><td>164.12</td></tr><tr><th>6</th><td>289.0</td><td>42.25</td><td>65.0</td><td>22.49</td><td>170.0</td><td>175.0</td><td>51.0</td><td>199.84</td><td>171.07</td><td>152.68</td></tr><tr><th>7</th><td>299.29</td><td>24.01</td><td>49.0</td><td>16.37</td><td>173.0</td><td>162.0</td><td>49.0</td><td>175.17</td><td>166.41</td><td>204.77</td></tr><tr><th>8</th><td>289.0</td><td>37.21</td><td>61.0</td><td>21.11</td><td>170.0</td><td>170.0</td><td>71.0</td><td>174.98</td><td>162.95</td><td>199.3</td></tr><tr><th>9</th><td>282.24</td><td>39.69</td><td>63.0</td><td>22.32</td><td>168.0</td><td>185.0</td><td>78.0</td><td>178.1</td><td>168.25</td><td>150.36</td></tr><tr><th>10</th><td>320.41</td><td>33.64</td><td>58.0</td><td>18.1</td><td>179.0</td><td>176.0</td><td>66.0</td><td>178.25</td><td>171.97</td><td>183.65</td></tr></table>"
      ],
      "text/plain": [
       "10×10 DataFrames.DataFrame\n",
       "│ Row │ F1     │ F2    │ F3   │ F4    │ F5    │ F6    │ F7   │ F8     │ F9     │\n",
       "├─────┼────────┼───────┼──────┼───────┼───────┼───────┼──────┼────────┼────────┤\n",
       "│ 1   │ 334.89 │ 43.56 │ 66.0 │ 19.71 │ 183.0 │ 179.0 │ 60.0 │ 164.18 │ 180.54 │\n",
       "│ 2   │ 299.29 │ 39.69 │ 63.0 │ 21.05 │ 173.0 │ 183.0 │ 65.0 │ 171.44 │ 165.2  │\n",
       "│ 3   │ 338.56 │ 67.24 │ 82.0 │ 24.22 │ 184.0 │ 184.0 │ 50.0 │ 164.09 │ 167.91 │\n",
       "│ 4   │ 316.84 │ 60.84 │ 78.0 │ 24.62 │ 178.0 │ 174.0 │ 46.0 │ 160.16 │ 168.62 │\n",
       "│ 5   │ 306.25 │ 36.0  │ 60.0 │ 19.59 │ 175.0 │ 177.0 │ 52.0 │ 172.22 │ 165.22 │\n",
       "│ 6   │ 289.0  │ 42.25 │ 65.0 │ 22.49 │ 170.0 │ 175.0 │ 51.0 │ 199.84 │ 171.07 │\n",
       "│ 7   │ 299.29 │ 24.01 │ 49.0 │ 16.37 │ 173.0 │ 162.0 │ 49.0 │ 175.17 │ 166.41 │\n",
       "│ 8   │ 289.0  │ 37.21 │ 61.0 │ 21.11 │ 170.0 │ 170.0 │ 71.0 │ 174.98 │ 162.95 │\n",
       "│ 9   │ 282.24 │ 39.69 │ 63.0 │ 22.32 │ 168.0 │ 185.0 │ 78.0 │ 178.1  │ 168.25 │\n",
       "│ 10  │ 320.41 │ 33.64 │ 58.0 │ 18.1  │ 179.0 │ 176.0 │ 66.0 │ 178.25 │ 171.97 │\n",
       "\n",
       "│ Row │ F10    │\n",
       "├─────┼────────┤\n",
       "│ 1   │ 165.01 │\n",
       "│ 2   │ 160.79 │\n",
       "│ 3   │ 167.55 │\n",
       "│ 4   │ 175.95 │\n",
       "│ 5   │ 164.12 │\n",
       "│ 6   │ 152.68 │\n",
       "│ 7   │ 204.77 │\n",
       "│ 8   │ 199.3  │\n",
       "│ 9   │ 150.36 │\n",
       "│ 10  │ 183.65 │"
      ]
     },
     "execution_count": 43,
     "metadata": {},
     "output_type": "execute_result"
    }
   ],
   "source": [
    "df_train_ten_M_s = df_train_ten_M[sample(1:size(df_train_two_M, 1), 10, replace = false), :]"
   ]
  },
  {
   "cell_type": "markdown",
   "metadata": {},
   "source": [
    "## Sex Classification with Bayes Classifier"
   ]
  },
  {
   "cell_type": "markdown",
   "metadata": {},
   "source": [
    "Follow this procedure:\n",
    "\n",
    "* Fit Normal Distribution in each class in the training dataa to get parameters $\\mu_i$ and $\\Sigma_i$.\n",
    "* Decision boundary can be determined by\n",
    "$$\n",
    "    -\\frac12[(x-\\mu_i)^\\mathbf{T}\\Sigma_i^{-1}(x-\\mu_i)-(x-\\mu_j)^\\mathbf{T}\\Sigma_j^{-1}(x-\\mu_j)]-\\frac12\\ln \\frac{|\\Sigma_i|}{|\\Sigma_j|}+\\ln\\frac{P(\\omega_i)}{P(\\omega_j)}=0\n",
    "$$\n",
    "* Then we can make prediction on test set.\n",
    "\n",
    "Note that we are assuming the priori probability $P(\\omega_i)=P(\\omega_j)=0.5$, so the last item in the formular above can be ignored."
   ]
  },
  {
   "cell_type": "markdown",
   "metadata": {},
   "source": [
    "### Using all samples"
   ]
  },
  {
   "cell_type": "code",
   "execution_count": 5,
   "metadata": {
    "collapsed": false
   },
   "outputs": [
    {
     "data": {
      "text/plain": [
       "FullNormal(\n",
       "dim: 2\n",
       "μ: [51.7457,163.632]\n",
       "Σ: [39.2591 16.5807; 16.5807 30.053]\n",
       ")\n"
      ]
     },
     "execution_count": 5,
     "metadata": {},
     "output_type": "execute_result"
    }
   ],
   "source": [
    "# Distribution for female (female first)\n",
    "norm_two_F = fit(MvNormal, Array(df_train_two_F)')"
   ]
  },
  {
   "cell_type": "code",
   "execution_count": 6,
   "metadata": {
    "collapsed": false
   },
   "outputs": [
    {
     "data": {
      "text/plain": [
       "FullNormal(\n",
       "dim: 2\n",
       "μ: [68.0334,176.41]\n",
       "Σ: [85.2565 23.3637; 23.3637 32.5048]\n",
       ")\n"
      ]
     },
     "execution_count": 6,
     "metadata": {},
     "output_type": "execute_result"
    }
   ],
   "source": [
    "# Distribution for male\n",
    "norm_two_M = fit(MvNormal, Array(df_train_two_M)')"
   ]
  },
  {
   "cell_type": "code",
   "execution_count": 7,
   "metadata": {
    "collapsed": false
   },
   "outputs": [
    {
     "data": {
      "text/plain": [
       "0.14067278287461774"
      ]
     },
     "execution_count": 7,
     "metadata": {},
     "output_type": "execute_result"
    }
   ],
   "source": [
    "maha_two_M = pairwise(SqMahalanobis(norm_two_M.Σ.mat), Array(df_test[:,[:F3, :F5]])', norm_two_M.μ'')\n",
    "maha_two_F = pairwise(SqMahalanobis(norm_two_F.Σ.mat), Array(df_test[:,[:F3, :F5]])', norm_two_F.μ'')\n",
    "predict = (maha_two_M - maha_two_F + log(det(norm_two_M.Σ.mat)/det(norm_two_F.Σ.mat))) .< 0  # true denotes \"M\"\n",
    "error_two = sum(Array(df_test[:, :Sex] .== \"M\").!=predict)/length(predict)  # error rate"
   ]
  },
  {
   "cell_type": "code",
   "execution_count": 30,
   "metadata": {
    "collapsed": false
   },
   "outputs": [
    {
     "data": {
      "text/plain": [
       "0.16819571865443425"
      ]
     },
     "execution_count": 30,
     "metadata": {},
     "output_type": "execute_result"
    }
   ],
   "source": [
    "norm_ten_F = fit(MvNormal, Array(df_train_ten_F)')  # Distribution for female\n",
    "norm_ten_M = fit(MvNormal, Array(df_train_ten_M)')  # Distribution for male\n",
    "maha_ten_M = pairwise(SqMahalanobis(norm_ten_M.Σ.mat), Array(df_test[:,1:10])', norm_ten_M.μ'')\n",
    "maha_ten_F = pairwise(SqMahalanobis(norm_ten_F.Σ.mat), Array(df_test[:,1:10])', norm_ten_F.μ'')\n",
    "predict = (maha_ten_M - maha_ten_F + log(det(norm_ten_M.Σ.mat)/det(norm_ten_F.Σ.mat))) .< 0  # true denotes \"M\"\n",
    "error_ten = sum(Array(df_test[:, :Sex] .== \"M\").!=predict)/length(predict)  # error rate"
   ]
  },
  {
   "cell_type": "markdown",
   "metadata": {
    "collapsed": true
   },
   "source": [
    "### Randomly pick 10 samples"
   ]
  },
  {
   "cell_type": "code",
   "execution_count": 39,
   "metadata": {
    "collapsed": false
   },
   "outputs": [
    {
     "ename": "LoadError",
     "evalue": "LoadError: Base.LinAlg.PosDefException(10)\nwhile loading In[39], in expression starting on line 1",
     "output_type": "error",
     "traceback": [
      "LoadError: Base.LinAlg.PosDefException(10)\nwhile loading In[39], in expression starting on line 1",
      "",
      " in _chol!(::Array{Float64,2}, ::Type{UpperTriangular}) at .\\linalg\\cholesky.jl:55",
      " in cholfact!(::Hermitian{Float64,Array{Float64,2}}, ::Type{Val{false}}) at .\\linalg\\cholesky.jl:185",
      " in cholfact(::Array{Float64,2}, ::Symbol) at .\\linalg\\cholesky.jl:282",
      " in fit_mle(::Type{Distributions.MvNormal{Float64,PDMats.PDMat{Float64,Array{Float64,2}},Array{Float64,1}}}, ::Array{Float64,2}) at C:\\Users\\admin\\.julia\\v0.5\\Distributions\\src\\multivariate\\mvnormal.jl:283",
      " in fit(::Type{Distributions.MvNormal}, ::Array{Float64,2}) at C:\\Users\\admin\\.julia\\v0.5\\Distributions\\src\\genericfit.jl:14"
     ]
    }
   ],
   "source": [
    "norm_ten_F_s = fit(MvNormal, Array(df_train_ten_F_s)')  # Distribution for female\n",
    "norm_ten_M_s = fit(MvNormal, Array(df_train_ten_M_s)')  # Distribution for male\n",
    "maha_ten_M_s = pairwise(SqMahalanobis(norm_ten_M_s.Σ.mat), Array(df_test[:,1:10])', norm_ten_M_s.μ'')\n",
    "maha_ten_F_s = pairwise(SqMahalanobis(norm_ten_F_s.Σ.mat), Array(df_test[:,1:10])', norm_ten_F_s.μ'')\n",
    "predict_s = (maha_ten_M_s - maha_ten_F_s + log(det(norm_ten_M_s.Σ.mat)/det(norm_ten_F_s.Σ.mat))) .< 0  # true denotes \"M\"\n",
    "error_ten_s = sum(Array(df_test[:, :Sex] .== \"M\").!=predict_s)/length(predict_s)  # error rate"
   ]
  },
  {
   "cell_type": "code",
   "execution_count": 35,
   "metadata": {
    "collapsed": false
   },
   "outputs": [
    {
     "data": {
      "text/plain": [
       "FullNormal(\n",
       "dim: 10\n",
       "μ: [260.835,26.6754,50.9231,19.5046,161.462,169.385,60.6154,169.952,170.063,172.106]\n",
       "Σ: [142.691 42.2778 … 31.7083 -11.0887; 42.2778 89.7072 … 30.0205 0.587613; … ; 31.7083 30.0205 … 22.5894 1.8092; -11.0887 0.587613 … 1.8092 185.211]\n",
       ")\n"
      ]
     },
     "execution_count": 35,
     "metadata": {},
     "output_type": "execute_result"
    }
   ],
   "source": [
    "norm_ten_F_s = fit(MvNormal, Array(df_train_ten_F_s)')"
   ]
  },
  {
   "cell_type": "code",
   "execution_count": 36,
   "metadata": {
    "collapsed": false
   },
   "outputs": [
    {
     "data": {
      "text/plain": [
       "FullNormal(\n",
       "dim: 10\n",
       "μ: [268.056,27.1687,51.7457,19.3168,163.632,170.296,60.2682,170.209,170.268,177.989]\n",
       "Σ: [326.653 58.2935 … -6.59185 4.16711; 58.2935 48.575 … -2.10862 -0.566364; … ; -6.59185 -2.10862 … 27.0488 0.864371; 4.16711 -0.566364 … 0.864371 238.661]\n",
       ")\n"
      ]
     },
     "execution_count": 36,
     "metadata": {},
     "output_type": "execute_result"
    }
   ],
   "source": [
    "norm_ten_F_s = fit(MvNormal, Array(df_train_ten_F)')"
   ]
  },
  {
   "cell_type": "code",
   "execution_count": 40,
   "metadata": {
    "collapsed": false
   },
   "outputs": [
    {
     "name": "stderr",
     "output_type": "stream",
     "text": [
      "INFO: Cloning LDA from https://github.com/remusao/LDA.jl.git\n",
      "INFO: Computing changes...\n",
      "INFO: Cloning cache of Benchmark from https://github.com/johnmyleswhite/Benchmark.jl.git\n",
      "INFO: Cloning cache of ColorBrewer from https://github.com/timothyrenner/ColorBrewer.jl.git\n",
      "INFO: Cloning cache of FunctionalCollections from https://github.com/JuliaLang/FunctionalCollections.jl.git\n",
      "INFO: Cloning cache of NoveltyColors from https://github.com/randyzwitch/NoveltyColors.jl.git\n",
      "INFO: Cloning cache of Patchwork from https://github.com/shashi/Patchwork.jl.git\n",
      "INFO: Cloning cache of Vega from https://github.com/johnmyleswhite/Vega.jl.git\n",
      "INFO: Installing Benchmark v0.1.0\n",
      "INFO: Installing ColorBrewer v0.3.0\n",
      "INFO: Installing FunctionalCollections v0.2.0\n",
      "INFO: Installing NoveltyColors v0.3.0\n",
      "INFO: Installing Patchwork v0.3.0\n",
      "INFO: Installing Vega v0.6.8\n",
      "INFO: Building Rmath\n",
      "INFO: Updating METADATA...\n",
      "INFO: Updating cache of DataFrames...\n",
      "INFO: Updating cache of DataFrames...\n",
      "WARNING: Package LDA: skipping update (dirty)...\n",
      "INFO: Computing changes...\n",
      "INFO: No packages to install, update or remove\n"
     ]
    }
   ],
   "source": [
    "Pkg.clone(\"https://github.com/remusao/LDA.jl.git\")\n",
    "Pkg.update()"
   ]
  },
  {
   "cell_type": "code",
   "execution_count": 41,
   "metadata": {
    "collapsed": false
   },
   "outputs": [
    {
     "name": "stderr",
     "output_type": "stream",
     "text": [
      "INFO: Cloning LIBSVM from https://github.com/simonster/LIBSVM.jl.git\n",
      "INFO: Computing changes...\n",
      "INFO: No packages to install, update or remove\n",
      "INFO: Package database updated\n",
      "INFO: Updating METADATA...\n",
      "INFO: Updating cache of DataFrames...\n",
      "INFO: Cloning cache of LIBSVM from https://github.com/simonster/LIBSVM.jl.git\n",
      "INFO: Updating cache of DataFrames...\n",
      "INFO: Updating LIBSVM master...\n",
      "WARNING: Package LDA: skipping update (dirty)...\n",
      "INFO: Computing changes...\n",
      "INFO: No packages to install, update or remove\n"
     ]
    }
   ],
   "source": [
    "Pkg.clone(\"https://github.com/simonster/LIBSVM.jl.git\")\n",
    "Pkg.update()"
   ]
  },
  {
   "cell_type": "code",
   "execution_count": null,
   "metadata": {
    "collapsed": true
   },
   "outputs": [],
   "source": []
  }
 ],
 "metadata": {
  "kernelspec": {
   "display_name": "Julia 0.5.0",
   "language": "julia",
   "name": "julia-0.5"
  },
  "language_info": {
   "file_extension": ".jl",
   "mimetype": "application/julia",
   "name": "julia",
   "version": "0.5.0"
  }
 },
 "nbformat": 4,
 "nbformat_minor": 1
}
