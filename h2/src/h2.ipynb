{
 "cells": [
  {
   "cell_type": "markdown",
   "metadata": {},
   "source": [
    "# Pattern Recognition, Homework 2"
   ]
  },
  {
   "cell_type": "markdown",
   "metadata": {},
   "source": [
    "* **Author** Haonan Chen\n",
    "* **Date** 2016/10/22\n",
    "* **Language** [Julia](http://julialang.org/)"
   ]
  },
  {
   "cell_type": "markdown",
   "metadata": {},
   "source": [
    "## Read training and testing data"
   ]
  },
  {
   "cell_type": "markdown",
   "metadata": {},
   "source": [
    "Using `Pkg.add(package)` to install packages."
   ]
  },
  {
   "cell_type": "code",
   "execution_count": 65,
   "metadata": {
    "collapsed": false
   },
   "outputs": [],
   "source": [
    "using DataFrames\n",
    "using DataFramesMeta\n",
    "using Distributions"
   ]
  },
  {
   "cell_type": "code",
   "execution_count": null,
   "metadata": {
    "collapsed": false,
    "scrolled": true
   },
   "outputs": [],
   "source": [
    "df_train = readtable(\"dataset3.txt\", separator = '\\t')\n",
    "df_test = readtable(\"dataset4.txt\", separator = '\\t')\n",
    "names!(df_train, cat(1, [Symbol(\"F$i\") for i in 1:10],[Symbol(\"Sex\")]))  # assign a name to each column\n",
    "names!(df_test,  cat(1, [Symbol(\"F$i\") for i in 1:10],[Symbol(\"Sex\")]))\n",
    "df_test[df_test[:,:Sex].==\"f\",:Sex]=\"F\"\n",
    "head(df_train)"
   ]
  },
  {
   "cell_type": "code",
   "execution_count": null,
   "metadata": {
    "collapsed": false,
    "scrolled": true
   },
   "outputs": [],
   "source": [
    "describe(df_train)"
   ]
  },
  {
   "cell_type": "markdown",
   "metadata": {},
   "source": [
    "## Sex classification using 2 features"
   ]
  },
  {
   "cell_type": "markdown",
   "metadata": {},
   "source": [
    "Using `:F3` and `:F5` to do classification."
   ]
  },
  {
   "cell_type": "markdown",
   "metadata": {},
   "source": [
    "### Bayes classifier with minimum error"
   ]
  },
  {
   "cell_type": "markdown",
   "metadata": {},
   "source": [
    "Following procedure:\n",
    "\n",
    "* Fit Normal Distribution in each class in the training dataa to get parameters $\\mu_i$ and $\\Sigma_i$.\n",
    "* Decision boundary can be determined by\n",
    "$$\n",
    "    -\\frac12[(x-\\mu_i)^\\mathbf{T}\\Sigma_i^{-1}(x-\\mu_i)-(x-\\mu_j)^\\mathbf{T}\\Sigma_j^{-1}(x-\\mu_j)]-\\frac12\\ln \\frac{|\\Sigma_i|}{|\\Sigma_j|}+\\ln\\frac{P(\\omega_i)}{P(\\omega_j)}=0\n",
    "$$\n",
    "* Then we can make prediction on test set.\n",
    "\n",
    "Note that we are assuming the priori probability $P(\\omega_i)=P(\\omega_j)=0.5$, so the last item in the formular above can be ignored."
   ]
  },
  {
   "cell_type": "code",
   "execution_count": 119,
   "metadata": {
    "collapsed": false
   },
   "outputs": [
    {
     "data": {
      "text/plain": [
       "FullNormal(\n",
       "dim: 2\n",
       "μ: [51.7457,163.632]\n",
       "Σ: [39.2591 16.5807; 16.5807 30.053]\n",
       ")\n"
      ]
     },
     "execution_count": 119,
     "metadata": {},
     "output_type": "execute_result"
    }
   ],
   "source": [
    "# Distribution for female (female first)\n",
    "df_train_F = df_train[df_train[:,:Sex].==\"F\",[:F3,:F5]]\n",
    "d = fit(MvNormal, Array(df_train_F)')"
   ]
  },
  {
   "cell_type": "code",
   "execution_count": 122,
   "metadata": {
    "collapsed": false
   },
   "outputs": [
    {
     "data": {
      "text/plain": [
       "2×2 Array{Float64,2}:\n",
       " 39.2591  16.5807\n",
       " 16.5807  30.053 "
      ]
     },
     "execution_count": 122,
     "metadata": {},
     "output_type": "execute_result"
    }
   ],
   "source": [
    "# Distribution for male (male first)\n",
    "df_train_F = df_train[df_train[:,:Sex].==\"F\",[:F3,:F5]]\n",
    "d = fit(MvNormal, Array(df_train_F)')"
   ]
  },
  {
   "cell_type": "code",
   "execution_count": 93,
   "metadata": {
    "collapsed": false
   },
   "outputs": [
    {
     "data": {
      "text/plain": [
       "3×3 Array{Float64,2}:\n",
       " 1.0  1.0  1.0\n",
       " 1.0  1.0  1.0\n",
       " 1.0  1.0  1.0"
      ]
     },
     "execution_count": 93,
     "metadata": {},
     "output_type": "execute_result"
    }
   ],
   "source": [
    "Σ = ones(3,3)"
   ]
  },
  {
   "cell_type": "code",
   "execution_count": 111,
   "metadata": {
    "collapsed": false
   },
   "outputs": [
    {
     "data": {
      "text/plain": [
       "FullNormal(\n",
       "dim: 2\n",
       "μ: [51.7457,163.632]\n",
       "Σ: [39.2591 16.5807; 16.5807 30.053]\n",
       ")\n"
      ]
     },
     "execution_count": 111,
     "metadata": {},
     "output_type": "execute_result"
    }
   ],
   "source": [
    "fit(MvNormal, Array(df_train_F)')"
   ]
  },
  {
   "cell_type": "code",
   "execution_count": 117,
   "metadata": {
    "collapsed": false
   },
   "outputs": [
    {
     "data": {
      "text/html": [
       "<table class=\"data-frame\"><tr><th></th><th>F1</th><th>F2</th><th>F3</th><th>F4</th><th>F5</th><th>F6</th><th>F7</th><th>F8</th><th>F9</th><th>F10</th></tr><tr><th>1</th><td>240.25</td><td>16.81</td><td>41.0</td><td>17.07</td><td>155.0</td><td>170.0</td><td>51.0</td><td>162.71</td><td>165.05</td><td>160.38</td></tr><tr><th>2</th><td>249.64</td><td>17.64</td><td>42.0</td><td>16.82</td><td>158.0</td><td>176.0</td><td>60.0</td><td>160.3</td><td>161.27</td><td>168.75</td></tr><tr><th>3</th><td>265.69</td><td>30.25</td><td>55.0</td><td>20.7</td><td>163.0</td><td>172.0</td><td>64.0</td><td>184.24</td><td>169.06</td><td>173.31</td></tr><tr><th>4</th><td>252.81</td><td>21.16</td><td>46.0</td><td>18.2</td><td>159.0</td><td>160.0</td><td>72.0</td><td>182.67</td><td>174.44</td><td>153.37</td></tr><tr><th>5</th><td>289.0</td><td>25.0</td><td>50.0</td><td>17.3</td><td>170.0</td><td>167.0</td><td>70.0</td><td>198.68</td><td>170.79</td><td>176.13</td></tr><tr><th>6</th><td>295.84</td><td>24.01</td><td>49.0</td><td>16.56</td><td>172.0</td><td>180.0</td><td>68.0</td><td>175.48</td><td>168.16</td><td>184.83</td></tr><tr><th>7</th><td>278.89</td><td>26.01</td><td>51.0</td><td>18.29</td><td>167.0</td><td>155.0</td><td>65.0</td><td>170.13</td><td>167.75</td><td>154.12</td></tr><tr><th>8</th><td>249.64</td><td>19.36</td><td>44.0</td><td>17.63</td><td>158.0</td><td>171.0</td><td>60.0</td><td>162.38</td><td>167.69</td><td>198.73</td></tr><tr><th>9</th><td>289.0</td><td>28.09</td><td>53.0</td><td>18.34</td><td>170.0</td><td>166.0</td><td>51.0</td><td>170.74</td><td>165.71</td><td>172.34</td></tr><tr><th>10</th><td>285.61</td><td>39.69</td><td>63.0</td><td>22.06</td><td>169.0</td><td>158.0</td><td>50.0</td><td>183.8</td><td>161.8</td><td>194.4</td></tr><tr><th>11</th><td>272.25</td><td>40.32</td><td>63.5</td><td>23.32</td><td>165.0</td><td>200.0</td><td>61.0</td><td>183.14</td><td>167.96</td><td>174.78</td></tr><tr><th>12</th><td>272.25</td><td>24.01</td><td>49.0</td><td>18.0</td><td>165.0</td><td>166.0</td><td>52.0</td><td>171.74</td><td>171.28</td><td>159.94</td></tr><tr><th>13</th><td>282.24</td><td>26.01</td><td>51.0</td><td>18.07</td><td>168.0</td><td>166.0</td><td>50.0</td><td>158.66</td><td>168.01</td><td>159.04</td></tr><tr><th>14</th><td>240.25</td><td>25.0</td><td>50.0</td><td>20.81</td><td>155.0</td><td>168.0</td><td>60.0</td><td>173.96</td><td>174.45</td><td>187.03</td></tr><tr><th>15</th><td>285.61</td><td>25.0</td><td>50.0</td><td>17.51</td><td>169.0</td><td>178.0</td><td>65.0</td><td>157.02</td><td>176.77</td><td>166.54</td></tr><tr><th>16</th><td>256.0</td><td>21.16</td><td>46.0</td><td>17.97</td><td>160.0</td><td>180.0</td><td>55.0</td><td>146.76</td><td>166.58</td><td>155.2</td></tr><tr><th>17</th><td>265.69</td><td>24.01</td><td>49.0</td><td>18.44</td><td>163.0</td><td>165.0</td><td>51.0</td><td>176.89</td><td>167.72</td><td>186.91</td></tr><tr><th>18</th><td>272.25</td><td>19.36</td><td>44.0</td><td>16.16</td><td>165.0</td><td>160.0</td><td>58.0</td><td>173.23</td><td>172.48</td><td>171.18</td></tr><tr><th>19</th><td>275.56</td><td>30.25</td><td>55.0</td><td>19.96</td><td>166.0</td><td>162.0</td><td>75.0</td><td>161.13</td><td>176.92</td><td>204.48</td></tr><tr><th>20</th><td>265.69</td><td>18.49</td><td>43.0</td><td>16.18</td><td>163.0</td><td>177.0</td><td>61.0</td><td>190.24</td><td>169.96</td><td>190.74</td></tr><tr><th>21</th><td>282.24</td><td>27.04</td><td>52.0</td><td>18.42</td><td>168.0</td><td>168.0</td><td>53.0</td><td>162.34</td><td>163.91</td><td>148.22</td></tr><tr><th>22</th><td>252.81</td><td>25.0</td><td>50.0</td><td>19.78</td><td>159.0</td><td>175.0</td><td>62.0</td><td>166.79</td><td>167.52</td><td>162.86</td></tr><tr><th>23</th><td>262.44</td><td>29.16</td><td>54.0</td><td>20.58</td><td>162.0</td><td>161.0</td><td>52.5</td><td>156.54</td><td>170.85</td><td>166.83</td></tr><tr><th>24</th><td>278.89</td><td>27.04</td><td>52.0</td><td>18.65</td><td>167.0</td><td>167.0</td><td>67.0</td><td>179.26</td><td>168.01</td><td>178.1</td></tr><tr><th>25</th><td>240.25</td><td>21.16</td><td>46.0</td><td>19.15</td><td>155.0</td><td>178.0</td><td>45.0</td><td>165.11</td><td>168.48</td><td>182.38</td></tr><tr><th>26</th><td>275.56</td><td>29.16</td><td>54.0</td><td>19.6</td><td>166.0</td><td>165.0</td><td>51.0</td><td>164.62</td><td>176.1</td><td>171.55</td></tr><tr><th>27</th><td>249.64</td><td>28.09</td><td>53.0</td><td>21.23</td><td>158.0</td><td>177.0</td><td>49.0</td><td>161.7</td><td>172.75</td><td>182.68</td></tr><tr><th>28</th><td>265.69</td><td>33.64</td><td>58.0</td><td>21.83</td><td>163.0</td><td>160.0</td><td>66.0</td><td>167.94</td><td>170.03</td><td>161.61</td></tr><tr><th>29</th><td>275.56</td><td>25.0</td><td>50.0</td><td>18.14</td><td>166.0</td><td>175.0</td><td>63.0</td><td>167.47</td><td>173.09</td><td>171.74</td></tr><tr><th>30</th><td>272.25</td><td>23.04</td><td>48.0</td><td>17.63</td><td>165.0</td><td>175.0</td><td>50.0</td><td>180.16</td><td>167.9</td><td>183.67</td></tr><tr><th>&vellip;</th><td>&vellip;</td><td>&vellip;</td><td>&vellip;</td><td>&vellip;</td><td>&vellip;</td><td>&vellip;</td><td>&vellip;</td><td>&vellip;</td><td>&vellip;</td><td>&vellip;</td></tr></table>"
      ],
      "text/plain": [
       "953×10 DataFrames.DataFrame\n",
       "│ Row │ F1     │ F2    │ F3   │ F4    │ F5    │ F6    │ F7   │ F8     │ F9     │\n",
       "├─────┼────────┼───────┼──────┼───────┼───────┼───────┼──────┼────────┼────────┤\n",
       "│ 1   │ 240.25 │ 16.81 │ 41.0 │ 17.07 │ 155.0 │ 170.0 │ 51.0 │ 162.71 │ 165.05 │\n",
       "│ 2   │ 249.64 │ 17.64 │ 42.0 │ 16.82 │ 158.0 │ 176.0 │ 60.0 │ 160.3  │ 161.27 │\n",
       "│ 3   │ 265.69 │ 30.25 │ 55.0 │ 20.7  │ 163.0 │ 172.0 │ 64.0 │ 184.24 │ 169.06 │\n",
       "│ 4   │ 252.81 │ 21.16 │ 46.0 │ 18.2  │ 159.0 │ 160.0 │ 72.0 │ 182.67 │ 174.44 │\n",
       "│ 5   │ 289.0  │ 25.0  │ 50.0 │ 17.3  │ 170.0 │ 167.0 │ 70.0 │ 198.68 │ 170.79 │\n",
       "│ 6   │ 295.84 │ 24.01 │ 49.0 │ 16.56 │ 172.0 │ 180.0 │ 68.0 │ 175.48 │ 168.16 │\n",
       "│ 7   │ 278.89 │ 26.01 │ 51.0 │ 18.29 │ 167.0 │ 155.0 │ 65.0 │ 170.13 │ 167.75 │\n",
       "│ 8   │ 249.64 │ 19.36 │ 44.0 │ 17.63 │ 158.0 │ 171.0 │ 60.0 │ 162.38 │ 167.69 │\n",
       "│ 9   │ 289.0  │ 28.09 │ 53.0 │ 18.34 │ 170.0 │ 166.0 │ 51.0 │ 170.74 │ 165.71 │\n",
       "│ 10  │ 285.61 │ 39.69 │ 63.0 │ 22.06 │ 169.0 │ 158.0 │ 50.0 │ 183.8  │ 161.8  │\n",
       "│ 11  │ 272.25 │ 40.32 │ 63.5 │ 23.32 │ 165.0 │ 200.0 │ 61.0 │ 183.14 │ 167.96 │\n",
       "⋮\n",
       "│ 942 │ 342.25 │ 62.41 │ 79.0 │ 23.08 │ 185.0 │ 175.0 │ 72.0 │ 170.85 │ 169.35 │\n",
       "│ 943 │ 292.41 │ 44.89 │ 67.0 │ 22.91 │ 171.0 │ 171.0 │ 67.0 │ 179.01 │ 172.52 │\n",
       "│ 944 │ 282.24 │ 46.24 │ 68.0 │ 24.09 │ 168.0 │ 165.0 │ 63.0 │ 151.88 │ 166.04 │\n",
       "│ 945 │ 313.29 │ 39.69 │ 63.0 │ 20.11 │ 177.0 │ 180.0 │ 66.0 │ 183.77 │ 166.29 │\n",
       "│ 946 │ 327.61 │ 49.0  │ 70.0 │ 21.37 │ 181.0 │ 195.0 │ 46.0 │ 190.4  │ 169.11 │\n",
       "│ 947 │ 324.0  │ 46.24 │ 68.0 │ 20.99 │ 180.0 │ 178.0 │ 82.0 │ 174.82 │ 174.43 │\n",
       "│ 948 │ 324.0  │ 54.76 │ 74.0 │ 22.84 │ 180.0 │ 158.0 │ 55.0 │ 182.06 │ 164.02 │\n",
       "│ 949 │ 302.76 │ 49.0  │ 70.0 │ 23.12 │ 174.0 │ 185.0 │ 54.0 │ 160.61 │ 172.44 │\n",
       "│ 950 │ 345.96 │ 64.0  │ 80.0 │ 23.12 │ 186.0 │ 176.0 │ 62.0 │ 166.52 │ 170.33 │\n",
       "│ 951 │ 299.29 │ 24.01 │ 49.0 │ 16.37 │ 173.0 │ 162.0 │ 49.0 │ 175.17 │ 166.41 │\n",
       "│ 952 │ 320.41 │ 29.16 │ 54.0 │ 16.85 │ 179.0 │ 176.0 │ 55.0 │ 166.79 │ 167.29 │\n",
       "│ 953 │ 316.84 │ 45.56 │ 67.5 │ 21.3  │ 178.0 │ 160.0 │ 60.0 │ 170.68 │ 160.79 │\n",
       "\n",
       "│ Row │ F10    │\n",
       "├─────┼────────┤\n",
       "│ 1   │ 160.38 │\n",
       "│ 2   │ 168.75 │\n",
       "│ 3   │ 173.31 │\n",
       "│ 4   │ 153.37 │\n",
       "│ 5   │ 176.13 │\n",
       "│ 6   │ 184.83 │\n",
       "│ 7   │ 154.12 │\n",
       "│ 8   │ 198.73 │\n",
       "│ 9   │ 172.34 │\n",
       "│ 10  │ 194.4  │\n",
       "│ 11  │ 174.78 │\n",
       "⋮\n",
       "│ 942 │ 183.29 │\n",
       "│ 943 │ 198.73 │\n",
       "│ 944 │ 152.68 │\n",
       "│ 945 │ 158.49 │\n",
       "│ 946 │ 165.45 │\n",
       "│ 947 │ 151.07 │\n",
       "│ 948 │ 185.37 │\n",
       "│ 949 │ 157.02 │\n",
       "│ 950 │ 178.5  │\n",
       "│ 951 │ 204.77 │\n",
       "│ 952 │ 167.16 │\n",
       "│ 953 │ 166.11 │"
      ]
     },
     "execution_count": 117,
     "metadata": {},
     "output_type": "execute_result"
    }
   ],
   "source": [
    "df_train[:,1:10]"
   ]
  },
  {
   "cell_type": "code",
   "execution_count": null,
   "metadata": {
    "collapsed": true
   },
   "outputs": [],
   "source": []
  }
 ],
 "metadata": {
  "kernelspec": {
   "display_name": "Julia 0.5.0",
   "language": "julia",
   "name": "julia-0.5"
  },
  "language_info": {
   "file_extension": ".jl",
   "mimetype": "application/julia",
   "name": "julia",
   "version": "0.5.0"
  }
 },
 "nbformat": 4,
 "nbformat_minor": 1
}
