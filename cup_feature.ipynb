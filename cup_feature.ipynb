{
 "cells": [
  {
   "cell_type": "markdown",
   "metadata": {},
   "source": [
    "# Cup classification with pre-extracted feature\n",
    "* **Date** 11/28/2016\n",
    "* **Author** [Haonan Chen](https://chaonan99.github.io/)\n",
    "* **Student No.** 2013011449\n",
    "* **Class** 32"
   ]
  },
  {
   "cell_type": "markdown",
   "metadata": {},
   "source": [
    "## Highlight\n",
    "* Multi classifier\n",
    "* Select different number of features\n",
    "* P-value based feature selection\n",
    "* Model based feature selection\n",
    "* PCA decomposition"
   ]
  },
  {
   "cell_type": "code",
   "execution_count": 1,
   "metadata": {
    "collapsed": true
   },
   "outputs": [],
   "source": [
    "from sklearn.neural_network import MLPClassifier\n",
    "from sklearn.discriminant_analysis import LinearDiscriminantAnalysis\n",
    "from sklearn.svm import SVC, LinearSVC\n",
    "from sklearn.naive_bayes import GaussianNB\n",
    "from sklearn.preprocessing import StandardScaler, LabelEncoder\n",
    "from sklearn.feature_selection import *\n",
    "from sklearn.linear_model import LogisticRegression, LassoCV\n",
    "from sklearn.ensemble import ExtraTreesClassifier\n",
    "from sklearn.metrics import accuracy_score\n",
    "from sklearn.decomposition import PCA\n",
    "import numpy as np\n",
    "import pickle\n",
    "import pandas as pd\n",
    "import matplotlib.pyplot as plt"
   ]
  },
  {
   "cell_type": "code",
   "execution_count": 4,
   "metadata": {
    "collapsed": false
   },
   "outputs": [],
   "source": [
    "def read_pickle(file_path):\n",
    "    with open(file_path, \"rb\") as fin:\n",
    "        return pickle.load(fin)\n",
    "    return None\n",
    "X_train_raw, y_train = read_pickle(\"train_forstu.pickle\")\n",
    "X_test_raw, y_test = read_pickle(\"valid_forstu.pickle\")"
   ]
  },
  {
   "cell_type": "code",
   "execution_count": 10,
   "metadata": {
    "collapsed": false
   },
   "outputs": [],
   "source": [
    "classifier_names = [\"Bayes\", \"LDA\", \"LSVM\", \"RBF SVM\", \"MLP\", \"DTree\"]\n",
    "classifiers = [\n",
    "    GaussianNB(),\n",
    "    LinearDiscriminantAnalysis(),\n",
    "    LinearSVC(C=0.025),\n",
    "    SVC(gamma=0.001, C=100),\n",
    "    MLPClassifier(alpha=1e-5, hidden_layer_sizes=256, random_state=1, max_iter=3000),\n",
    "    ExtraTreesClassifier(),\n",
    "]\n",
    "selectors = [\n",
    "#     number of feature experiment\n",
    "    SelectKBest(f_classif, k=256),  # Actually an empty selector\n",
    "#     SelectKBest(f_classif, k=8),\n",
    "#     SelectKBest(f_classif, k=7),\n",
    "#     SelectKBest(f_classif, k=6),\n",
    "#     SelectKBest(f_classif, k=5),\n",
    "#     SelectKBest(f_classif, k=4),\n",
    "#     SelectKBest(f_classif, k=3),\n",
    "#     SelectKBest(f_classif, k=2),\n",
    "#     SelectKBest(f_classif, k=1),\n",
    "#     p-value experiment\n",
    "    SelectKBest(chi2, k=100),\n",
    "    SelectKBest(f_classif, k=100),\n",
    "    SelectKBest(mutual_info_classif, k=100),\n",
    "#     RFE(LogisticRegression(), 3),\n",
    "#     RFE(LinearSVC(C=0.005), 3),\n",
    "#     RFE(LinearSVC(C=0.005, penalty=\"l1\", dual=False), 3),\n",
    "#     RFE(ExtraTreesClassifier(), 3),\n",
    "#     SelectFromModel(LogisticRegression()),\n",
    "#     SelectFromModel(LinearSVC(C=0.005)),\n",
    "#     SelectFromModel(LinearSVC(C=0.005, penalty=\"l1\", dual=False)),\n",
    "#     SelectFromModel(ExtraTreesClassifier()),\n",
    "]\n",
    "\n",
    "def do_prediction(clf, X_train, X_test, y_train, y_test):\n",
    "    scaler = StandardScaler()\n",
    "    scaler.fit(X_train)\n",
    "    X_train = scaler.transform(X_train)\n",
    "    X_test = scaler.transform(X_test)\n",
    "    clf.fit(X_train, y_train)\n",
    "    return accuracy_score(clf.predict(X_test), y_test)\n",
    "\n",
    "def do_selection_and_prediction(sel, clf, X_train, X_test, y_train, y_test):\n",
    "    sel.fit(X_train, y_train)\n",
    "    return do_prediction(clf, sel.transform(X_train), sel.transform(X_test), y_train, y_test)"
   ]
  },
  {
   "cell_type": "code",
   "execution_count": 11,
   "metadata": {
    "collapsed": false
   },
   "outputs": [
    {
     "name": "stdout",
     "output_type": "stream",
     "text": [
      "Training accuracy\n"
     ]
    },
    {
     "data": {
      "text/html": [
       "<div>\n",
       "<table border=\"1\" class=\"dataframe\">\n",
       "  <thead>\n",
       "    <tr style=\"text-align: right;\">\n",
       "      <th></th>\n",
       "      <th>Bayes</th>\n",
       "      <th>LDA</th>\n",
       "      <th>LSVM</th>\n",
       "      <th>RBF SVM</th>\n",
       "      <th>MLP</th>\n",
       "      <th>DTree</th>\n",
       "    </tr>\n",
       "  </thead>\n",
       "  <tbody>\n",
       "    <tr>\n",
       "      <th>0</th>\n",
       "      <td>73.85%</td>\n",
       "      <td>89.67%</td>\n",
       "      <td>94.96%</td>\n",
       "      <td>99.79%</td>\n",
       "      <td>99.79%</td>\n",
       "      <td>99.82%</td>\n",
       "    </tr>\n",
       "    <tr>\n",
       "      <th>1</th>\n",
       "      <td>68.78%</td>\n",
       "      <td>78.75%</td>\n",
       "      <td>82.60%</td>\n",
       "      <td>96.22%</td>\n",
       "      <td>99.79%</td>\n",
       "      <td>99.82%</td>\n",
       "    </tr>\n",
       "    <tr>\n",
       "      <th>2</th>\n",
       "      <td>69.34%</td>\n",
       "      <td>78.61%</td>\n",
       "      <td>82.74%</td>\n",
       "      <td>96.29%</td>\n",
       "      <td>99.79%</td>\n",
       "      <td>99.82%</td>\n",
       "    </tr>\n",
       "    <tr>\n",
       "      <th>3</th>\n",
       "      <td>68.08%</td>\n",
       "      <td>76.86%</td>\n",
       "      <td>81.13%</td>\n",
       "      <td>96.95%</td>\n",
       "      <td>99.79%</td>\n",
       "      <td>99.82%</td>\n",
       "    </tr>\n",
       "  </tbody>\n",
       "</table>\n",
       "</div>"
      ],
      "text/plain": [
       "    Bayes     LDA    LSVM RBF SVM     MLP   DTree\n",
       "0  73.85%  89.67%  94.96%  99.79%  99.79%  99.82%\n",
       "1  68.78%  78.75%  82.60%  96.22%  99.79%  99.82%\n",
       "2  69.34%  78.61%  82.74%  96.29%  99.79%  99.82%\n",
       "3  68.08%  76.86%  81.13%  96.95%  99.79%  99.82%"
      ]
     },
     "execution_count": 11,
     "metadata": {},
     "output_type": "execute_result"
    }
   ],
   "source": [
    "print(\"Training accuracy\")\n",
    "train_res = pd.DataFrame([[\"{0:.2f}%\".format(do_selection_and_prediction(sel, clf, X_train_raw,\n",
    "            X_train_raw, y_train, y_train)*100) for clf in classifiers] for sel in selectors],\n",
    "            columns=classifier_names)\n",
    "train_res"
   ]
  },
  {
   "cell_type": "code",
   "execution_count": 12,
   "metadata": {
    "collapsed": false
   },
   "outputs": [
    {
     "name": "stdout",
     "output_type": "stream",
     "text": [
      "Test accuracy\n"
     ]
    },
    {
     "data": {
      "text/html": [
       "<div>\n",
       "<table border=\"1\" class=\"dataframe\">\n",
       "  <thead>\n",
       "    <tr style=\"text-align: right;\">\n",
       "      <th></th>\n",
       "      <th>Bayes</th>\n",
       "      <th>LDA</th>\n",
       "      <th>LSVM</th>\n",
       "      <th>RBF SVM</th>\n",
       "      <th>MLP</th>\n",
       "      <th>DTree</th>\n",
       "    </tr>\n",
       "  </thead>\n",
       "  <tbody>\n",
       "    <tr>\n",
       "      <th>0</th>\n",
       "      <td>58.78%</td>\n",
       "      <td>74.48%</td>\n",
       "      <td>76.46%</td>\n",
       "      <td>76.24%</td>\n",
       "      <td>81.55%</td>\n",
       "      <td>53.92%</td>\n",
       "    </tr>\n",
       "    <tr>\n",
       "      <th>1</th>\n",
       "      <td>52.60%</td>\n",
       "      <td>64.42%</td>\n",
       "      <td>68.07%</td>\n",
       "      <td>67.40%</td>\n",
       "      <td>72.15%</td>\n",
       "      <td>53.92%</td>\n",
       "    </tr>\n",
       "    <tr>\n",
       "      <th>2</th>\n",
       "      <td>55.47%</td>\n",
       "      <td>64.20%</td>\n",
       "      <td>67.40%</td>\n",
       "      <td>69.39%</td>\n",
       "      <td>70.39%</td>\n",
       "      <td>56.13%</td>\n",
       "    </tr>\n",
       "    <tr>\n",
       "      <th>3</th>\n",
       "      <td>52.82%</td>\n",
       "      <td>62.65%</td>\n",
       "      <td>68.62%</td>\n",
       "      <td>66.85%</td>\n",
       "      <td>74.70%</td>\n",
       "      <td>52.82%</td>\n",
       "    </tr>\n",
       "  </tbody>\n",
       "</table>\n",
       "</div>"
      ],
      "text/plain": [
       "    Bayes     LDA    LSVM RBF SVM     MLP   DTree\n",
       "0  58.78%  74.48%  76.46%  76.24%  81.55%  53.92%\n",
       "1  52.60%  64.42%  68.07%  67.40%  72.15%  53.92%\n",
       "2  55.47%  64.20%  67.40%  69.39%  70.39%  56.13%\n",
       "3  52.82%  62.65%  68.62%  66.85%  74.70%  52.82%"
      ]
     },
     "execution_count": 12,
     "metadata": {},
     "output_type": "execute_result"
    }
   ],
   "source": [
    "print(\"Test accuracy\")\n",
    "test_res = pd.DataFrame([[\"{0:.2f}%\".format(do_selection_and_prediction(sel, clf, X_train_raw,\n",
    "            X_test_raw, y_train, y_test)*100) for clf in classifiers] for sel in selectors],\n",
    "            columns=classifier_names)\n",
    "test_res"
   ]
  },
  {
   "cell_type": "code",
   "execution_count": 14,
   "metadata": {
    "collapsed": false
   },
   "outputs": [
    {
     "data": {
      "text/html": [
       "<div>\n",
       "<table border=\"1\" class=\"dataframe\">\n",
       "  <thead>\n",
       "    <tr style=\"text-align: right;\">\n",
       "      <th></th>\n",
       "      <th>Bayes</th>\n",
       "      <th>LDA</th>\n",
       "      <th>LSVM</th>\n",
       "      <th>RBF SVM</th>\n",
       "      <th>MLP</th>\n",
       "      <th>DTree</th>\n",
       "    </tr>\n",
       "  </thead>\n",
       "  <tbody>\n",
       "    <tr>\n",
       "      <th>train</th>\n",
       "      <td>64.37%</td>\n",
       "      <td>87.68%</td>\n",
       "      <td>92.33%</td>\n",
       "      <td>99.79%</td>\n",
       "      <td>99.79%</td>\n",
       "      <td>99.82%</td>\n",
       "    </tr>\n",
       "    <tr>\n",
       "      <th>test</th>\n",
       "      <td>48.40%</td>\n",
       "      <td>72.93%</td>\n",
       "      <td>76.24%</td>\n",
       "      <td>72.93%</td>\n",
       "      <td>76.35%</td>\n",
       "      <td>41.10%</td>\n",
       "    </tr>\n",
       "  </tbody>\n",
       "</table>\n",
       "</div>"
      ],
      "text/plain": [
       "        Bayes     LDA    LSVM RBF SVM     MLP   DTree\n",
       "train  64.37%  87.68%  92.33%  99.79%  99.79%  99.82%\n",
       "test   48.40%  72.93%  76.24%  72.93%  76.35%  41.10%"
      ]
     },
     "execution_count": 14,
     "metadata": {},
     "output_type": "execute_result"
    }
   ],
   "source": [
    "pca = PCA(n_components=200)\n",
    "pca.fit(X_train_raw)\n",
    "X_train = pca.transform(X_train_raw)\n",
    "X_test = pca.transform(X_test_raw)\n",
    "pca_res = pd.DataFrame([[\"{0:.2f}%\".format(do_prediction(clf, X_train,\n",
    "            X_train, y_train, y_train)*100) for clf in classifiers],\n",
    "            [\"{0:.2f}%\".format(do_prediction(clf, X_train,\n",
    "            X_test, y_train, y_test)*100) for clf in classifiers]], index=[\"train\", \"test\"], columns=classifier_names)\n",
    "# pca_res.to_latex(\"tmp.tex\")\n",
    "pca_res"
   ]
  },
  {
   "cell_type": "code",
   "execution_count": 17,
   "metadata": {
    "collapsed": false
   },
   "outputs": [],
   "source": [
    "test_res.to_latex(\"doc/tmp.tex\")"
   ]
  }
 ],
 "metadata": {
  "kernelspec": {
   "display_name": "Python 2",
   "language": "python",
   "name": "python2"
  },
  "language_info": {
   "codemirror_mode": {
    "name": "ipython",
    "version": 2
   },
   "file_extension": ".py",
   "mimetype": "text/x-python",
   "name": "python",
   "nbconvert_exporter": "python",
   "pygments_lexer": "ipython2",
   "version": "2.7.11"
  }
 },
 "nbformat": 4,
 "nbformat_minor": 1
}
